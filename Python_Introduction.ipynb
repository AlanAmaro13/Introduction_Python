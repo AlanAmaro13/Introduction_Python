{
  "nbformat": 4,
  "nbformat_minor": 0,
  "metadata": {
    "colab": {
      "provenance": [],
      "collapsed_sections": [
        "MhQDtUeQRB3a",
        "arWVVbp_IMXl",
        "FyayeIVOqJKV",
        "6M2_D03R8L66"
      ],
      "toc_visible": true,
      "include_colab_link": true
    },
    "kernelspec": {
      "name": "python3",
      "display_name": "Python 3"
    },
    "language_info": {
      "name": "python"
    }
  },
  "cells": [
    {
      "cell_type": "markdown",
      "metadata": {
        "id": "view-in-github",
        "colab_type": "text"
      },
      "source": [
        "<a href=\"https://colab.research.google.com/github/AlanAmaro13/Introduction_Python/blob/main/Python_Introduction.ipynb\" target=\"_parent\"><img src=\"https://colab.research.google.com/assets/colab-badge.svg\" alt=\"Open In Colab\"/></a>"
      ]
    },
    {
      "cell_type": "markdown",
      "source": [
        "# Sesión 1: Comentarios e historia"
      ],
      "metadata": {
        "id": "XWT9Qqwm-Sd8"
      }
    },
    {
      "cell_type": "markdown",
      "source": [
        "***21 de noviembre del 2022:*** Este es la primer sesión que tomaré del curso W3School sobre Python.\n",
        "\n",
        "Python fue creado en 1991 por Guido van Rossum. Es un lenguaje de tipo Interprete, por ende, su ejecución se realiza en tiempo real.\n",
        "\n",
        "Durante la instalación es importante incorporar Python al Path, para ejecutar los codigos mediante el CMD.\n",
        "\n"
      ],
      "metadata": {
        "id": "vtrli4VM20ci"
      }
    },
    {
      "cell_type": "code",
      "source": [
        "print(\"Hola Mundo!\")"
      ],
      "metadata": {
        "colab": {
          "base_uri": "https://localhost:8080/"
        },
        "id": "wzdzuDyV5Yy6",
        "outputId": "3f3014e3-56d1-4590-c07c-1c4343fc45ae"
      },
      "execution_count": null,
      "outputs": [
        {
          "output_type": "stream",
          "name": "stdout",
          "text": [
            "Hola Mundo!\n"
          ]
        }
      ]
    },
    {
      "cell_type": "markdown",
      "source": [
        "La indentación corresponde a los espacios entre las líneas de código. En Java la indentación no es vital para la ejecución del código, mientras que en Python sí lo es. Debido a que en Java se cierran parte de las instrucciones con llaves.\n",
        "\n",
        "En Python la indentación indica un bloque de código.\n",
        "\n",
        "El número de espacios es una decisión de cada programador, el común son 4 espacios y el mínimo es un espacio."
      ],
      "metadata": {
        "id": "4MJPJ9i57J3s"
      }
    },
    {
      "cell_type": "markdown",
      "source": [
        "Las variables son creadas cuando se les asigna un valor, como tal, **en Python no es necesario declarar el tipo de variable**.\n",
        "\n"
      ],
      "metadata": {
        "id": "4R-MGjR475tR"
      }
    },
    {
      "cell_type": "markdown",
      "source": [
        "Los comentarios son declarados a partir de # para la documentación In-Code. Los comentarios son usados para explicar el código, evitar la ejecución de un bloque de código o para realizar un código más legible.\n",
        "\n",
        "Los comentarios se pueden colocar antes de la línea o junto a la línea.\n"
      ],
      "metadata": {
        "id": "XgRgW3Un8OIM"
      }
    },
    {
      "cell_type": "code",
      "source": [
        "#Este es un comentario\n",
        "\n",
        "print(\"This is a sentence\") # This is a comment"
      ],
      "metadata": {
        "colab": {
          "base_uri": "https://localhost:8080/"
        },
        "id": "o_SpGj1K8tnd",
        "outputId": "00c39b6a-7f33-487e-990e-fe370397a823"
      },
      "execution_count": null,
      "outputs": [
        {
          "output_type": "stream",
          "name": "stdout",
          "text": [
            "This is a sentence\n"
          ]
        }
      ]
    },
    {
      "cell_type": "markdown",
      "source": [
        "Python no cuenta con una forma de declarar comentarios multilinea, de manera que puede agregarse un # a cada comentario. O la manera más usada que consisten en tres comillas, debido a que Python las tomará como un texto que no se ha asignado a una variable."
      ],
      "metadata": {
        "id": "h0lw2kL481qS"
      }
    },
    {
      "cell_type": "code",
      "source": [
        "'''\n",
        "This\n",
        "is\n",
        "a\n",
        "comment\n",
        "'''\n",
        "print(\"Hi!\")"
      ],
      "metadata": {
        "colab": {
          "base_uri": "https://localhost:8080/"
        },
        "id": "mN7PE1Yr9P80",
        "outputId": "a58a9403-11de-4774-eea6-3d979aa87293"
      },
      "execution_count": null,
      "outputs": [
        {
          "output_type": "stream",
          "name": "stdout",
          "text": [
            "Hi!\n"
          ]
        }
      ]
    },
    {
      "cell_type": "markdown",
      "source": [
        "## Variables y la función Print()"
      ],
      "metadata": {
        "id": "6Q08PplnE9hp"
      }
    },
    {
      "cell_type": "markdown",
      "source": [
        "Las variables son contenedores para almacenar datos. La forma de declararlas es la siguiente:\n"
      ],
      "metadata": {
        "id": "19vKzaKa9YRq"
      }
    },
    {
      "cell_type": "code",
      "source": [
        "t = \"Text\"\n",
        "\n",
        "n = 5"
      ],
      "metadata": {
        "id": "YBS8ssTlBR9-"
      },
      "execution_count": null,
      "outputs": []
    },
    {
      "cell_type": "markdown",
      "source": [
        "Donde las variables pueden cambiar de Tipo incluso después de ser declaradas. Donde los tipos más usuales son Entero (int), de texto (str), con decimal (float), de número complejo o booleano. Donde para específicar qué tipo de variable es o para convertirla de un tipo a otro usamos:\n"
      ],
      "metadata": {
        "id": "e9QzcH10Ba9s"
      }
    },
    {
      "cell_type": "code",
      "source": [
        "x = str(3)\n",
        "y = int(3)\n",
        "z = float(3)\n",
        "\n",
        "print(type(z)) #Indica el tipo de variable."
      ],
      "metadata": {
        "colab": {
          "base_uri": "https://localhost:8080/"
        },
        "id": "LO2u8Gl4B_j2",
        "outputId": "9c9c276d-2860-4610-958e-a5605cd13344"
      },
      "execution_count": null,
      "outputs": [
        {
          "output_type": "stream",
          "name": "stdout",
          "text": [
            "<class 'float'>\n"
          ]
        }
      ]
    },
    {
      "cell_type": "markdown",
      "source": [
        "Notese que las variables de tipo String pueden definirse usando comillas simples o dobles. Para declarar el nombre de una variable es necesario comenzar siempre con una letra y **nunca con un número**. Igual de importante es el nunca separar su nombre con espacios, ni con el uso de -.\n",
        "\n",
        "**Las variables pueden tener un nombre significativamente largo**, como nombre, edad, profesion, etc. No es necesario comenzarlas solo con una letra.\n",
        "\n",
        "Las formas de expresar variables largas corresponden a: Camel, Pascal, Snake case. Donde en Camel únicamente la inicial es mínuscula, en Pascal desde la inicial es Mayúscula y Snake usa _\n",
        "\n",
        "Python permite la multiasignación de valores en una sola línea de código de la siguiente forma:\n"
      ],
      "metadata": {
        "id": "IS8U3GExCFUz"
      }
    },
    {
      "cell_type": "code",
      "source": [
        "x, y, z = 'rojo', 'azul', 'verde'\n",
        "\n",
        "print(x)\n",
        "print(y)\n",
        "print(z)\n",
        "#Asegura que la cantidad de variables y valores sea el mismo.\n",
        "\n",
        "# A su vez, se puede asignar el mismo valor a una variable de la siguiente forma:\n",
        "a = b = c = 0"
      ],
      "metadata": {
        "colab": {
          "base_uri": "https://localhost:8080/"
        },
        "id": "l5Rsrz7xD1OG",
        "outputId": "23eaff0f-a948-4735-a0ad-ef75847d7888"
      },
      "execution_count": null,
      "outputs": [
        {
          "output_type": "stream",
          "name": "stdout",
          "text": [
            "rojo\n",
            "azul\n",
            "verde\n"
          ]
        }
      ]
    },
    {
      "cell_type": "markdown",
      "source": [
        "Quizá lo más importante de este repaso de variables es Unpacking, que es una forma de extraer los valores de una lista en una serie de variables de la siguiente forma:"
      ],
      "metadata": {
        "id": "PemmdnW_EE3h"
      }
    },
    {
      "cell_type": "code",
      "source": [
        "fruits = [1, 2, 3, 'Hola' ]\n",
        "\n",
        "x,y,z,h = fruits\n",
        "\n",
        "print(x)\n",
        "print(h)"
      ],
      "metadata": {
        "colab": {
          "base_uri": "https://localhost:8080/"
        },
        "id": "Vr7rbIRrEnG1",
        "outputId": "bc933dde-a986-4712-a701-94384f8095c6"
      },
      "execution_count": null,
      "outputs": [
        {
          "output_type": "stream",
          "name": "stdout",
          "text": [
            "1\n",
            "Hola\n"
          ]
        }
      ]
    },
    {
      "cell_type": "markdown",
      "source": [
        "Para imprimir la salida de datos se usa la función Print(), donde la concatenación de datos se hace mediante comas.\n",
        "\n",
        "Puede usarse +, pero al combinar datos de tipo int y string se obtendrá un error. De manera que la forma más eficaz de realizarlo es por medio de comas."
      ],
      "metadata": {
        "id": "wjxKF-SsE5PZ"
      }
    },
    {
      "cell_type": "code",
      "source": [
        "x = \"Python\"\n",
        "y = \"is\"\n",
        "z = \"awesome\"\n",
        "h = 5\n",
        "print(x, y, z, h)"
      ],
      "metadata": {
        "colab": {
          "base_uri": "https://localhost:8080/"
        },
        "id": "UDGQGB82Fsj9",
        "outputId": "a20aaa4e-4a8e-48fe-acd7-5c4de32c0aba"
      },
      "execution_count": null,
      "outputs": [
        {
          "output_type": "stream",
          "name": "stdout",
          "text": [
            "Python is awesome 5\n"
          ]
        }
      ]
    },
    {
      "cell_type": "markdown",
      "source": [
        "Variables de tipo Global y local:\n",
        "\n",
        "Las variables de tipo global son las variables usuales, las que son declaradas al comienzo de código y pueden ser usadas por cualquier persona.\n",
        "\n",
        "En cambio, las variables de tipo local son declaradas dentro de funciones y pueden ser usadas únicamente dentro de esa función, permitiendo el uso del mismo nombre de alguna variable global.\n",
        "\n",
        "Para declarar una variable global dentro de una función se usa la Keyword global."
      ],
      "metadata": {
        "id": "QEwZe9-iGYhi"
      }
    },
    {
      "cell_type": "code",
      "source": [
        "# Para modificar una variable global dentro de la función se hace uso de:\n",
        "\n",
        "x = \"awesome\"\n",
        "\n",
        "def myfunc():\n",
        "  global x\n",
        "  x = \"fantastic\"\n",
        "\n",
        "myfunc()\n",
        "\n",
        "print(\"Python is \" + x)"
      ],
      "metadata": {
        "id": "PG2edNmow1rt"
      },
      "execution_count": null,
      "outputs": []
    },
    {
      "cell_type": "markdown",
      "source": [
        "# Sesión 2: Tipos de datos, numeros, String y sus funciones"
      ],
      "metadata": {
        "id": "E6I1YO6cCJeB"
      }
    },
    {
      "cell_type": "markdown",
      "source": [
        "Los tipos de datos corresponden a la categoría del valor almacenado dentro de la variable. Dentro de Python tenemos los siguientes tipos de datos:\n",
        "\n",
        "Text Type: \tstr\n",
        "\n",
        "Numeric Types: \tint, float, complex\n",
        "\n",
        "Sequence Types: \tlist, tuple, range\n",
        "\n",
        "Mapping Type: \tdict\n",
        "\n",
        "Set Types: \tset, frozenset\n",
        "\n",
        "Boolean Type: \tbool\n",
        "\n",
        "Binary Types: \tbytes, bytearray, memoryview\n",
        "\n",
        "None Type: \tNoneType\n",
        "\n",
        "Para identificar el tipo de dato al que pertence una variable usamos la función Type()\n",
        "\n",
        "Para declarar o convertir el tipo de dato se hace uso de los siguientes constructores:\n",
        "\n",
        "x = str(\"Hello World\") \tstr\n",
        "\n",
        "x = int(20) \tint\n",
        "\n",
        "x = float(20.5) \tfloat\n",
        "\n",
        "x = complex(1j) \tcomplex\n",
        "\n",
        "x = list((\"apple\", \"banana\", \"cherry\")) \tlist\n",
        "\n",
        "x = tuple((\"apple\", \"banana\", \"cherry\")) \ttuple\n",
        "\n",
        "x = range(6) \trange\n",
        "\n",
        "x = dict(name=\"John\", age=36) \tdict\n",
        "\n",
        "x = set((\"apple\", \"banana\", \"cherry\")) \tset\n",
        "\n",
        "x = frozenset((\"apple\", \"banana\", \"cherry\")) \tfrozenset\n",
        "\n",
        "x = bool(5) \tbool\n",
        "\n",
        "x = bytes(5) \tbytes\n",
        "\n",
        "x = bytearray(5) \tbytearray\n",
        "\n",
        "x = memoryview(bytes(5)) \tmemoryview\n",
        "\n",
        "\n",
        "\n"
      ],
      "metadata": {
        "id": "aV71kzfnCTy3"
      }
    },
    {
      "cell_type": "markdown",
      "source": [
        "**Para declarar potencias usamos la letra e**, de la siguiente forma:\n"
      ],
      "metadata": {
        "id": "iQuIv3hv3E1i"
      }
    },
    {
      "cell_type": "code",
      "source": [
        "x = float( 1e2)\n",
        "print(x)"
      ],
      "metadata": {
        "colab": {
          "base_uri": "https://localhost:8080/"
        },
        "id": "SJLOJ5uX3hve",
        "outputId": "7c86af86-1f91-4a2e-d003-16f5a1fac0c8"
      },
      "execution_count": null,
      "outputs": [
        {
          "output_type": "stream",
          "name": "stdout",
          "text": [
            "100.0\n"
          ]
        }
      ]
    },
    {
      "cell_type": "markdown",
      "source": [
        "Los números complejos son declarados agregando una letra j a la parte compleja, de la siguiente manera:\n"
      ],
      "metadata": {
        "id": "r8W0PSvN3oWi"
      }
    },
    {
      "cell_type": "code",
      "source": [
        "c = complex( 5+7j  )"
      ],
      "metadata": {
        "id": "0pCcB_fa3yDL"
      },
      "execution_count": null,
      "outputs": []
    },
    {
      "cell_type": "markdown",
      "source": [
        "Para convertir números de un tipo a otro usamos las funciones anteriores, con la excepción de que **los números complejos no pueden convertirse en otro tipo de número**"
      ],
      "metadata": {
        "id": "1XR3xzZV32Ws"
      }
    },
    {
      "cell_type": "code",
      "source": [
        "#En Python no se cuenta con una manera de tener números aleatorios.\n",
        "#En cambio con el siguiente módulo sí podemos obtenerlos:\n",
        "\n",
        "import random\n",
        "\n",
        "print( random.randrange(1,10))\n",
        "\n",
        "#Primero se llama la funcion y luego a la subfuncion."
      ],
      "metadata": {
        "colab": {
          "base_uri": "https://localhost:8080/"
        },
        "id": "A1hYPerr4WLe",
        "outputId": "bf10d8ff-1746-4ea4-c45d-2d7a3409eea2"
      },
      "execution_count": null,
      "outputs": [
        {
          "output_type": "stream",
          "name": "stdout",
          "text": [
            "2\n"
          ]
        }
      ]
    },
    {
      "cell_type": "markdown",
      "source": [
        "Python Casting es la acción de convertir valores númericos a letras y letras a números. Es decir, el número 1 a '1'. Donde para ello se utilizan las funciones anteriores: int(), float(), etc."
      ],
      "metadata": {
        "id": "BttvIpeX48EK"
      }
    },
    {
      "cell_type": "markdown",
      "source": [
        "Para asignar a un variable de tipo String un texto significativamente largo se pueden usar tres comillas, de la siguiente forma:"
      ],
      "metadata": {
        "id": "6IrI6G9M5fGk"
      }
    },
    {
      "cell_type": "code",
      "source": [
        "m = '''Hola Mundo.\n",
        "Esta es mi primer variable multitexto\n",
        "uwu.'''\n",
        "\n",
        "print(m)"
      ],
      "metadata": {
        "colab": {
          "base_uri": "https://localhost:8080/"
        },
        "id": "Jf-rw8Xx6AL0",
        "outputId": "7c73079b-bb55-44c2-a267-dc5a7f4b3407"
      },
      "execution_count": null,
      "outputs": [
        {
          "output_type": "stream",
          "name": "stdout",
          "text": [
            "Hola Mundo.\n",
            "Esta es mi primer variable multitexto\n",
            "uwu.\n"
          ]
        }
      ]
    },
    {
      "cell_type": "markdown",
      "source": [
        "Las variables de tipo String son en realidad Arrays, dado que Python no tiene un tipo de dato para un solo caracter se tendría un array de longitud 1. De manera que se pueden acceder a los Strings como si fuese un arreglo, es decir:"
      ],
      "metadata": {
        "id": "PRD8Qnu3655j"
      }
    },
    {
      "cell_type": "code",
      "source": [
        "a = 'Hello, World'\n",
        "\n",
        "print(a[4]) #Nos dara la letra en la posicion, iniciando desde 0\n",
        "print(len(a)) #Nos da la cantidad de caracteres\n",
        "\n",
        "for x in a: #Nos da letra por letra\n",
        "  print(x)\n",
        "\n",
        "# Para verificar si una letra o una palabra esta dentro de una oracion\n",
        "# usamos in, o en caso contrario usamos: not in\n",
        "\n",
        "print( 'World' in a  )\n",
        "print( 'Hi' not in a )\n"
      ],
      "metadata": {
        "colab": {
          "base_uri": "https://localhost:8080/"
        },
        "id": "PVn4k9x77G0X",
        "outputId": "56b11628-52cd-4bd4-b32e-a9a4b16f2803"
      },
      "execution_count": null,
      "outputs": [
        {
          "output_type": "stream",
          "name": "stdout",
          "text": [
            "o\n",
            "12\n",
            "H\n",
            "e\n",
            "l\n",
            "l\n",
            "o\n",
            ",\n",
            " \n",
            "W\n",
            "o\n",
            "r\n",
            "l\n",
            "d\n",
            "True\n",
            "True\n"
          ]
        }
      ]
    },
    {
      "cell_type": "markdown",
      "source": [
        "**Slicing** se refiere a la acción de cortar una parte del string, esto de hace por medio de la acción:"
      ],
      "metadata": {
        "id": "zc8XxPc5_e5A"
      }
    },
    {
      "cell_type": "code",
      "source": [
        "txt = 'Hola, mundo'\n",
        "\n",
        "print(txt[6:11]) #Desde la primera letra a imprimir hasta el espacio despues.\n",
        "\n",
        "#Si no se coloca un indice inicial, se supondra 0\n",
        "print( txt[:11] )\n",
        "\n",
        "#Si no se coloca un indice final, se imprime el resto de la oracion\n",
        "\n",
        "print( txt[6:] )\n",
        "\n",
        "#Si se colocan numeros negativos en el index, se comienza\n",
        "#por el final\n",
        "\n",
        "print( txt[-7:-1] )\n"
      ],
      "metadata": {
        "colab": {
          "base_uri": "https://localhost:8080/"
        },
        "id": "ZNRqbyVd_q9t",
        "outputId": "ca5f5afe-c08c-40c0-bcb2-34a77d82ff32"
      },
      "execution_count": null,
      "outputs": [
        {
          "output_type": "stream",
          "name": "stdout",
          "text": [
            "mundo\n",
            "Hola, mundo\n",
            "mundo\n",
            ", mund\n"
          ]
        }
      ]
    },
    {
      "cell_type": "code",
      "source": [
        "#Los metodos de modificacion y manipulacion de String\n",
        "#corresponden a:\n",
        "\n",
        "a = 'Hello, World!'\n",
        "b = ' Hello, World! '\n",
        "\n",
        "print(a.upper()) #Devuelve la frase en mayusculas\n",
        "\n",
        "print(a.lower()) #Devuelve la frase en minusculas\n",
        "\n",
        "print(b.strip() ) #Elimina los espacios en blanco antes o despues del texto\n",
        "\n",
        "print( a.replace('H', 'P') ) #Sustituye el valor de un String con otro\n",
        "\n",
        "print( a.split(',') ) #Coloca cada palabra en una lista\n",
        "#Donde el valor entre parentesis es suprimido de la lista\n",
        "\n",
        "\n"
      ],
      "metadata": {
        "colab": {
          "base_uri": "https://localhost:8080/"
        },
        "id": "yrZ_Y9WkBYu1",
        "outputId": "d0d2795f-3dc9-49a9-9d52-7e2c90c6b5ec"
      },
      "execution_count": null,
      "outputs": [
        {
          "output_type": "stream",
          "name": "stdout",
          "text": [
            "HELLO, WORLD!\n",
            "hello, world!\n",
            "Hello, World!\n",
            "Pello, World!\n",
            "['Hello', ' World!']\n"
          ]
        }
      ]
    },
    {
      "cell_type": "markdown",
      "source": [
        "Para imprimir valores que sean de distinto tipo, es decir, imprimir String junto a números se usa la función format() de la siguiente forma:"
      ],
      "metadata": {
        "id": "UuZqhzuFDmre"
      }
    },
    {
      "cell_type": "code",
      "source": [
        "precio = 50\n",
        "item = 'Jabon'\n",
        "\n",
        "orden = 'Me gustaria pagar {} pesos por la compra de este {}  '\n",
        "\n",
        "print(orden.format(precio, item))\n",
        "\n",
        "#Aunque considero a este metodo mucho mas pesado en la lectura"
      ],
      "metadata": {
        "colab": {
          "base_uri": "https://localhost:8080/"
        },
        "id": "C24wwjVxD02e",
        "outputId": "e6a9cbee-0fd3-444a-97e0-722343d955e6"
      },
      "execution_count": null,
      "outputs": [
        {
          "output_type": "stream",
          "name": "stdout",
          "text": [
            "Me gustaria pagar 50 pesos por la compra de este Jabon  \n"
          ]
        }
      ]
    },
    {
      "cell_type": "markdown",
      "source": [
        "Los **Escape** Character nos permiten utilizar cáracteres no permitidos dentro de los valores de una variable String agregando un backslash.\n",
        "\n",
        "Por ejemplo, en el uso de las comillas simples o dobles dentro de la variable. O para dar saltos de línea. Se usan de la siguiente manera:\n",
        "\n"
      ],
      "metadata": {
        "id": "OFZR9djJEdac"
      }
    },
    {
      "cell_type": "code",
      "source": [
        "# \\' \tSingle Quote\n",
        "# \\\\ \tBackslash\n",
        "# \\n \tNew Line\n",
        "# \\r \tCarriage Return\n",
        "# \\t \tTab\n",
        "# \\b \tBackspace\n",
        "# \\f \tForm Feed\n",
        "# \\ooo \tOctal value\n",
        "# \\xhh \tHex value"
      ],
      "metadata": {
        "id": "iueAcHsdFOes"
      },
      "execution_count": null,
      "outputs": []
    },
    {
      "cell_type": "markdown",
      "source": [
        "# Sesión 3: Métodos de Strings, booleanos."
      ],
      "metadata": {
        "id": "19_Q9hm2CYpR"
      }
    },
    {
      "cell_type": "markdown",
      "source": [
        "23 de noviembre del 2022: A continuación presentamos un listado de métodos para las variables Strings, es importante notar que todos ellos regresan valores nuevos pero **NUNCA alteran el tipo de dato**.\n"
      ],
      "metadata": {
        "id": "6ZElWmfvCeQO"
      }
    },
    {
      "cell_type": "code",
      "source": [
        "#Metodos de Strings\n",
        "\n",
        "#capitalize()\tConverts the first character to upper case\n",
        "\n",
        "#casefold()\tConverts string into lower case\n",
        "\n",
        "#center()\tReturns a centered string\n",
        "\n",
        "#count()\tReturns the number of times a specified value occurs in a string\n",
        "\n",
        "#encode()\tReturns an encoded version of the string\n",
        "\n",
        "#endswith()\tReturns true if the string ends with the specified value\n",
        "\n",
        "#expandtabs()\tSets the tab size of the string\n",
        "\n",
        "#find()\tSearches the string for a specified value and returns the position of where it was found\n",
        "\n",
        "#format()\tFormats specified values in a string\n",
        "\n",
        "#format_map()\tFormats specified values in a string\n",
        "\n",
        "#index()\tSearches the string for a specified value and returns the position of where it was found\n",
        "\n",
        "#isalnum()\tReturns True if all characters in the string are alphanumeric\n",
        "\n",
        "#isalpha()\tReturns True if all characters in the string are in the alphabet\n",
        "\n",
        "#isdecimal()\tReturns True if all characters in the string are decimals\n",
        "\n",
        "#isdigit()\tReturns True if all characters in the string are digits\n",
        "\n",
        "#isidentifier()\tReturns True if the string is an identifier\n",
        "\n",
        "#islower()\tReturns True if all characters in the string are lower case\n",
        "\n",
        "#isnumeric()\tReturns True if all characters in the string are numeric\n",
        "\n",
        "#isprintable()\tReturns True if all characters in the string are printable\n",
        "\n",
        "#isspace()\tReturns True if all characters in the string are whitespaces\n",
        "\n",
        "#istitle() \tReturns True if the string follows the rules of a title\n",
        "\n",
        "#isupper()\tReturns True if all characters in the string are upper case\n",
        "\n",
        "#join()\tJoins the elements of an iterable to the end of the string\n",
        "\n",
        "#ljust()\tReturns a left justified version of the string\n",
        "\n",
        "#lower()\tConverts a string into lower case\n",
        "\n",
        "#lstrip()\tReturns a left trim version of the string\n",
        "\n",
        "#maketrans()\tReturns a translation table to be used in translations\n",
        "\n",
        "#partition()\tReturns a tuple where the string is parted into three parts\n",
        "\n",
        "#replace()\tReturns a string where a specified value is replaced with a specified value\n",
        "\n",
        "#rfind()\tSearches the string for a specified value and returns the last position of where it was found\n",
        "\n",
        "#rindex()\tSearches the string for a specified value and returns the last position of where it was found\n",
        "\n",
        "#rjust()\tReturns a right justified version of the string\n",
        "\n",
        "#rpartition()\tReturns a tuple where the string is parted into three parts\n",
        "\n",
        "#rsplit()\tSplits the string at the specified separator, and returns a list\n",
        "\n",
        "#rstrip()\tReturns a right trim version of the string\n",
        "\n",
        "#split()\tSplits the string at the specified separator, and returns a list\n",
        "\n",
        "#splitlines()\tSplits the string at line breaks and returns a list\n",
        "\n",
        "#startswith()\tReturns true if the string starts with the specified value\n",
        "\n",
        "#strip()\tReturns a trimmed version of the string\n",
        "\n",
        "#swapcase()\tSwaps cases, lower case becomes upper case and vice versa\n",
        "\n",
        "#title()\tConverts the first character of each word to upper case\n",
        "\n",
        "#translate()\tReturns a translated string\n",
        "\n",
        "#upper()\tConverts a string into upper case\n",
        "\n",
        "#zfill()\tFills the string with a specified number of 0 values at the beginning"
      ],
      "metadata": {
        "id": "rKtfCtemCuDj"
      },
      "execution_count": null,
      "outputs": []
    },
    {
      "cell_type": "markdown",
      "source": [
        "Dentro de las funciones de los Strings, una muy rescatable corresponde al método Format(), usado para imprimir una variable de la manera en que gustemos.\n"
      ],
      "metadata": {
        "id": "qS1V5rCKxA-b"
      }
    },
    {
      "cell_type": "code",
      "source": [
        "# De la siguiente manera se usa el método format\n",
        "\n",
        "price = 50\n",
        "article = 'soap'\n",
        "\n",
        "txt = 'This {} is {}'\n",
        "\n",
        "print(txt.format(article, price))\n",
        "\n",
        "#Donde para indicar el valor con decimales usamos:\n",
        "\n",
        "txt_dos = 'This {} is {:.2f}'\n",
        "\n",
        "print(txt_dos.format(article, price))\n",
        "\n",
        "# Podemos agregar numeros dentro de los {} para mayor orden o para repetirlos en la oracion\n",
        "\n",
        "age = 36\n",
        "name = \"John\"\n",
        "txt_tres = \"His name is {1}. {1} is {0} years old.\"\n",
        "print(txt_tres.format(age, name))\n",
        "\n",
        "#De igual forma, podemos declar las variables dentro del format y usarlas en la variable\n",
        "\n",
        "myorder = \"I have a {carname}, it is a {model}.\"\n",
        "print(myorder.format(carname = \"Ford\", model = \"Mustang\"))\n",
        "\n",
        "\n"
      ],
      "metadata": {
        "colab": {
          "base_uri": "https://localhost:8080/"
        },
        "id": "omrq_CeFxUlm",
        "outputId": "a479d51f-3c39-471e-a3b4-c24d03754a8e"
      },
      "execution_count": null,
      "outputs": [
        {
          "output_type": "stream",
          "name": "stdout",
          "text": [
            "This soap is 50\n",
            "This soap is 50.00\n",
            "His name is John. John is 36 years old.\n",
            "I have a Ford, it is a Mustang.\n"
          ]
        }
      ]
    },
    {
      "cell_type": "markdown",
      "source": [
        "Los **valores Booleanos** corresponde a Verdad o Falsedad. Las condiciones pueden ser evaludas mediante la función Print() o mediante una condición If-Else.\n",
        "\n",
        "Existe la función bool() que permite evaluar valores y variables. La mayoría de ellas retornan el valor True, excepto los datos vacíos y el cero. O el tener una clase que retorne el valor 0 dentro de una función.\n",
        "\n",
        "Se pueden crear funciones que regresen únicamente un valor booleano"
      ],
      "metadata": {
        "id": "c2YOp9onEih5"
      }
    },
    {
      "cell_type": "code",
      "source": [
        "#Quiza lo más importante de esta sección corresponda a\n",
        "#la función isinstance, que permite obtener\n",
        "#True o False al suponer el tipo de dato de la variable\n",
        "\n",
        "x = 5\n",
        "\n",
        "print(isinstance(x, float))"
      ],
      "metadata": {
        "colab": {
          "base_uri": "https://localhost:8080/"
        },
        "id": "j6CbxNh8JRyh",
        "outputId": "7e64ae5b-989f-4763-d27f-c8eb701c84f3"
      },
      "execution_count": null,
      "outputs": [
        {
          "output_type": "stream",
          "name": "stdout",
          "text": [
            "False\n"
          ]
        }
      ]
    },
    {
      "cell_type": "markdown",
      "source": [
        "Operadores en Python:\n",
        "\n",
        "Los operadores corresponden a los simbolos matemáticos usados para realizar operaciones. Donde los más usuales corresponden a:\n",
        "\n",
        "Arithmetic operators\n",
        "\n",
        "Assignment operators\n",
        "\n",
        "Comparison operators\n",
        "\n",
        "Logical operators\n",
        "\n",
        "Identity operators\n",
        "\n",
        "Membership operators\n",
        "\n",
        "Bitwise operators\n",
        "\n",
        "Los operados aritméticos son los usuales, únicamente el módulo se denota con % y la división entera con //\n",
        "\n",
        "Los operadores de asignación corresponde a la forma en que se asigan los valores a una variable donde el más usual es = . Si queremos denotar un aumento o un descenso utilizamos: += De manera que incluso podemos aumentar un multiplos o reducirlo\n",
        "\n",
        "Los operadores de comparación corresponden a: ==, != y los usuales de orden.\n",
        "\n",
        "Los operados lógicos corresponden a and, or, not. Tal cual, así se colocan en la condición.\n",
        "\n",
        "Los operadores de identificación son usados para comparar objetos, no los valores, únicamente comparan si son el mismo objeto y se declaran con is, is not.\n",
        "Es decir, dirán True en caso de que haya una asignación directa entre ambos.\n",
        "\n",
        "\n",
        "Los operadores de Membresía indican si un valor está dentro de un tipo de dato secuencial. Y correspoden a in, not in.\n",
        "\n",
        "Los operadores Bitwise son usados para comparar números binarios. Y están más referidos al desarrollo de progamas utilizando compuertas lógicas.\n"
      ],
      "metadata": {
        "id": "tuNQQvWKJxEI"
      }
    },
    {
      "cell_type": "markdown",
      "source": [
        "# Sesión 4: Listas"
      ],
      "metadata": {
        "id": "48kLrpnudDgq"
      }
    },
    {
      "cell_type": "markdown",
      "source": [
        "24 de noviembre del 2022: Las listas son tipo de datos secuencial, que permiten almacenar valores de manera indexada. A diferencia de las variables, las listas permiten almacenar varios valores, de manera ordenada, y con la posibilidad de acceder a varios de ellos.\n",
        "\n"
      ],
      "metadata": {
        "id": "OABr4xA_dH85"
      }
    },
    {
      "cell_type": "code",
      "source": [
        "# Para declarar una lista de hace de la siguiente forma:\n",
        "\n",
        "mylist = [1, 2, 3 ] #Donde sus elementos son separados por comas\n",
        "\n",
        "#Las listas son ordenadas, modificables y permiten tener valores duplicados.\n",
        "\n",
        "#Están indexadas a partir del valor 0\n",
        "\n",
        "#Si se agrega un nuevo valor, este valor irá al final de la lista.\n",
        "\n",
        "# El decir que las listas son modificables, se refiere a que permite agregar\n",
        "# borrar o cambiar los valores dentro de ella\n",
        "\n",
        "#Para determinar la longitud de una lista se usa la funcion len()\n",
        "\n",
        "#Las listas pueden almacenar cualquier tipo de dato\n",
        "\n",
        "#Python las reconoce que un tipo de dato: List\n",
        "\n",
        "\n",
        "\n",
        "\n"
      ],
      "metadata": {
        "id": "F-fQZSX6dhFm"
      },
      "execution_count": null,
      "outputs": []
    },
    {
      "cell_type": "markdown",
      "source": [
        "Las listas forman parte de los 4 tipos de datos usados para almacenar datos junto con las Tuplas, conjuntos y diccionarios.\n",
        "\n",
        "Las listas permiten que sus elementos sean modificados, ordenados y tengan valores duplicados.\n",
        "\n",
        "Las tuplas permiten que sus valores sean ordenados, tengan valores duplicados pero no pueden ser modificados\n",
        "\n",
        "Los diccionarios tiene valores ordenados y permiten ser modificados pero no tienen elementos repetidos\n",
        "\n",
        "Los conjuntos no tienen orden, no se permiten modificar sus valores y no permite elementos repetidos."
      ],
      "metadata": {
        "id": "UtEzNZjjdxYK"
      }
    },
    {
      "cell_type": "markdown",
      "source": [
        "*17 de Diciembre del 2022*\n",
        "\n",
        "A partir de este día nos encontramos libres para el estudio continuo de Python, hemos partido de un breve repaso y continuamos con el tema de listas.\n",
        "\n"
      ],
      "metadata": {
        "id": "8SpUIEGd3sFd"
      }
    },
    {
      "cell_type": "code",
      "source": [
        "'''\n",
        "Dado que las listas son ordenadas podemos ingresar a ellas a partir de su index\n",
        "de la siguiente manera:\n",
        "'''\n",
        "\n",
        "ThisList = [1,2,3]\n",
        "print(ThisList[2]) #Notese que partimos del 0\n",
        "\n",
        "# De igual forma que con Strings, podemos indexar negativamente, donde\n",
        "# el primer valor corresponde a -1\n",
        "\n",
        "print(ThisList[-1])\n",
        "\n",
        "'''\n",
        "Podemos crear sublistas mediante [:] de la forma:\n",
        "'''\n",
        "\n",
        "this_list = ThisList[0:2] #Donde comienza en 0 y lo incluye, termina en 2 y lo excluye\n",
        "print(this_list)\n",
        "\n",
        "# Igual para crear listas que que contengan hasta el último elemento usamos [3:]\n",
        "# O en su forma contraria [:7]\n",
        "#En el idexado negativo se parte de -1 sin incluirlo.\n",
        "\n",
        "'''\n",
        "Para determinar si un valor pertenece a la lista usamos la\n",
        "keyword in de la siguiente manera\n",
        "'''\n",
        "\n",
        "if 4 in ThisList:\n",
        "  print('Yes, 4 is in ThisList')\n",
        "else:\n",
        "  print('No, 4 is not in ThisList')\n",
        "\n",
        "'''\n",
        "Para modificar algun valor en la lista, indicamos su posicion y el nuevo valor,\n",
        "de la siguiente manera\n",
        "'''\n",
        "\n",
        "ThisList[0] = 'hola'\n",
        "print(ThisList)\n",
        "\n",
        "'''\n",
        "Si queremos modificar una serie de valores dentro de una lista, usamos [:]\n",
        "de forma que se retiren los valores por los nuevos de la siguiente forma:\n",
        "'''\n",
        "\n",
        "ThisList[0:4] = [5,6,7]\n",
        "print(ThisList)\n",
        "#Si agregamos mas valores de los originales, los valores originales se recorreran\n",
        "#De igual manera, si adjuntamos menos valores se recorreran.\n",
        "#Para insertar un nuevo valor sin reemplazar a los anteriores usamos insert()\n",
        "\n",
        "ThisList.insert(2, '100')\n",
        "print(ThisList)\n",
        "\n",
        "'''\n",
        "Para insertar un valor al final de la lista usamos append()\n",
        "'''\n",
        "\n",
        "ThisList.append('Final')\n",
        "print(ThisList)\n",
        "\n",
        "'''\n",
        "Para juntar los listas usamos el metodo extend(), la nueva lista se adjuntará justo al final\n",
        "'''\n",
        "ThisList.extend(this_list)\n",
        "print(ThisList) #Donde los nuevos elementos se agregaran al final\n",
        "\n",
        "#El metodo extend() puede agregar tuplas, sets, diccionaries.\n",
        "\n",
        "'''\n",
        "Para remover valores usamos remove() indicando el elemento (su nombre)\n",
        "'''\n",
        "\n",
        "ThisList.remove('Final')\n",
        "print(ThisList)\n",
        "\n",
        "'''\n",
        "Para remover un elemento en un indice especificado usamos pop()\n",
        "'''\n",
        "\n",
        "ThisList.pop(0)\n",
        "print(ThisList)\n",
        "#En caso de no especificar se remueve el ultimo elemento.\n",
        "# Es posible usar la keyword del\n",
        "\n",
        "del ThisList[1]\n",
        "print(ThisList)\n",
        "\n",
        "#Donde del puede eliminar la lista completa\n",
        "\n",
        "'''\n",
        "Para remover todo el contenido de la lista usamos clear()\n",
        "'''\n",
        "\n",
        "ThisList.clear()\n",
        "print(ThisList) #La lista sigue existiendo.\n",
        "\n",
        "\n",
        "\n",
        "\n"
      ],
      "metadata": {
        "colab": {
          "base_uri": "https://localhost:8080/"
        },
        "id": "paIVoTPH4Cai",
        "outputId": "b8fb14dc-a10e-41ac-8828-4c3fd6552bce"
      },
      "execution_count": null,
      "outputs": [
        {
          "output_type": "stream",
          "name": "stdout",
          "text": [
            "3\n",
            "3\n",
            "[1, 2]\n",
            "No, 4 is not in ThisList\n",
            "['hola', 2, 3]\n",
            "[5, 6, 7]\n",
            "[5, 6, '100', 7]\n",
            "[5, 6, '100', 7, 'Final']\n",
            "[5, 6, '100', 7, 'Final', 1, 2]\n",
            "[5, 6, '100', 7, 1, 2]\n",
            "[6, '100', 7, 1, 2]\n",
            "[6, 7, 1, 2]\n",
            "[]\n"
          ]
        }
      ]
    },
    {
      "cell_type": "code",
      "source": [
        "# Bucles en listas - 18 de Diciembre\n",
        "\n",
        "'''\n",
        "Podemos imprimir todos los elementos de la lista mediante un for\n",
        "'''\n",
        "\n",
        "ThisList = [1,2,3]\n",
        "\n",
        "for x in ThisList:\n",
        "  print(x)\n",
        "\n",
        "# O mediante su indice utilizando range() y len()\n",
        "\n",
        "for i in range(len(ThisList)):\n",
        "  print(ThisList[i])\n",
        "\n",
        "# O mediante un ciclo while\n",
        "\n",
        "h = 0 # Este metodo es mucho mas tardado al declarar tantas cosas\n",
        "while h < len(ThisList):\n",
        "  print(ThisList[h])\n",
        "  h += 1\n",
        "\n",
        "'''\n",
        "El mejor método corresponde a usar la List Comprehension de la siguiente forma:\n",
        "'''\n",
        "print(ThisList)\n",
        "\n",
        "[print(x) for x in ThisList]\n",
        "\n",
        "'''\n",
        "List Comprehension es una manera breve de declarar un metodo para una lista,\n",
        "puede ser empleado en su creacion.\n",
        "'''\n",
        "fruits = [\"apple\", \"banana\", \"cherry\", \"kiwi\", \"mango\"]\n",
        "newlist = []\n",
        "\n",
        "newlist = [x for x in fruits if 'a' in x ]\n",
        "print(newlist)\n",
        "\n",
        "# Donde su Syntaxis es de la forma:\n",
        "\n",
        "# newlist = [(expression) for (item) in (iterable) if (condition == True)]\n",
        "\n",
        "'''\n",
        "Los objetos iterables corresponde a todo aquello que pueda ser iterado\n",
        "listas, tuplas, sets, etc.\n",
        "'''\n",
        "\n",
        "# La (expression) puede ser manipulada con upper() o alguna otra funcion.\n",
        "# Puede tomar cualquier nombre\n",
        "# O modificarlo antes de agregarlo cambiando el nombre\n",
        "\n",
        "print(fruits)\n",
        "\n",
        "newlistwo = [x if x != \"banana\" else \"orange\" for x in fruits]\n",
        "\n",
        "print(newlistwo)\n",
        "\n"
      ],
      "metadata": {
        "colab": {
          "base_uri": "https://localhost:8080/"
        },
        "id": "oUxW0JKF-9m1",
        "outputId": "1fa9b80b-6b64-4d0b-c3c9-acdfc08cae84"
      },
      "execution_count": null,
      "outputs": [
        {
          "output_type": "stream",
          "name": "stdout",
          "text": [
            "1\n",
            "2\n",
            "3\n",
            "1\n",
            "2\n",
            "3\n",
            "1\n",
            "2\n",
            "3\n",
            "[1, 2, 3]\n",
            "1\n",
            "2\n",
            "3\n",
            "['apple', 'banana', 'mango']\n",
            "['apple', 'banana', 'cherry', 'kiwi', 'mango']\n",
            "['apple', 'orange', 'cherry', 'kiwi', 'mango']\n"
          ]
        }
      ]
    },
    {
      "cell_type": "code",
      "source": [
        "frutas = ['manzana', 'pera', 'uva']\n",
        "numeros = [x for x in range(10)]\n",
        "new_frutas = [x if x != 'manzana' else 'banana' for x in frutas]\n",
        "new_numeros = [x if (x%2  == 0) else 3 for x in numeros]\n",
        "\n",
        "print(new_frutas)\n",
        "print(new_numeros)"
      ],
      "metadata": {
        "colab": {
          "base_uri": "https://localhost:8080/"
        },
        "id": "QjhDjUWoHzj8",
        "outputId": "8f57c76a-f9b0-4fe3-ca7f-929a1c57877a"
      },
      "execution_count": null,
      "outputs": [
        {
          "output_type": "stream",
          "name": "stdout",
          "text": [
            "['banana', 'pera', 'uva']\n",
            "[0, 3, 2, 3, 4, 3, 6, 3, 8, 3]\n"
          ]
        }
      ]
    },
    {
      "cell_type": "code",
      "source": [
        "#Date: 22 de diciembre del 2022\n",
        "\n",
        "#Funciones de orden o Sort List\n",
        "'''\n",
        " Para organizar los datos dentro de las listas usamos sort()\n",
        " el cual ordena los datos de manera alfabetica o numerica ascendente\n",
        "'''\n",
        "\n",
        "thislist = [100, 50, 65, 82, 23]\n",
        "thislist.sort()\n",
        "print(thislist)\n",
        "\n",
        "#Para organizar los datos de manera descendente usamos\n",
        "# reverse = True\n",
        "\n",
        "thislist.sort(reverse = True)\n",
        "print(thislist)\n",
        "\n",
        "'''\n",
        "Para personalizar la funcion Sort, podemos hacerlo declarando una nueva\n",
        "funcion, de la siguiente forma:\n",
        "'''\n",
        "\n",
        "def myfunc(n):  #Primero declaramos una funcion de distancia al numero 50\n",
        "  return abs(n - 50)\n",
        "\n",
        "thislist1 = [100, 50, 65, 82, 23]\n",
        "thislist1.sort(key = myfunc) #Organizamos los numeros conforme a su distancia\n",
        "print(thislist1)            #El mas proximo va primero\n",
        "\n",
        "'''\n",
        "El metodo Sort() es case Sensitive, por ende, organiza primero las letras\n",
        "Mayúsculas. Para evitirar eso usamos:\n",
        "'''\n",
        "thislist2 = [\"banana\", \"Orange\", \"Kiwi\", \"cherry\"]\n",
        "thislist2.sort(key = str.lower) #Usando la funcion str.lower\n",
        "print(thislist2)\n",
        "\n",
        "'''\n",
        "Para invertir el orden de una lista usamos reverse()\n",
        "'''\n",
        "\n",
        "\n",
        "\n"
      ],
      "metadata": {
        "colab": {
          "base_uri": "https://localhost:8080/"
        },
        "id": "x5-EbAIvryzZ",
        "outputId": "19733ae7-5ef6-49f6-9df4-761b3213ed32"
      },
      "execution_count": null,
      "outputs": [
        {
          "output_type": "stream",
          "name": "stdout",
          "text": [
            "[23, 50, 65, 82, 100]\n",
            "[100, 82, 65, 50, 23]\n",
            "[50, 65, 23, 82, 100]\n"
          ]
        }
      ]
    },
    {
      "cell_type": "code",
      "source": [
        "# Copiar listas\n",
        "'''\n",
        "En Python no podemos copiar las listas de manera simple usando list1 = list 2\n",
        "debido a que todo cambio hecho en list2 se transfiere a list1. Para realizar\n",
        "una copia de la lista usamos copy()\n",
        "'''\n",
        "\n",
        "thislist = [\"apple\", \"banana\", \"cherry\"]\n",
        "mylist = thislist.copy()\n",
        "print(mylist)\n",
        "\n",
        "# Tambien puede hacerse usando list()\n",
        "# mylist = list(thislist)\n",
        "\n"
      ],
      "metadata": {
        "id": "QqgV3PZRuK4k"
      },
      "execution_count": null,
      "outputs": []
    },
    {
      "cell_type": "code",
      "source": [
        "# Unir dos listas\n",
        "'''\n",
        "Para unir dos o mas listas en Python podemos usar las siguientes formas:\n",
        "'''\n",
        "list1 = [\"a\", \"b\", \"c\"]\n",
        "list2 = [1, 2, 3]\n",
        "\n",
        "#Suma directa\n",
        "\n",
        "list3 = list1 + list2\n",
        "\n",
        "# Usando un for y append()\n",
        "\n",
        "for x in list2:\n",
        "  list1.append(x)\n",
        "\n",
        "# O a mi parecer el mejor metodo extend()\n",
        "\n",
        "list5 = list1.extend(list2)"
      ],
      "metadata": {
        "id": "sEkAV8eEvDHC"
      },
      "execution_count": null,
      "outputs": []
    },
    {
      "cell_type": "code",
      "source": [
        "# Metodos para listas\n",
        "\n",
        "'''\n",
        "A manera de resumen coloco los metodos para listas mas usados\n",
        "'''\n",
        "\n",
        "'''\n",
        "append()\tAdds an element at the end of the list\n",
        "clear()\tRemoves all the elements from the list\n",
        "copy()\tReturns a copy of the list\n",
        "count()\tReturns the number of elements with the specified value\n",
        "extend()\tAdd the elements of a list (or any iterable), to the end of the current list\n",
        "index()\tReturns the index of the first element with the specified value\n",
        "insert()\tAdds an element at the specified position\n",
        "pop()\tRemoves the element at the specified position\n",
        "remove()\tRemoves the item with the specified value\n",
        "reverse()\tReverses the order of the list\n",
        "sort()\tSorts the list\n",
        "\n",
        "'''"
      ],
      "metadata": {
        "id": "_k_1pO_Nvsti"
      },
      "execution_count": null,
      "outputs": []
    },
    {
      "cell_type": "code",
      "source": [
        "# Ejercicio 1\n",
        "\n",
        "'''\n",
        "La compania mutinacional Rappi, solicita un sistema que determine los\n",
        "dias de vacaciones a los que tiene drecho un trabajador, tomando en cuenta\n",
        "las siguientes caracteristicas:\n",
        "\n",
        "Atencion a clientes 1(6) 2-6(14) 7(20)\n",
        "Logistica 1(7) 2-6(15) 7(22)\n",
        "Gerencia 1(10) 2-6(20) 7(30)\n",
        "\n",
        "Nombre, clave y antiguedad\n",
        "\n",
        "'''\n",
        "\n"
      ],
      "metadata": {
        "id": "g8rYj0G82JaQ"
      },
      "execution_count": null,
      "outputs": []
    },
    {
      "cell_type": "markdown",
      "source": [
        "# Seccion 5: Tuplas\n"
      ],
      "metadata": {
        "id": "-68obGV85GRN"
      }
    },
    {
      "cell_type": "code",
      "source": [
        "# Tuplas\n",
        "\n",
        "#Las tuplas en Python son de la siguiente forma:\n",
        "\n",
        "mytuple = (1,2,3)\n",
        "\n",
        "'''\n",
        "Las tuplas son 1 de las 4 formas que se tienen en Python para almacenar datos,\n",
        "sus caracteristicas principales es que almacena informacion de forma\n",
        "ordenada, permiten elementos repetidos y NO SE PUEDEN MODIFICAR una vez\n",
        "creadas.\n",
        "\n",
        "IMPORTANTE: Cuando decimos que no se pueden modificar nos referimos a que no pueden\n",
        "agregarse o removerse o modificarse los items.\n",
        "'''\n",
        "\n",
        "# Para determinar su longitud usamos len()\n",
        "# Para crear una tupla de un solo elemento usamos tupla1 = (1, ) con coma\n",
        "# Pueden almacenar cualquier tipo de dato.\n",
        "# Tambien podemos usar el constructor tuple()\n",
        "\n",
        "# Para ingresar a los datos usamos el indexado [] igual que en las listas\n",
        "# igual el indexado negativo.\n",
        "\n",
        "# Crear una subtupla, new = tuple1[2:5]\n",
        "# Si no agregamos un valor de inicio, lo tomara como 0\n",
        "# Si no agregamos un valor de fin, tomara todos los elementos restantes\n",
        "# Con idexado negativo no incluye el primer termino -1\n",
        "\n",
        "# Para verificar si un elemento pertenece a la lista usamos in\n"
      ],
      "metadata": {
        "id": "JBXZe0Yz5Kxo"
      },
      "execution_count": null,
      "outputs": []
    },
    {
      "cell_type": "code",
      "source": [
        "# Modificar una Tupla\n",
        "\n",
        "'''\n",
        "Dado que la tupla no puede ser modificada, es decir es inmutable, para alterar\n",
        "los datos que contiene es necesario convertirla en una lista a partir de la\n",
        "siguiente manera:\n",
        "'''\n",
        "\n",
        "x = (\"apple\", \"banana\", \"cherry\")\n",
        "y = list(x)\n",
        "y[1] = \"kiwi\"\n",
        "x = tuple(y)\n",
        "\n",
        "print(x)\n",
        "\n",
        "# De la misma manera podemos agregar, remover o modificar datos.\n",
        "\n",
        "# O tambien adjuntando otra tupla\n",
        "\n",
        "thistuple = (\"apple\", \"banana\", \"cherry\")\n",
        "z = (\"orange\",)\n",
        "thistuple += z\n",
        "\n",
        "print(thistuple)\n",
        "\n",
        "# Para eliminar completamente una tupla usamos del\n",
        "\n",
        "del thistuple\n",
        "\n",
        "#print(thistuple)\n"
      ],
      "metadata": {
        "colab": {
          "base_uri": "https://localhost:8080/"
        },
        "id": "APuv-4lVLPjs",
        "outputId": "1bafbc99-9aa2-48ca-8c3e-18c1ca71c6eb"
      },
      "execution_count": null,
      "outputs": [
        {
          "output_type": "stream",
          "name": "stdout",
          "text": [
            "('apple', 'kiwi', 'cherry')\n",
            "('apple', 'banana', 'cherry', 'orange')\n"
          ]
        }
      ]
    },
    {
      "cell_type": "code",
      "source": [
        "# Desempacando una tupla o lista\n",
        "\n",
        "'''\n",
        "Podemos obtener los elementos de una tupla o lista en forma de variables\n",
        "de la siguiente manera:\n",
        "'''\n",
        "\n",
        "fruits = (\"apple\", \"banana\", \"cherry\")\n",
        "\n",
        "(green, yellow, red) = fruits\n",
        "\n",
        "print(green)\n",
        "print(yellow)\n",
        "print(red)\n",
        "\n",
        "# Donde el numero de elementos debe coindicir con el numero de variables\n",
        "\n",
        "'''\n",
        "En caso de que el numero de elementos sea mayor al numero de variables usamos\n",
        "un asterisco que indicara que los elementos restantes se agreguen a esa variable\n",
        "en forma de una lista.\n",
        "'''\n",
        "\n",
        "fruits1 = (\"apple\", \"banana\", \"cherry\", \"strawberry\", \"raspberry\")\n",
        "\n",
        "(green, yellow, *red) = fruits1\n",
        "\n",
        "print(green)\n",
        "print(yellow)\n",
        "print(red)\n",
        "\n",
        "# En caso de que agregemos el asterisco a otra variable distinta de la final\n",
        "# los datos se agregaran mayormente a la variable con asterisco y solo un dato\n",
        "# a las variables restantes.\n",
        "\n",
        "\n",
        "#Formas de recorrer una tupla\n",
        "\n",
        "'''\n",
        "Para recorrer los elementos de la lista o la tupla usamos los mismos\n",
        "metodos que con las listas, usamos for, while.\n",
        "\n",
        "En este caso, no existe Tuple Comprehension\n",
        "'''\n",
        "\n",
        "\n",
        "# Formas de unir tuplas\n",
        "'''\n",
        "Podemos unir dos tuplas usando los metodos usuales de listas, como\n",
        "el operador +. Donde podemos incrementar los datos mutiplicandolos con *n\n",
        "\n",
        "mytuple = fruits * 2\n",
        "'''\n",
        "\n",
        "\n",
        "# Metodos para listas\n",
        "'''\n",
        "Los metodos que encontramos para listas correspoden a\n",
        "\n",
        "count() - Returns the number of times a specified value occurrs in a tuple\n",
        "index() - Returns the tuple for a specified value and returns the position of where it was found.\n",
        "'''\n",
        "\n"
      ],
      "metadata": {
        "id": "P957BsX1Mn3V"
      },
      "execution_count": null,
      "outputs": []
    },
    {
      "cell_type": "markdown",
      "source": [
        "# Seccion 6: Sets - Conjuntos\n"
      ],
      "metadata": {
        "id": "14oQlgTR-Mdi"
      }
    },
    {
      "cell_type": "code",
      "source": [
        "# Sets - Conjuntos\n",
        "\n",
        "'''\n",
        "Los sets o conjuntos son uno de los cuatro tipos de maneras de almacenar colecciones\n",
        "de datos dentro de Python. IMPORTANTE: A diferencia de las listas, los conjuntos no\n",
        "pueden ser modificados, no poseen orden y no estan indexados.\n",
        "\n",
        "NOTA: Aunque si se pueden agregar o remover elementos, los elementos ya definidos\n",
        "no pueden ser modificados.\n",
        "\n",
        "Para declararlos usamos:\n",
        "'''\n",
        "myset = {1, 2, 3}\n",
        "\n",
        "# Detecta como el mismo valor a True y 1, de manera similar a 0 y False\n",
        "\n",
        "# No permiten valores duplicados\n",
        "# Para determinar la cantidad de elementos usamos len()\n",
        "# Pueden almacenar cualquier tipo de dato\n",
        "# Pertencen a la clase 'set'\n",
        "\n",
        "# Se puede usar el constructor set para declararlos thiset = set((1, 2, 3))"
      ],
      "metadata": {
        "id": "2Q0ivFQk-ROt"
      },
      "execution_count": null,
      "outputs": []
    },
    {
      "cell_type": "code",
      "source": [
        "# Acceso a sus elementos\n",
        "\n",
        "'''\n",
        "No se puede acceder a los elementos de un conjunto mediante un indice, la forma\n",
        "de saber sus elementos es mediante un ciclo for o mediante la key in\n",
        "'''\n",
        "\n",
        "thisset = {1,2,3}\n",
        "\n",
        "if 1 in thisset:\n",
        "  print('1 is in thisset')\n",
        "\n",
        "for x in thisset:\n",
        "  print(x)\n",
        "\n",
        "# Una vez creado, no podemos modificar sus elementos, solo agregar o remover.\n",
        "\n",
        "# Agregar o remover elementos\n",
        "\n",
        "'''\n",
        "Para agregar o remover elementos usamos add() o remove()\n",
        "'''\n",
        "\n",
        "thisset.add(4)\n",
        "print(thisset)\n",
        "\n",
        "# Para juntar dos set usamos update(), update() tambien agrega cualquier\n",
        "# tipo de collecion, o podemos usar union() el cual nos dara un nuevo\n",
        "# conjunto\n",
        "\n",
        "thisset2 = {10, 11, 12}\n",
        "\n",
        "thisset.update(thisset2)\n",
        "print(thisset)\n",
        "\n",
        "thislist = [100, 200, 300]\n",
        "thisset.update(thislist)\n",
        "print(thisset)\n",
        "\n",
        "thisset2 = {'a', 'b', 'c'}\n",
        "thisset3 = thisset.union(thisset2)\n",
        "print(thisset3)\n",
        "\n",
        "# Para remover elementos usamos remove() o discard()\n",
        "\n",
        "thisset.remove(1)\n",
        "print(thisset)\n",
        "\n",
        "# La diferencia entre remove() y discard() es que si el item ha sido eliminado\n",
        "# remove() dara un error y discard() no lo hara.\n",
        "\n",
        "# Para remover el ultimo elemento, el cual desconocemos, podemos usar pop()\n",
        "\n",
        "# Para vaciar el conjunto podemos usar clear()\n",
        "\n",
        "# Para eliminar el conjunto podemos usar del\n"
      ],
      "metadata": {
        "colab": {
          "base_uri": "https://localhost:8080/"
        },
        "id": "oVrM_T74_tgU",
        "outputId": "5912a3f7-15f3-4009-9f8d-730c8640e6e4"
      },
      "execution_count": null,
      "outputs": [
        {
          "output_type": "stream",
          "name": "stdout",
          "text": [
            "1 is in thisset\n",
            "1\n",
            "2\n",
            "3\n",
            "{1, 2, 3, 4}\n",
            "{1, 2, 3, 4, 10, 11, 12}\n",
            "{1, 2, 3, 4, 200, 10, 11, 12, 100, 300}\n",
            "{1, 2, 3, 4, 100, 'a', 200, 10, 11, 12, 300, 'c', 'b'}\n",
            "{2, 3, 4, 200, 10, 11, 12, 100, 300}\n"
          ]
        }
      ]
    },
    {
      "cell_type": "code",
      "source": [
        "# Loop sets\n",
        "\n",
        "'''\n",
        "Para iterar los elementos de un set podemos usar un ciclo for:\n",
        "'''\n",
        "\n",
        "thisset = {1,2,3,}\n",
        "\n",
        "for x in thisset:\n",
        "  print(x)"
      ],
      "metadata": {
        "colab": {
          "base_uri": "https://localhost:8080/"
        },
        "id": "dwMPtZB_BqJ-",
        "outputId": "b235ce7e-b077-4572-96eb-625ea0dae586"
      },
      "execution_count": null,
      "outputs": [
        {
          "output_type": "stream",
          "name": "stdout",
          "text": [
            "1\n",
            "2\n",
            "3\n"
          ]
        }
      ]
    },
    {
      "cell_type": "code",
      "source": [
        "# Operaciones entre conjuntos\n",
        "\n",
        "'''\n",
        "Podemos realizar una serie de operaciones con los sets, entre ellas\n",
        "'''\n",
        "\n",
        "thisset = {1,2,3}\n",
        "\n",
        "thisset2 = {2,3,4}\n",
        "\n",
        "#Union\n",
        "thisset3 = thisset.union(thisset2)\n",
        "print(thisset3)\n",
        "\n",
        "#Interseccion\n",
        "\n",
        "thisset4 = thisset.intersection(thisset2)\n",
        "print(thisset4)\n",
        "\n",
        "# Actualizar el mismo conjunto con los valores duplicados\n",
        "# usamos intersection_update()\n",
        "\n",
        "#Diferencia simetrica actualizando el conjunto\n",
        "# symmetric_difference_update()\n",
        "\n",
        "#Diferencia simetrica - Da un nuevo conjunto.\n",
        "# symmetric_difference()"
      ],
      "metadata": {
        "colab": {
          "base_uri": "https://localhost:8080/"
        },
        "id": "q6woThCzCdRA",
        "outputId": "d02d0363-c732-44fa-a046-220f30a6c5b4"
      },
      "execution_count": null,
      "outputs": [
        {
          "output_type": "stream",
          "name": "stdout",
          "text": [
            "{1, 2, 3, 4}\n",
            "{2, 3}\n"
          ]
        }
      ]
    },
    {
      "cell_type": "code",
      "source": [
        "# Metodos de conjuntos\n",
        "\n",
        "'''\n",
        "A manera de resumen coloco los metodos mas usados en los conjuntos o sets\n",
        "\n",
        "add()\tAdds an element to the set\n",
        "clear()\tRemoves all the elements from the set\n",
        "copy()\tReturns a copy of the set\n",
        "difference()\tReturns a set containing the difference between two or more sets\n",
        "difference_update()\tRemoves the items in this set that are also included in another, specified set\n",
        "discard()\tRemove the specified item\n",
        "intersection()\tReturns a set, that is the intersection of two other sets\n",
        "intersection_update()\tRemoves the items in this set that are not present in other, specified set(s)\n",
        "isdisjoint()\tReturns whether two sets have a intersection or not\n",
        "issubset()\tReturns whether another set contains this set or not\n",
        "issuperset()\tReturns whether this set contains another set or not\n",
        "pop()\tRemoves an element from the set\n",
        "remove()\tRemoves the specified element\n",
        "symmetric_difference()\tReturns a set with the symmetric differences of two sets\n",
        "symmetric_difference_update()\tinserts the symmetric differences from this set and another\n",
        "union()\tReturn a set containing the union of sets\n",
        "update()\tUpdate the set with the union of this set and others\n",
        "'''\n"
      ],
      "metadata": {
        "id": "9Xd5FM4qDtCS"
      },
      "execution_count": null,
      "outputs": []
    },
    {
      "cell_type": "markdown",
      "source": [
        "# Seccion 7 - Diccionarios"
      ],
      "metadata": {
        "id": "SqfwzrKIE-O5"
      }
    },
    {
      "cell_type": "code",
      "source": [
        "# Diccionarios\n",
        "'''\n",
        "Los diccionarios son usados para almacenar datos a partir de la configuracion\n",
        "key : pair.\n",
        "\n",
        "Los diccionarios son una coleccion ordenada, que permite cambios pero NO\n",
        "permite elementos duplicados. Es decir, a diferencia de los otros tipos de iterables, su\n",
        "principal diferencial es que no permiten elementos duplicados.\n",
        "'''\n",
        "\n",
        "thisdict = {'brand': 'Ford',\n",
        "            'model': 'Mustang',\n",
        "            'year' : '1964'\n",
        "             }\n",
        "# A partir de la version 3.7 los diccionarios estan ordenados.\n",
        "\n",
        "'''\n",
        "A similitud de los conjuntos, los diccionarios son declarados con llaves, con\n",
        "la diferencia de que funcionan a partir de una clave - valor.\n",
        "'''\n",
        "\n",
        "# Para obtener el valor de cierta clave usamos\n",
        "print(thisdict['brand'])\n",
        "\n",
        "# Los diccionarios no pueden tener dos item con la MISMA CLAVE\n",
        "\n",
        "# Para obtener la longitud de un diccionario usamos len()\n",
        "# Pueden almacenar cualquier tipo de dato en forma de clave o valor.\n",
        "# Son del tipo 'dict'\n",
        "\n",
        "# Es posible realizar la construccion a partir de dict() de la forma:\n",
        "# thisdict = dict(name = \"John\", age = 36, country = \"Norway\")"
      ],
      "metadata": {
        "colab": {
          "base_uri": "https://localhost:8080/"
        },
        "id": "HQ-OufhgFCGX",
        "outputId": "72336774-6eb8-4a59-d157-8eb997f20306"
      },
      "execution_count": null,
      "outputs": [
        {
          "output_type": "stream",
          "name": "stdout",
          "text": [
            "Ford\n"
          ]
        }
      ]
    },
    {
      "cell_type": "code",
      "source": [
        "# Acceder a los datos\n",
        "\n",
        "'''\n",
        "Para acceder a los datos de un diccionario podemos usar la clave o la funcion\n",
        "get()\n",
        "'''\n",
        "\n",
        "thisdict = {'brand': 'Ford',\n",
        "            'model': 'Mustang',\n",
        "            'year' : '1964'\n",
        "             }\n",
        "\n",
        "x = thisdict['year']  # A partir de la clave\n",
        "print(x)\n",
        "\n",
        "y = thisdict.get('year') #  A partir del metodo get()\n",
        "print(y)\n",
        "\n",
        "# Para obtener todas las claves o keys usamos el metodo keys()\n",
        "print(thisdict.keys())\n",
        "# Todo cambio realizado en el diccionario se refleja en las keys.\n",
        "\n",
        "# Para actualizar el valor de un clave usamos:\n",
        "thisdict['year'] = '2002'\n",
        "print(thisdict)\n",
        "\n",
        "# Para agregar un nuevo valor agregamos una clave nueva junto con su valor\n",
        "thisdict['color'] = 'black'\n",
        "print(thisdict)\n",
        "\n",
        "# Para obtener los valores usamos values() de la siguiente manera.\n",
        "print(thisdict.values())\n",
        "\n",
        "# El metodo items nos regresara cada uno de los items dentro de una tupla\n",
        "# en una lista\n",
        "\n",
        "print(thisdict.items()) # EL MEJOR METODO, dado que regresa en una LISTA la clave - valor\n",
        "\n",
        "# Para verificar si existe una clave existente podemos usar in\n",
        "\n",
        "if 'color' in thisdict:\n",
        "  print('The key is already in the dictionary')\n",
        "\n",
        "\n",
        "\n"
      ],
      "metadata": {
        "colab": {
          "base_uri": "https://localhost:8080/"
        },
        "id": "WC6M-GhzJL-3",
        "outputId": "fa1e059c-ff24-4df9-a057-13e11c84fc8f"
      },
      "execution_count": null,
      "outputs": [
        {
          "output_type": "stream",
          "name": "stdout",
          "text": [
            "1964\n",
            "1964\n",
            "dict_keys(['brand', 'model', 'year'])\n",
            "{'brand': 'Ford', 'model': 'Mustang', 'year': '2002'}\n",
            "{'brand': 'Ford', 'model': 'Mustang', 'year': '2002', 'color': 'black'}\n",
            "dict_values(['Ford', 'Mustang', '2002', 'black'])\n",
            "dict_items([('brand', 'Ford'), ('model', 'Mustang'), ('year', '2002'), ('color', 'black')])\n",
            "The key is already in the dictionary\n"
          ]
        }
      ]
    },
    {
      "cell_type": "code",
      "source": [
        "# Cambiar los elementos de un diccionario\n",
        "\n",
        "'''\n",
        "Para realizar cualquier modificacion nos referimos a la clave\n",
        "'''\n",
        "\n",
        "thisdict = {'brand': 'Ford',\n",
        "            'model': 'Mustang',\n",
        "            'year' : '1964'\n",
        "             }\n",
        "\n",
        "thisdict['year'] = '2002'\n",
        "#Si la clave es NUEVA se AGREGARA el elemento\n",
        "\n",
        "#Podemos actualizar una serie de valores a partir del update()\n",
        "thisdict.update({'year' : '2001', 'brand' : 'Honda'}  ) #OJO A LAS LLAVES\n",
        "# El argumento debe ser un diccionario o un iterable de la forma clave : valor\n",
        "# Si las claves son NUEVAS se AGREGARAN los elementos\n",
        "\n",
        "# Para remover elementos usamos pop(CLAVE)\n",
        "thisdict.pop('brand')\n",
        "\n",
        "# popitem() remueve el ultimo elemento agregado a la lista.\n",
        "# del puede remover el elemento si le indica la clave o todo el diccionario\n",
        "\n",
        "del thisdict['year']\n",
        "print(thisdict)\n",
        "\n",
        "# El metodo clear() limpia todo el diccionario."
      ],
      "metadata": {
        "colab": {
          "base_uri": "https://localhost:8080/"
        },
        "id": "8YmuEp9UMEDv",
        "outputId": "2c17d964-0077-4735-9df1-e998cbce901b"
      },
      "execution_count": null,
      "outputs": [
        {
          "output_type": "stream",
          "name": "stdout",
          "text": [
            "{'model': 'Mustang'}\n"
          ]
        }
      ]
    },
    {
      "cell_type": "code",
      "source": [
        "# Iterar un diccionario\n",
        "'''\n",
        "Las formas de iterar un diccionario corresponden las tradicioanles, tales como\n",
        "for, el cual nos dara unicamente las CLAVES/KEYS del diccionario.\n",
        "\n",
        "Podemos imprimir todos los valores a partir de:\n",
        "\n",
        "for x in thisdict:\n",
        "  print(thisdict[x])\n",
        "\n",
        "o bien a partir de:\n",
        "\n",
        "for x in thisdict.values():      Donde tambien podemos usar .keys()\n",
        "  print(x)\n",
        "\n",
        "Para obtener tanto los items de clave : valor usamos.\n",
        "\n",
        "for x,y in thisdict.items():\n",
        "  print(x,y)\n",
        "'''"
      ],
      "metadata": {
        "id": "If32Vzhc8XYt"
      },
      "execution_count": null,
      "outputs": []
    },
    {
      "cell_type": "code",
      "source": [
        "# Copiar diccionarios.\n",
        "\n",
        "'''\n",
        "Para realizar la copia de diccionarios usamos el metodo usual copy() o mediante\n",
        "el constructor dict()\n",
        "\n",
        "mydict = dict(thisdict)\n",
        "'''"
      ],
      "metadata": {
        "id": "qzmVJrnh9Xrw"
      },
      "execution_count": null,
      "outputs": []
    },
    {
      "cell_type": "code",
      "source": [
        "# Diccionarios dentro de diccionarios o Nested dictionaries\n",
        "\n",
        "'''\n",
        "Podemos tener un diccionario dentro de otro diccionario, esto es llamado\n",
        "diccionarios anidados o Nested dictionaries. Y son de la siguiente forma:\n",
        "'''\n",
        "\n",
        "myfamily = {\n",
        "  \"child1\" : {\n",
        "    \"name\" : \"Emil\",\n",
        "    \"year\" : 2004\n",
        "  },\n",
        "  \"child2\" : {\n",
        "    \"name\" : \"Tobias\",\n",
        "    \"year\" : 2007\n",
        "  },\n",
        "  \"child3\" : {\n",
        "    \"name\" : \"Linus\",\n",
        "    \"year\" : 2011\n",
        "  }\n",
        "}\n",
        "\n",
        "# O tambien puede realizarce creando los diccionarios interiores antes.\n",
        "\n",
        "child1 = {  #Primer sub-diccionario\n",
        "  \"name\" : \"Emil\",\n",
        "  \"year\" : 2004\n",
        "}\n",
        "child2 = {  #Segundo sub-diccionario\n",
        "  \"name\" : \"Tobias\",\n",
        "  \"year\" : 2007\n",
        "}\n",
        "child3 = {  #Tercer sub-diccionario\n",
        "  \"name\" : \"Linus\",\n",
        "  \"year\" : 2011\n",
        "}\n",
        "\n",
        "myfamily = {  # Diccionario referenciando a los sub-diccionarios\n",
        "  \"child1\" : child1,\n",
        "  \"child2\" : child2,\n",
        "  \"child3\" : child3\n",
        "}\n",
        "\n",
        "# Para acceder a los subdiccionarios usamos un par de chorchetes:\n",
        "print(myfamily[\"child2\"][\"name\"])\n"
      ],
      "metadata": {
        "id": "p5FEUYr29wGP",
        "colab": {
          "base_uri": "https://localhost:8080/"
        },
        "outputId": "c444cc01-4235-4ef7-e54f-c659d5be7afe"
      },
      "execution_count": null,
      "outputs": [
        {
          "output_type": "stream",
          "name": "stdout",
          "text": [
            "Tobias\n"
          ]
        }
      ]
    },
    {
      "cell_type": "code",
      "source": [
        "# Metodos de diccionarios\n",
        "\n",
        "'''\n",
        "A manera de resumen, coloco los metodos mas usados con diccionarios.\n",
        "\n",
        "clear()\tRemoves all the elements from the dictionary\n",
        "copy()\tReturns a copy of the dictionary\n",
        "fromkeys()\tReturns a dictionary with the specified keys and value\n",
        "get()\tReturns the value of the specified key\n",
        "items()\tReturns a list containing a tuple for each key value pair\n",
        "keys()\tReturns a list containing the dictionary's keys\n",
        "pop()\tRemoves the element with the specified key\n",
        "popitem()\tRemoves the last inserted key-value pair\n",
        "setdefault()\tReturns the value of the specified key. If the key does not exist: insert the key, with the specified value\n",
        "update()\tUpdates the dictionary with the specified key-value pairs\n",
        "values()\tReturns a list of all the values in the dictionary\n",
        "'''\n",
        "\n"
      ],
      "metadata": {
        "id": "LY91_Sm1-knG"
      },
      "execution_count": null,
      "outputs": []
    },
    {
      "cell_type": "markdown",
      "source": [
        "# Seccion 8 -Condicional If - Else"
      ],
      "metadata": {
        "id": "crbXMcyI_aRc"
      }
    },
    {
      "cell_type": "code",
      "source": [
        "# Condicional If - Else\n",
        "\n",
        "'''\n",
        "El condicional If - Else en Python es ligeramente mas simple que en otros\n",
        "lenguajes de programacion. Usa las siguientes condiciones de verdad:\n",
        "\n",
        "a == b\n",
        "a != b\n",
        "a < b\n",
        "a > b\n",
        "a <= b\n",
        "a >= b\n",
        "\n",
        "Para declararlo usamos la forma:\n",
        "'''\n",
        "\n",
        "a = 33\n",
        "b = 200\n",
        "if b > a:\n",
        "  print(\"b is greater than a\")\n",
        "\n",
        "# Lo MAS IMPORTANTE es la indentacion del codigo, dado que ello genera la\n",
        "# consecuencia. En otros lenguajes se usan llaves.\n",
        "\n",
        "'''\n",
        "Para colocar mas de una condicion usamos elif, es decir. Else If. Y se declara\n",
        "de la siguiente manera:\n",
        "'''\n",
        "\n",
        "a = 33\n",
        "b = 33\n",
        "if b > a:\n",
        "  print(\"b is greater than a\")\n",
        "elif a == b:\n",
        "  print(\"a and b are equal\")\n",
        "\n",
        "'''\n",
        "Para colocar una salida en caso de que ningua de las condiciones anteriores\n",
        "fuese verdad usamos else. De la siguiente manera:\n",
        "'''\n",
        "\n",
        "a = 200\n",
        "b = 33\n",
        "if b > a:\n",
        "  print(\"b is greater than a\")\n",
        "elif a == b:\n",
        "  print(\"a and b are equal\")\n",
        "else:\n",
        "  print(\"a is greater than b\")\n",
        "\n",
        "\n",
        "# METODO MAS CORTO DE DECLARACION\n",
        "\n",
        "'''\n",
        "Si tenemos una serie de breves condiciones, podemos declarar todo el\n",
        "condicional en una sola linea de codigo de la siguiente manera:\n",
        "'''\n",
        "\n",
        "if a > b: print('Wow, a is greater than b')\n",
        "\n",
        "# Mismo caso para elif\n",
        "\n",
        "a = 2\n",
        "b = 330\n",
        "\n",
        "print('A') if a > b else print('B')\n",
        "\n",
        "# Estas formas de declaracion son conocidas como Ternary Operators o\n",
        "# Conditional Expressions.\n",
        "\n",
        "# Podemos declarar varias condiciones dentro de una sola linea, colocando\n",
        "# condicionales dentro del else.\n",
        "\n",
        "a = 330\n",
        "b = 330\n",
        "print(\"A\") if a > b else print(\"=\") if a == b else print(\"B\")\n",
        "\n",
        "# Esta forma la considero realmente bonita."
      ],
      "metadata": {
        "colab": {
          "base_uri": "https://localhost:8080/"
        },
        "id": "JyZINOa1_elD",
        "outputId": "f75b564b-0d01-41d2-c739-00f5038ae846"
      },
      "execution_count": null,
      "outputs": [
        {
          "output_type": "stream",
          "name": "stdout",
          "text": [
            "b is greater than a\n",
            "a and b are equal\n",
            "a is greater than b\n",
            "Wow, a is greater than b\n",
            "B\n"
          ]
        }
      ]
    },
    {
      "cell_type": "code",
      "source": [
        "# Operadores logicos and, or, not\n",
        "\n",
        "'''\n",
        "Dentro de los condicionales podemos usar uso de los operadores logicos and,\n",
        "or o not. Los cuales nos permiten añadir dos condiciones de verdad en un mismo\n",
        "condicional. De la siguiente manera:\n",
        "'''\n",
        "\n",
        "a = 200\n",
        "b = 33\n",
        "c = 500\n",
        "if a > b and c > a: # and - or -  not\n",
        "  print(\"Both conditions are True\")\n",
        "\n",
        "# Dentro de los condicionales if podemos tener condicionales if, esto es conocido\n",
        "# como Nested conditionals o condicionales anidados.\n",
        "\n",
        "\n"
      ],
      "metadata": {
        "id": "gDoAsDZCFGxb"
      },
      "execution_count": null,
      "outputs": []
    },
    {
      "cell_type": "code",
      "source": [
        "# The pass Statement\n",
        "\n",
        "'''\n",
        "Es muy raro su uso, pero en el caso de que se cumpla una condicion y no queremos\n",
        "que se ejecute alguna otra accion podemos usar pass, de la siguiente manera:\n",
        "'''\n",
        "\n",
        "a = 1\n",
        "b = 1\n",
        "\n",
        "if a == b:\n",
        "  pass\n",
        "\n"
      ],
      "metadata": {
        "id": "IkMzhGsQF1h2"
      },
      "execution_count": null,
      "outputs": []
    },
    {
      "cell_type": "markdown",
      "source": [
        "# Seccion 9 - Loops: While, for"
      ],
      "metadata": {
        "id": "-MW16wdiHbCm"
      }
    },
    {
      "cell_type": "code",
      "source": [
        "# Loops: while - for\n",
        "\n",
        "'''\n",
        "Dentro de Python nos encontramos con dos ciclos, bucles o loop. Los cuales\n",
        "corresponden a while y for. Ambos se declaran de manera distinta y cumplen\n",
        "mismas funciones.\n",
        "'''\n",
        "\n",
        "# Para declarar un loop while usamos:\n",
        "\n",
        "i = 1 # Es necesario declarar una variable acumuladora\n",
        "while i < 6:  # Colocamos la condicones de verdad\n",
        "  print(i)  # Colocamos la accion\n",
        "  i += 1  # COLOCAMOS EL AUMENTO.\n",
        "\n",
        "# Podemos detener un loop con la keyword break\n",
        "\n",
        "# Podemos continuar con la siguiente iteracion en\n",
        "# un loop con la keyword continue\n",
        "\n",
        "# Podemos agregar un else cuando el codigo termine, es decir, cuando la\n",
        "# condicion deje de ser verdadera.\n",
        "\n",
        "\n"
      ],
      "metadata": {
        "id": "QEr2oP2nHfpO"
      },
      "execution_count": null,
      "outputs": []
    },
    {
      "cell_type": "code",
      "source": [
        "# Loop for\n",
        "'''\n",
        "Este ciclo es mucho mas facil de usar y presenta una mayor funcionalidad\n",
        "junto con estetica al codigo.\n",
        "\n",
        "Su forma de funcionar es ITERAR sobre una lista, tupla, diccionario, string o set.\n",
        "Basicamente iterar sobre todo lo iterable.\n",
        "\n",
        "Es ligeramente distinto al ciclo for en otros lenguajes de programacion y\n",
        "funciona mejor en la programacion orientada a objetos.\n",
        "\n",
        "Con este ciclo, podemos ejecutar un conjunto de acciones para cada elemento\n",
        "de una lista, etc.\n",
        "'''\n",
        "\n",
        "fruits = [\"apple\", \"banana\", \"cherry\"]\n",
        "for x in fruits:\n",
        "  print(x)\n",
        "\n",
        "# NO requiere una variable declarada antes de usarse.\n",
        "# Recuerda que los datos String son iterables.\n",
        "# Podemos detenerlo usando break\n",
        "# Para continuar a la siguiente iteracion usamos continue, es basicamente como un\n",
        "# \"vuelve a iniciar el código\".\n",
        "\n",
        "'''\n",
        "En ambos ciclos, la palabra continue lo que hace es evitar las lineas de codigo\n",
        "que le siguen y comienza en la siguiente iteracion\n",
        "'''\n",
        "\n",
        "# La Funcion range()\n",
        "\n",
        "'''\n",
        "Esta funcion nos permite iterar a traves de una secuencia de numeros que\n",
        "comienza en 0 y terminan donde le indiquemos SIN INCLUIRLO\n",
        "'''\n",
        "\n",
        "for x in range(10):\n",
        "  print(x)\n",
        "\n",
        "# Si queremos que comience en otro valor usamos range( 2, 6)\n",
        "# en este caso comienza en 2 y termina en 5\n",
        "\n",
        "# Si queremos que NO avance de 1 en 1, sino de saltos en otra configuracion\n",
        "# lo hacemos agregando un terce parametro range(0, 11, 2)\n",
        "# parte de 0, llega a 10 y lo hace de 2 en 2\n",
        "\n",
        "for x in range(0,11,2):\n",
        "  print(x)\n",
        "\n",
        "# Podemos agregar una accion cuando termine el ciclo mediante else. Este parte\n",
        "# no se ejecutara si el ciclo se detuvo con break.\n",
        "\n",
        "# NESTED LOOPS:\n",
        "'''\n",
        " Podemos tener un ciclo dentro de otro ciclo, esto es conocido como\n",
        " ciclos anidados o Nested loops. Este inner loop se ejecutára las veces\n",
        " necesarias por cada ciclo del outer loop, es decir, podemos tener una\n",
        " relación de 3 vueltas en el inner loop por cada vuelta del outer loops\n",
        "'''\n",
        "\n",
        "# Podemos dejar un ciclo vacio con pass sin obtener un error."
      ],
      "metadata": {
        "colab": {
          "base_uri": "https://localhost:8080/"
        },
        "id": "qQwUK6UxI_WC",
        "outputId": "3a872926-7feb-49a8-d4e3-57a459b68bd6"
      },
      "execution_count": null,
      "outputs": [
        {
          "output_type": "stream",
          "name": "stdout",
          "text": [
            "apple\n",
            "banana\n",
            "cherry\n",
            "0\n",
            "1\n",
            "2\n",
            "3\n",
            "4\n",
            "5\n",
            "6\n",
            "7\n",
            "8\n",
            "9\n",
            "0\n",
            "2\n",
            "4\n",
            "6\n",
            "8\n",
            "10\n"
          ]
        }
      ]
    },
    {
      "cell_type": "markdown",
      "source": [
        "# Seccion 10 - Functions - Funciones"
      ],
      "metadata": {
        "id": "JH-JIRRa0xSq"
      }
    },
    {
      "cell_type": "code",
      "source": [
        "# Funciones - Functions\n",
        "\n",
        "'''\n",
        "Las funciones son porciones de codigo que se ejecutan solo cuando son\n",
        "llamadas. La utilidad de las funciones es ingresar informacion (parametro) y\n",
        "obtener un resultado (return)\n",
        "\n",
        "Para definir una funcion usamos la keyword def\n",
        "'''\n",
        "\n",
        "def my_funtion():\n",
        "  print('Hello from a function')\n",
        "\n",
        "# Para llamar a una funcion, unicamente colocamos su nombre\n",
        "\n",
        "my_funtion()\n",
        "\n",
        "''' #Argumentos\n",
        "Los argumentos o args es la informacion de entrada en la funcion, los argumentos\n",
        "son especificados despues del nombre de la funcion dentro del parentesis ().\n",
        "\n",
        "Podemos agregar tantos argumentos como deseemos\n",
        "'''\n",
        "\n",
        "def add_lastname(firs_name):\n",
        "  print(firs_name, 'Amaro')\n",
        "\n",
        "add_lastname('Alan')\n",
        "\n",
        "# Parametro es la variable enunciada entre parentesis y argumento es el\n",
        "# valor que colocamos cuando es llamada.\n",
        "\n",
        "# Cuando se le llame a una funcion, debe de ingresarse a ella la cantidad de\n",
        "# argumentos que solicita. En caso contrario se obtiene un error.\n",
        "\n",
        "'''\n",
        "En caso de que se desconozca la cantidad de argumentos a introducir, podemos\n",
        "usar un asterisco * para ingresar todos los valores que queramos.\n",
        "\n",
        "Estos valores seran almacenados en forma de tupla y dentro de la funcion los\n",
        "podremos tomar mediante su index.\n",
        "'''\n",
        "def youngest(*kids): #Usualmente abreviado como *args\n",
        "  print(\"The youngest child is \" + kids[2])\n",
        "\n",
        "youngest(\"Emil\", \"Tobias\", \"Linus\")\n",
        "\n",
        "# Los argumentos pueden introducirse en la variable al enunciar que datos\n",
        "# corresponden a cada parametro de la siguiente forma.\n",
        "# Esto es conocido como Keyword arguments o kwargs\n",
        "\n",
        "def youngest1(child3, child2, child1):\n",
        "  print(\"The youngest child is \" + child3)\n",
        "\n",
        "youngest1(child1 = \"Emil\", child2 = \"Tobias\", child3 = \"Linus\")\n",
        "\n",
        "# En caso de desconocer la cantidad de kwargs podemos utilizar (**parameter).\n",
        "# de esta manera, se recibira como entrada un diccionario de argumentos\n",
        "# y se podra hacer uso en la funcion referenciando a su clave.\n",
        "\n",
        "def kid(**kid):\n",
        "  print(\"His last name is \" + kid[\"lname\"])\n",
        "\n",
        "kid(fname = \"Tobias\", lname = \"Refsnes\")\n",
        "\n",
        "# IMPORTANTE: Esta manera nos evitara muchos problemas de orden en el futuro.\n"
      ],
      "metadata": {
        "colab": {
          "base_uri": "https://localhost:8080/"
        },
        "id": "wr_tFxY304-W",
        "outputId": "8e63f41b-cd5d-48ea-a93c-addbb111f7e0"
      },
      "execution_count": null,
      "outputs": [
        {
          "output_type": "stream",
          "name": "stdout",
          "text": [
            "Hello from a function\n",
            "Alan Amaro\n",
            "The youngest child is Linus\n",
            "The youngest child is Linus\n",
            "His last name is Refsnes\n"
          ]
        }
      ]
    },
    {
      "cell_type": "code",
      "source": [
        "# Uso de los parametros.\n",
        "\n",
        "'''\n",
        "Podemos colocar un parametro default en caso de que no se ingrese informacion\n",
        "dentro de la funcion, de la siguiente manera:\n",
        "'''\n",
        "def countries(country = \"Norway\"):\n",
        "  print(\"I am from \" + country)\n",
        "\n",
        "countries(\"Sweden\")\n",
        "countries(\"India\")\n",
        "countries()\n",
        "countries(\"Brazil\")\n",
        "\n",
        "# Dentro de los argumentos podemos manejar cualquier tipo de iterable.\n",
        "\n",
        "def my_fruits(food):\n",
        "  for x in food:\n",
        "    print(x)\n",
        "\n",
        "fruits = [\"apple\", \"banana\", \"cherry\"]\n",
        "\n",
        "my_fruits(fruits)\n",
        "\n"
      ],
      "metadata": {
        "colab": {
          "base_uri": "https://localhost:8080/"
        },
        "id": "T4OSq6eqDc3w",
        "outputId": "ac7ef68f-4503-4287-8a77-1abc548aa626"
      },
      "execution_count": null,
      "outputs": [
        {
          "output_type": "stream",
          "name": "stdout",
          "text": [
            "I am from Sweden\n",
            "I am from India\n",
            "I am from Norway\n",
            "I am from Brazil\n",
            "apple\n",
            "banana\n",
            "cherry\n"
          ]
        }
      ]
    },
    {
      "cell_type": "code",
      "source": [
        "# Retornar valores Return y Pass\n",
        "'''\n",
        "Para indicar a la funcion que valor debe regresar utilizamos la palabra\n",
        "reservada return de la siguiente manera:\n",
        "'''\n",
        "\n",
        "def my_function(x):\n",
        "  return 5 * x\n",
        "\n",
        "print(my_function(3))\n",
        "print(my_function(5))\n",
        "print(my_function(9))\n",
        "\n",
        "'''\n",
        "Las funciones en Python no pueden estar vacias, por ende, para dejar una\n",
        "funcion sin ninguna accion hacemos uso de la keyword pass.\n",
        "'''\n",
        "def yes_pass():\n",
        "  pass\n"
      ],
      "metadata": {
        "colab": {
          "base_uri": "https://localhost:8080/"
        },
        "id": "CybiouYEEYVX",
        "outputId": "d6abfe5a-9dc9-4ec6-a1ab-8efb2f0b2f5a"
      },
      "execution_count": null,
      "outputs": [
        {
          "output_type": "stream",
          "name": "stdout",
          "text": [
            "15\n",
            "25\n",
            "45\n"
          ]
        }
      ]
    },
    {
      "cell_type": "code",
      "source": [
        "# Recursion\n",
        "'''\n",
        "La recursion es el proceso en que el valor n corresponde a un valor n-1, donde\n",
        "a traves de sucesivas iteraciones se obtiene el siguiente valor partiendo\n",
        "de un valor n_0.\n",
        "\n",
        "En Python se tiene la recursion, es decir, las funciones se pueden llamar\n",
        "a si mismas.\n",
        "\n",
        "Su utilidad entra en que se puede iterar los datos para alcanzar un resultado.\n",
        "'''\n",
        "\n",
        "def tri_recursion(k):\n",
        "  if(k > 0):\n",
        "    result = k + tri_recursion(k - 1)\n",
        "    print(result)\n",
        "  else:\n",
        "    result = 0\n",
        "  return result\n",
        "\n",
        "print(\"\\n\\nRecursion Example Results\")\n",
        "tri_recursion(6)\n",
        "\n",
        "'''\n",
        "En el caso del ejemplo anterior, se parte del valor 0 y luego el valor 1,\n",
        "luego se obtiene 3, 6, 10, 15, 21. Se va sumando de manera consecutiva el valor\n",
        "actual y el valor anterior.\n",
        "\n",
        "'''\n"
      ],
      "metadata": {
        "colab": {
          "base_uri": "https://localhost:8080/",
          "height": 214
        },
        "id": "9sJgfvibJ5nN",
        "outputId": "bc1a845c-99f9-43aa-d762-aca1f44ab5bd"
      },
      "execution_count": null,
      "outputs": [
        {
          "output_type": "stream",
          "name": "stdout",
          "text": [
            "\n",
            "\n",
            "Recursion Example Results\n",
            "1\n",
            "3\n",
            "6\n",
            "10\n",
            "15\n",
            "21\n"
          ]
        },
        {
          "output_type": "execute_result",
          "data": {
            "text/plain": [
              "'\\nEn el caso del ejemplo anterior, se parte del valor 0 y luego el valor 1,\\nluego se obtiene 3, 6, 10, 15, 21. Se va sumando de manera consecutiva el valor\\nactual y el valor anterior.\\n'"
            ],
            "application/vnd.google.colaboratory.intrinsic+json": {
              "type": "string"
            }
          },
          "metadata": {},
          "execution_count": 7
        }
      ]
    },
    {
      "cell_type": "code",
      "source": [
        "# Fibonacci Function\n",
        "'''\n",
        "In order to test myself about how recursion works, I've done the Fibonacci Function\n",
        "as it follows:\n",
        "\n",
        "0 1 1 2 3 5 8\n",
        "'''\n",
        "\n",
        "def fibonacci_fuction(n):\n",
        "  if (n > 0):\n",
        "    return 0 if n == 1 else 1 if n == 2 else fibonacci_fuction(n-1) + fibonacci_fuction(n-2)\n",
        "\n",
        "  else:\n",
        "    print('No zero or negative numbers are allow.')\n",
        "\n",
        "#fibonacci_fuction(5)\n",
        "\n",
        "\n",
        "# Or if you want to know each term:\n",
        "\n",
        "def finobacci_function_each_term(n):\n",
        "  if n > 0:\n",
        "    for x in range(n):\n",
        "      print(fibonacci_fuction(x+1), end = ', ')\n",
        "  else:\n",
        "    print(\"No zero or negative numbers are allow.\")\n",
        "\n",
        "finobacci_function_each_term(34)\n"
      ],
      "metadata": {
        "colab": {
          "base_uri": "https://localhost:8080/"
        },
        "id": "m-2x_E1VtVuc",
        "outputId": "b47fc228-03b0-4d45-f7b7-3a4c49da15ad"
      },
      "execution_count": null,
      "outputs": [
        {
          "output_type": "stream",
          "name": "stdout",
          "text": [
            "0, 1, 1, 2, 3, 5, 8, 13, 21, 34, 55, 89, 144, 233, 377, 610, 987, 1597, 2584, 4181, 6765, 10946, 17711, 28657, 46368, 75025, 121393, 196418, 317811, 514229, 832040, 1346269, 2178309, 3524578, "
          ]
        }
      ]
    },
    {
      "cell_type": "code",
      "source": [
        "# Python Lambda - Una forma muy elegante y simple de crear funciones\n",
        "\n",
        "'''\n",
        "Una funcion Lambda es una muy pequeña y anonima funcion. Puede tomar\n",
        "cualquier cantidad de argumentos pero solo puede tener una\n",
        "expresion, es decir, debe ser de un solo renglon.\n",
        "\n",
        "Tiene la siguiente sintaxis:\n",
        "\n",
        "lambda arguments : expression\n",
        "'''\n",
        "\n",
        "# Ejemplo:\n",
        "\n",
        "x = lambda a: a + 10\n",
        "\n",
        "print( x(5) )\n",
        "\n",
        "# Ejemplo con un numero grande de argumentos:\n",
        "\n",
        "y = lambda x, y : x * y\n",
        "\n",
        "print( y(5,6) )\n",
        "\n",
        "''' #Por que usarlas\n",
        "Usamos las funciones lambda cuando necesitamos una funcion breve y anonima\n",
        "dentro de otra funcion.\n",
        "'''\n",
        "\n",
        "# Ejemplo\n",
        "\n",
        "def myfunc(n): #  Esta funcion multiplica dos numeros no declarados\n",
        "  return lambda a : a * n\n",
        "\n",
        "mydoubler = myfunc(2) # Colocamos que myfunc siempre doble el valor\n",
        "\n",
        "print(mydoubler(11)) #  Ingresamos el valor a doblar.\n",
        "\n",
        "# Dado que la funcion ya esta usada por 2, los nuevos valores seran utilizados\n",
        "# por la funcion lambda.\n"
      ],
      "metadata": {
        "colab": {
          "base_uri": "https://localhost:8080/"
        },
        "id": "01msAWtcMg1o",
        "outputId": "96b0d056-fba9-448d-eee3-e86925cf6a38"
      },
      "execution_count": null,
      "outputs": [
        {
          "output_type": "stream",
          "name": "stdout",
          "text": [
            "15\n",
            "30\n",
            "22\n"
          ]
        }
      ]
    },
    {
      "cell_type": "code",
      "source": [
        "# Ejercicio: Sucesion fibonacci usando recursion en Python.\n",
        "\n",
        "termino = int( input('Ingresa el termino hasta el que deseeas obtener la sucesion de fibonacci: ') )\n",
        "\n",
        "def my_fib(termino):\n",
        "  if termino == 1:\n",
        "    n = 0\n",
        "    return n\n",
        "\n",
        "  elif (termino == 2):\n",
        "    n = 1\n",
        "    return n\n",
        "\n",
        "  elif (termino > 2):\n",
        "    n = my_fib(termino - 1) + my_fib(termino - 2)\n",
        "    return n\n",
        "\n",
        "\n",
        "print('El termino corresponde a:', my_fib(termino))\n",
        "\n",
        "print('La sucesion de numeros corresponde a:')\n",
        "\n",
        "for x in range(1, termino + 1):\n",
        "  if x < (termino):\n",
        "    print(my_fib((x)), ', ' , end = ' ')\n",
        "  else:\n",
        "    print(my_fib((x)), end = ' ' )\n"
      ],
      "metadata": {
        "colab": {
          "base_uri": "https://localhost:8080/"
        },
        "id": "tyJGPxnaRvyQ",
        "outputId": "2ab88de4-736b-4b3f-ad26-d47e2b25a1be"
      },
      "execution_count": null,
      "outputs": [
        {
          "output_type": "stream",
          "name": "stdout",
          "text": [
            "Ingresa el termino hasta el que deseeas obtener la sucesion de fibonacci: 9\n",
            "El termino corresponde a: 21\n",
            "La sucesion de numeros corresponde a:\n",
            "0 ,  1 ,  1 ,  2 ,  3 ,  5 ,  8 ,  13 ,  21 "
          ]
        }
      ]
    },
    {
      "cell_type": "markdown",
      "source": [
        "# Seccion 11 - Python Arrays"
      ],
      "metadata": {
        "id": "rzlxoBbocTuM"
      }
    },
    {
      "cell_type": "code",
      "source": [
        "# Python arrays\n",
        "'''\n",
        "Los arrays o arreglos dentro de Python no tiene una estructura definida, por\n",
        "lo que debemos de usar listas para simular su uso o utilizar la libreria\n",
        "NumPy.\n",
        "\n",
        "Los arreglos son usados para guardar varios datos en una sola variable, de la\n",
        "misma formar que las listas, tuplas, diccionarios o sets, con la diferencia\n",
        "de que se hace de forma indexada y modificable, por ello las listas son el\n",
        "mejor candidato.\n",
        "\n",
        "Funcionan de la misma manera que en Java, utilizamos el indice de las listas\n",
        "para revisar o modificar su valor.\n",
        "\n",
        "Obtenemos la longitud del arreglo mediante len(), para iterar sus elementos\n",
        "podemos usar un ciclo for o while, pero es mas sencillo mediante for.\n",
        "\n",
        "Para ingresar elementos al final de la lista podemos usar append() o para\n",
        "ingresarlos en determinada posicion podemos usar insert() y para removerlos\n",
        "usamos pop() si contamos con el indice o remove() si contamos con el valor.\n",
        "\n",
        "# El metodo remove() solo remueve la primera aparicion del elemento a remover\n",
        "\n",
        "'''\n",
        "\n"
      ],
      "metadata": {
        "id": "4ccemKxucQ5H"
      },
      "execution_count": null,
      "outputs": []
    },
    {
      "cell_type": "markdown",
      "source": [
        "# Seccion 12 - Programacion Orientada a objetos"
      ],
      "metadata": {
        "id": "xtTd8SsWfC7G"
      }
    },
    {
      "cell_type": "code",
      "source": [
        "''' # Que es POO - Clases\n",
        "La programacion orientada a objetos o POO es una forma de programar, la cual\n",
        "se refiere a la abstraccion de objetos del mundo fisico a codigo. Funciona\n",
        "creando moldes con propiedades y acciones y a partir del molde crear objetos\n",
        "particulares.\n",
        "\n",
        "El molde se denomina Clase o Class y contiene los atributos y metodos de los\n",
        "proximos objetos, es decir, como es, como luce, que caracteristicas tiene y que\n",
        "puede hacer.\n",
        "\n",
        "Por decir, en el videojuego de Minecraft se tiene un cubo base o plantilla\n",
        "el cual es el cubo sin textura, ese cubo forma nuestra clase. A partir de el\n",
        "obtenemos los demas cubos agregando acciones especificas, como congelar, quemar,\n",
        "expandirse, etc.\n",
        "'''"
      ],
      "metadata": {
        "id": "jVxwkMwpfJtf"
      },
      "execution_count": null,
      "outputs": []
    },
    {
      "cell_type": "code",
      "source": [
        "# Herencia\n",
        "'''\n",
        "La herencia es el arte de la reutilizacion de codigo, consiste en\n",
        "programar solo una vez y poder darle el mismo uso del codigo anterior a un\n",
        "nuevo codigo.\n",
        "\n",
        "Esto en POO, se denomina herencia, se parte de una clase general o clase padre.\n",
        "también puede denomiarse primer model\n",
        "y se puede utilizar nuevamente sus acciones en sus clases hijas mediante\n",
        "la herencia de metodos y atributos con sus respectivas modificaciones de cada\n",
        "clase hija.\n",
        "'''"
      ],
      "metadata": {
        "id": "c86Yjou6hat9"
      },
      "execution_count": null,
      "outputs": []
    },
    {
      "cell_type": "code",
      "source": [
        "# Como se incorpora a Python.\n",
        "'''\n",
        "Python es un lenguaje orientado a objetos, de manera que cuenta con sus propios\n",
        "metodos para la declaracion y uso de clases.\n",
        "\n",
        "# Una clase es un constructor de objetos de forma simple, es el padre que crea\n",
        "algun objeto.\n",
        "'''\n",
        "\n",
        "# Creacion de una clase\n",
        "\n",
        "class my_class:   # Usamos la keyword class\n",
        "  x = 5\n",
        "\n",
        "# Crear objetos\n",
        "\n",
        "p1 = my_class()\n",
        "print(p1.x)\n",
        "\n",
        "'''\n",
        "La clase y objetos declarados arriba son la forma mas simple y no son realmente\n",
        "utiles. Para hacer este tipo de programacion util en Python necesitamos a\n",
        "la funcion __init__().\n",
        "\n",
        "La funcion __init__() es ejecutada al comienzo de cada clase, tiene como funcion\n",
        "asignar los valores a las propiedades del objeto creado. Y se usa de la siguiente\n",
        "manera:\n",
        "\n",
        "# Nota que son dos _ _ al declarar init()\n",
        "'''\n",
        "\n",
        "# Es decir, es una forma de asignar variables dentro de la clase, le damos sus\n",
        "# condiciones iniciales\n",
        "class Person:\n",
        "  def __init__(self, name, age): #  La funcion es llmada de forma automatica\n",
        "    self.name = name             #  cuando se crea un nuevo objeto.\n",
        "    self.age = age\n",
        "\n",
        "p1 = Person('Alan', '20')\n",
        "\n",
        "print(p1.name)\n",
        "print(p1.age)\n",
        "\n",
        "class Person_FC:\n",
        "  def __init__(self, name, age, career, time_career):\n",
        "    self.name = name\n",
        "    self.age = age\n",
        "    self.career = career\n",
        "    self.time_career = time_career\n",
        "\n",
        "pFC = Person_FC(\"Alan\", \"21\", \"Física\", \"3.5\")\n",
        "\n",
        "print(pFC.career)\n",
        "\n",
        "\n"
      ],
      "metadata": {
        "colab": {
          "base_uri": "https://localhost:8080/"
        },
        "id": "ZFpGGlfKjCjs",
        "outputId": "21b84c1d-1c75-44a2-bf1a-7d3b5ef03e7e"
      },
      "execution_count": null,
      "outputs": [
        {
          "output_type": "stream",
          "name": "stdout",
          "text": [
            "5\n",
            "Alan\n",
            "20\n",
            "Física\n"
          ]
        }
      ]
    },
    {
      "cell_type": "code",
      "source": [
        "# The __str()__ function\n",
        "\n",
        "'''\n",
        "Esta funcion controla aquello que debe ser devuelto cuando el objeto es\n",
        "representado como una string. Si la funcion no es colocada, cuando se llame\n",
        "al objeto se imprime la representacion que le de Python.\n",
        "'''\n",
        "\n",
        "# Sin __srt__() function\n",
        "class Person:\n",
        "  def __init__(self, name, age):\n",
        "    self.name = name\n",
        "    self.age = age\n",
        "\n",
        "p1 = Person(\"John\", 36)\n",
        "\n",
        "print(p1)\n",
        "\n",
        "# Con __srt__() function\n",
        "\n",
        "class Person:\n",
        "  def __init__(self, name, age):\n",
        "    self.name = name\n",
        "    self.age = age\n",
        "\n",
        "  def __str__(self):\n",
        "    return f\"{self.name}({self.age})\"\n",
        "\n",
        "p1 = Person(\"John\", 36)\n",
        "\n",
        "print(p1)\n"
      ],
      "metadata": {
        "colab": {
          "base_uri": "https://localhost:8080/"
        },
        "id": "hSue0RyWk_--",
        "outputId": "69ebe520-1876-4f60-eec2-56215ff40593"
      },
      "execution_count": null,
      "outputs": [
        {
          "output_type": "stream",
          "name": "stdout",
          "text": [
            "<__main__.Person object at 0x7f677fda8f40>\n",
            "John(36)\n"
          ]
        }
      ]
    },
    {
      "cell_type": "code",
      "source": [
        "# Metodos de los objetos - Acciones\n",
        "'''\n",
        "Los metodos de los objetos se refiere a las acciones que los objetos pueden\n",
        "realizar. Por decir, si creamos un personaje que pueda decir su nombre o\n",
        "darnos el dia.\n",
        "\n",
        "Los metodos son funciones contenidas en la clase de los objetos y se\n",
        "declaran de la siguiente forma:\n",
        "'''\n",
        "\n",
        "class Person:\n",
        "  def __init__(self, name, age, career):\n",
        "    self.name = name\n",
        "    self.age = age\n",
        "    self.career = career\n",
        "\n",
        "  def __str__(self):\n",
        "    return f\" {self.name}({self.age})({self.career})  \"\n",
        "\n",
        "  def hi(self):\n",
        "    print('Hi, my name is', self.name)\n",
        "\n",
        "  def how_ru(self, namep):\n",
        "    print('¿Cómo te encuentras hoy?', namep)\n",
        "\n",
        "p1 = Person('Alan', 20, 'Physics')\n",
        "\n",
        "p1.hi()\n",
        "\n",
        "p1.how_ru('Alan')\n",
        "\n",
        "'''\n",
        "El parametro self es una referencia a la clase actual y es usado para acceder\n",
        "a las variables de la clase.\n",
        "'''\n",
        "\n"
      ],
      "metadata": {
        "colab": {
          "base_uri": "https://localhost:8080/",
          "height": 89
        },
        "id": "RCZDhx7_srAN",
        "outputId": "a219fb82-b2ea-4b0d-f447-8d7952f5d9d5"
      },
      "execution_count": null,
      "outputs": [
        {
          "output_type": "stream",
          "name": "stdout",
          "text": [
            "Hi, my name is Alan\n",
            "¿Cómo te encuentras hoy? Alan\n"
          ]
        },
        {
          "output_type": "execute_result",
          "data": {
            "text/plain": [
              "'\\nEl parametro self es una referencia a la clase actual y es usado para acceder\\na las variables de la clase.\\n'"
            ],
            "application/vnd.google.colaboratory.intrinsic+json": {
              "type": "string"
            }
          },
          "metadata": {},
          "execution_count": 15
        }
      ]
    },
    {
      "cell_type": "code",
      "source": [
        "# El parametro Self\n",
        "'''\n",
        "El parametro Self nos permite referirnos a la clase actual y acceder a sus\n",
        "variables, debe colocarse al comienzo de cada función de la clase.\n",
        "'''\n",
        "\n",
        "# self es modificado por mysillyobject y abc\n",
        "\n",
        "class Person:\n",
        "  def __init__(mysillyobject, name, age):\n",
        "    mysillyobject.name = name\n",
        "    mysillyobject.age = age\n",
        "\n",
        "  def myfunc(abc):\n",
        "    print(\"Hello my name is \" + abc.name)\n",
        "\n",
        "p1 = Person(\"John\", 36)\n",
        "p1.myfunc()\n"
      ],
      "metadata": {
        "colab": {
          "base_uri": "https://localhost:8080/"
        },
        "id": "0oUWERuj7zck",
        "outputId": "15233d91-db9e-4b9f-d51e-e707b4bfc4ed"
      },
      "execution_count": null,
      "outputs": [
        {
          "output_type": "stream",
          "name": "stdout",
          "text": [
            "Hello my name is John\n"
          ]
        }
      ]
    },
    {
      "cell_type": "code",
      "source": [
        "# Modificar, eliminar tanto objetos como sus caracteristicas\n",
        "\n",
        "class Person:\n",
        "  def __init__(self, age, name, career):\n",
        "    self.age = age\n",
        "    self.name = name\n",
        "    self.career = career\n",
        "\n",
        "  def __str__(self):\n",
        "    return f\" {self.name} ({self.age})({self.career})  \"\n",
        "\n",
        "  def Hi(self):\n",
        "    print(\"Hola, mi nombre es\", self.name)\n",
        "\n",
        "  def HRU(self):\n",
        "    print(\"¿Cómo estás? ¿Te encuentras bien?\")\n",
        "\n",
        "\n",
        "p1 = Person(20, 'Alan', 'Physics')\n",
        "print(p1.age)\n",
        "\n",
        "# Para modificar nos referimos a la clase y modificamos\n",
        "\n",
        "p1.age = 21\n",
        "print(p1.age)\n",
        "\n",
        "# Para eliminar utilizamos del\n",
        "\n",
        "del p1.age\n",
        "\n",
        "# Para eliminar objetos utilizamos del\n",
        "\n",
        "del p1\n",
        "\n"
      ],
      "metadata": {
        "colab": {
          "base_uri": "https://localhost:8080/"
        },
        "id": "JGw4Hd6W8YNY",
        "outputId": "55b12a34-b742-45ee-9427-4dd2c1c2aa22"
      },
      "execution_count": null,
      "outputs": [
        {
          "output_type": "stream",
          "name": "stdout",
          "text": [
            "20\n",
            "21\n"
          ]
        }
      ]
    },
    {
      "cell_type": "code",
      "source": [
        "# Pass statament\n",
        "'''\n",
        "Dado que las clases no pueden estar vacias, utilizamos la keyword pass\n",
        "para dejar a las clases sin ninguna accion por realizar.\n",
        "'''"
      ],
      "metadata": {
        "id": "ETcwsQ7p9eoS"
      },
      "execution_count": null,
      "outputs": []
    },
    {
      "cell_type": "markdown",
      "source": [
        "# Seccion 13 - Herencia o Inheritance"
      ],
      "metadata": {
        "id": "jVCQcacf3kxW"
      }
    },
    {
      "cell_type": "code",
      "source": [
        "# Herencia\n",
        "'''\n",
        "Tal como comentamos anteriormente, la herencia se da cuando damos los metodos\n",
        "y atributos a otra clase sin tener que escribir todo el codigo de nuevo. De\n",
        "una clase padre damos todo a una clase hija.\n",
        "\n",
        "La clase que da los metodos es denominada Clase padre o base y la que hereda\n",
        "se denomina clase hija o derivada.\n",
        "\n",
        "Para crear una clase padre lo hacemos de la misma manera que cualquier clase o\n",
        "dicho de otra forma, cualquier clase puede ser una clase padre.\n",
        "'''"
      ],
      "metadata": {
        "id": "wmFls7Rh4ZKU"
      },
      "execution_count": null,
      "outputs": []
    },
    {
      "cell_type": "code",
      "source": [
        "# Ej -Create a class named Person, with firstname and lastname properties,\n",
        "# and a printname method:\n",
        "\n",
        "class Person:\n",
        "  def __init__(self, firstname, lastname):\n",
        "    self.firstname = firstname\n",
        "    self.lastname = lastname\n",
        "\n",
        "  def __strt__(self):\n",
        "    return f\"{self.firstname}({self.lastname})\"\n",
        "\n",
        "  def printname(self):\n",
        "    print('My name is', self.firstname, self.lastname)\n",
        "\n",
        "p1 = Person('Alan', 'Amaro')\n",
        "\n",
        "p1.printname()\n",
        "\n",
        "# Ej - Use the Student class to create an object, and then execute the\n",
        "# printname method:\n",
        "\n",
        "class Student(Person):\n",
        "  pass\n",
        "\n",
        "s1 = Student('Maria', 'Amaro')\n",
        "\n",
        "s1.printname()"
      ],
      "metadata": {
        "colab": {
          "base_uri": "https://localhost:8080/"
        },
        "id": "XlOUiFZT4_Yf",
        "outputId": "bb2ceaf7-d435-4caa-ad63-38ef2573065e"
      },
      "execution_count": null,
      "outputs": [
        {
          "output_type": "stream",
          "name": "stdout",
          "text": [
            "My name is Alan Amaro\n",
            "My name is Maria Amaro\n"
          ]
        }
      ]
    },
    {
      "cell_type": "code",
      "source": [
        "# Creacion de una clase hija\n",
        "'''\n",
        "Para crear una clase hija que herede los atributos y metodos de una clase padre\n",
        "colocamos el nombre de la clase padre entre parentesis como un parametro\n",
        "'''\n",
        "\n",
        "class Studen(Person):\n",
        "  pass\n",
        "\n",
        "# En este caso, usamos pass para no agregar nuevos metodos o propiedades a la\n",
        "# clase\n",
        "\n",
        "# El ejemplo esta en el codigo de arriba"
      ],
      "metadata": {
        "id": "f9Y2OhcQ5vwZ"
      },
      "execution_count": null,
      "outputs": []
    },
    {
      "cell_type": "code",
      "source": [
        "# __init__() Function in Inheritance\n",
        "'''\n",
        "Si queremos que la clase hija pueda realizar mas acciones es necesario\n",
        "agregar utilizar la funcion __init__().\n",
        "\n",
        "Esta funcion nos permitira agregar nuevos atributos a la clase hija.\n",
        "En el momento que agregamos la funcion __init__(), la clase hija ya no\n",
        "hereda de la clase padre, para evitar que esto suceda es necesario referenciar\n",
        "la clase padre dentro de la clase hija.\n",
        "\n",
        "Es decir, es necesario agregar el comando:\n",
        "\n",
        "Person.__init__(self, fname, lname)\n",
        "\n",
        "O con la sintaxis\n",
        "\n",
        "Class_father.__init__(self, p1, ..., p2)\n",
        "\n",
        "'''\n",
        "# Ej\n",
        "class Student(Person):  # Esta clase esta herendado de Person\n",
        "  def __init__(self, fname, lname):\n",
        "    Person.__init__(self, fname, lname)   # Mantenemos la herencia.\n",
        "    # Agregamos nuevos atributos\n",
        "\n",
        "    # Agrega nuevos métodos de forma usual\n",
        "\n",
        "\n",
        "''' # IMPORTANTE: Heredar todos los metodos\n",
        "Para heredar todos los metodos y atributos de una clase padre a una clase hija\n",
        "es necesario utilizar la palabra super(), de esta manera no es necesario\n",
        "colocar los nombres de la clase padre.\n",
        "'''\n",
        "\n",
        "class Student(Person):\n",
        "  def __init__(self, fname, lname):\n",
        "    super().__init__(fname, lname) #  Colocamos los atributos que queremos obtener.\n",
        "\n"
      ],
      "metadata": {
        "id": "G-FmoqTP7iOM"
      },
      "execution_count": null,
      "outputs": []
    },
    {
      "cell_type": "code",
      "source": [
        "# Agregar propiedades y metodos a clases hijas.\n",
        "\n",
        "''' # Atributos\n",
        "Para agregar atributos lo hacemos de la manera tradicional, agregamos un\n",
        "nuevo parametro en la funcion __init__() y lo agregamos dentro de ella.\n",
        "'''\n",
        "\n",
        "''' # Metodos\n",
        "Para agregar metodos lo hacemos de la misma manera, unicamente agregamos una\n",
        "nueva funcion en la clase hija.\n",
        "\n",
        "# Si se agrega un metodo con en la clase hija con el mismo nombre de un\n",
        "metodo de la clase padre se sobreescribira, esto se denomina\n",
        "POLIMORFISMO\n",
        "'''"
      ],
      "metadata": {
        "id": "nLLozMzXBtDQ"
      },
      "execution_count": null,
      "outputs": []
    },
    {
      "cell_type": "code",
      "source": [
        "# Polimorfismo - Polymorphism\n",
        "'''\n",
        "El polimorfismo actua solo cuando hay una herencia, en este caso, la clase hija\n",
        "hereda los metodos y atributos de la clase padre. Pero en el caso que se busque\n",
        "que la clase hija realice una accion diferente con el mismo metodo se debe\n",
        "sobreescribir el metodo. Es decir, se hereda el metodo y se le da una nueva\n",
        "accion.\n",
        "\n",
        "Esta accion fue realizada en la parte de arriba, solo que sin especificarse.\n",
        "\n",
        "De esta manera, tenemos clases hijas con los mismos metodos pero con diferentes\n",
        "acciones. Cuando creemos un objeto proveniente de la clase hija, realizara\n",
        "estas nuevas acciones aun herendando los atributos de la clase padre y\n",
        "quiza otros metodos de la clase base.\n",
        "\n",
        "A su vez, también se denomina polimorfismo a la capacidad de un método, funcion o operador\n",
        "para ser usado por distancias clases, tal como la función len.\n",
        "'''\n",
        "\n"
      ],
      "metadata": {
        "id": "_abR64ctOD4P"
      },
      "execution_count": null,
      "outputs": []
    },
    {
      "cell_type": "code",
      "source": [
        "# Ej - Realiza una clase base bloque que herede a bloque de diamante y\n",
        "# carbon modificando sus metodos\n",
        "\n",
        "class bloque:\n",
        "  def __init__(self, name, dimension, drop):\n",
        "    self.name = name\n",
        "    self.dimension = dimension\n",
        "    #self.material = material\n",
        "    self.drop = drop\n",
        "\n",
        "  def __str__(self):\n",
        "    return f\"{self.name} - {self.dimension} - {self.drop}\"\n",
        "\n",
        "  def dropear(self):\n",
        "    print('Hey, ten un:', self.drop )\n",
        "\n",
        "\n",
        "class diamante(bloque):\n",
        "  def __init__(self, name, dimension, drop):\n",
        "    super().__init__(name, dimension, drop)\n",
        "\n",
        "  def dropear(self):\n",
        "    print('Hey, ten un diamante')\n",
        "\n",
        "diamond = diamante('diamante', 1, '1 diamante')\n",
        "diamond.dropear()\n",
        "\n",
        "\n",
        "class carbon(bloque):\n",
        "  def __init__(self, name, dimension, drop):\n",
        "    super().__init__(name, dimension, drop)\n",
        "\n",
        "  def dropear(self):\n",
        "    return 'Hey, me rompi, ten un carbon'\n",
        "\n",
        "carboncito = carbon('Carbon', 1, '1 Carbon')\n",
        "\n",
        "carboncito.dropear()\n",
        "\n",
        "'''\n",
        "En este ejercicio creamos una clase padre bloque con el metodo de\n",
        "dropear y lo modificamos para cada una de las clases hijas, de manera que\n",
        "utilizando el mismo metodo nos imprima una frase distinta.\n",
        "'''"
      ],
      "metadata": {
        "colab": {
          "base_uri": "https://localhost:8080/",
          "height": 53
        },
        "id": "xy9v4ilmmTJf",
        "outputId": "12fcb9c0-c5b1-44ae-b6df-2ae379804ff0"
      },
      "execution_count": null,
      "outputs": [
        {
          "output_type": "stream",
          "name": "stdout",
          "text": [
            "Hey, ten un diamante\n"
          ]
        },
        {
          "output_type": "execute_result",
          "data": {
            "text/plain": [
              "'Hey, me rompi, ten un carbon'"
            ],
            "application/vnd.google.colaboratory.intrinsic+json": {
              "type": "string"
            }
          },
          "metadata": {},
          "execution_count": 9
        }
      ]
    },
    {
      "cell_type": "markdown",
      "source": [
        "# Seccion 14 - Iteradores - Iterators"
      ],
      "metadata": {
        "id": "YoeBSDO0yEs7"
      }
    },
    {
      "cell_type": "code",
      "source": [
        "# Iterador\n",
        "\n",
        "'''\n",
        "El iterador esta mas enfocado a la programacion orientada a objetos. El iterador\n",
        "es un objeto que contiene un numero contable de valores, en el que uno puede\n",
        "pasar a traves de cada valor, o de forma tecnica, que contiene los metodos\n",
        "__iter__() y __next__().\n",
        "\n",
        "En Python, un iterador es un objeto que imprementa el iterator protocol, el cual\n",
        "consiste en los metodos _iter_() y _next()_\n",
        "\n",
        "Las listas, tuplas, diccionarios y conjuntos, cada uno de ellos son objetos\n",
        "iterables. Son contenedores iterables en el cual podemos obtener un iterador.\n",
        "Todos estos objetos tienen su propio metodo iter().\n",
        "\n",
        "La diferencia entre iterador e iterable consiste en que los iterables son\n",
        "contenedores de los cuales puedes obtener un iterador, dado que poseen su\n",
        "propio metodo iter()\n",
        "'''\n",
        "\n",
        "mytuple = (\"apple\", \"banana\", \"cherry\")\n",
        "myit = iter(mytuple)\n",
        "\n",
        "print(next(myit))\n",
        "print(next(myit))\n",
        "print(next(myit))\n",
        "\n",
        "'''\n",
        "Es decir, las listas, tuplas, set y diccionarios ya tienen su metodo iter()\n",
        "para ser iteradas y al utilizar un ciclo for para recorrerlas nos ahorramos\n",
        "el colocar el iter() y next() method, dado que el for lo hace de manera\n",
        "automatica.\n",
        "'''\n",
        "\n",
        "# Que pasa si quiero crear mi propio metodo iter()\n",
        "'''\n",
        "Para crear un iterador es neceesario utilizar los metodos\n",
        "\n",
        "__iter__() y __next()__\n",
        "\n",
        "El metodo __iter__() siempre debe retornarse a si mismo, es decir, debe de\n",
        "retornar el primer elemento que se quiera iterar, y el metodo __next__()\n",
        "nos permite realizar las operaciones de sucesion.\n",
        "'''\n",
        "\n",
        "# Ej - Create an iterator that returns numbers, starting with 1, and each\n",
        "# sequence will increase by one (returning 1,2,3,4,5 etc.):\n",
        "\n",
        "class MyNumbers:\n",
        "  def __iter__(self): # Def la funcion de iniciacion\n",
        "    self.a = 1  # Colocamos el primer valor\n",
        "    return self # Colocamos que se retorne a si mismo\n",
        "\n",
        "  def __next__(self):\n",
        "    x = self.a  # Colocamos una variable de apoyo\n",
        "    self.a += 1 # Colocamos el aumento\n",
        "    return x  # La retornamos\n",
        "\n",
        "myiter = iter(MyNumbers())  # Hacemos la clas iterable\n",
        "\n",
        "print(next(myiter)) # La iteramos\n",
        "print(next(myiter))\n",
        "print(next(myiter))\n",
        "print(next(myiter))\n",
        "print(next(myiter))\n",
        "\n",
        "'''\n",
        "De manera que para que una clase pueda ser iterable necesita de los metodos\n",
        "__iter__() y __next__() y debemos de especificar la manera en que va a iterarse\n",
        "'''"
      ],
      "metadata": {
        "id": "HZS6beeOyLwo",
        "colab": {
          "base_uri": "https://localhost:8080/"
        },
        "outputId": "10b9cf71-f879-4a59-a8c7-1b72e2d3725a"
      },
      "execution_count": null,
      "outputs": [
        {
          "output_type": "stream",
          "name": "stdout",
          "text": [
            "apple\n",
            "banana\n",
            "cherry\n",
            "1\n",
            "2\n",
            "3\n",
            "4\n",
            "5\n"
          ]
        }
      ]
    },
    {
      "cell_type": "code",
      "source": [
        "# Detener la iteracion\n",
        "'''\n",
        "En el ejemplo de arriba la iteracion podria continuar de manera infinita\n",
        "con los suficientes next(), en caso de que queramos deterner la iteracion\n",
        "a un valor espeficicaado sin obtener un error usamos la palabra reservada\n",
        "StopIteration\n",
        "'''\n",
        "\n",
        "# Ej - Stop after 20 iteration in the before code.\n",
        "\n",
        "class MyNumbers:\n",
        "  def __iter__(self):\n",
        "    self.a = 1\n",
        "    return self\n",
        "\n",
        "  def __next__(self):\n",
        "    if self.a <= 20:\n",
        "      x = self.a\n",
        "      self.a += 1\n",
        "      return x\n",
        "\n",
        "    else:\n",
        "      raise StopIteration\n",
        "\n",
        "\n",
        "myiter = iter(MyNumbers())\n",
        "\n",
        "for i in myiter:\n",
        "  print(i)"
      ],
      "metadata": {
        "colab": {
          "base_uri": "https://localhost:8080/"
        },
        "id": "mTAfOb-C1lg3",
        "outputId": "8822e798-127a-47f4-9937-71281b78db3d"
      },
      "execution_count": null,
      "outputs": [
        {
          "output_type": "stream",
          "name": "stdout",
          "text": [
            "1\n",
            "2\n",
            "3\n",
            "4\n",
            "5\n",
            "6\n",
            "7\n",
            "8\n",
            "9\n",
            "10\n",
            "11\n",
            "12\n",
            "13\n",
            "14\n",
            "15\n",
            "16\n",
            "17\n",
            "18\n",
            "19\n",
            "20\n"
          ]
        }
      ]
    },
    {
      "cell_type": "code",
      "source": [
        "# Realiza el ejemplo anterior pero con aumento de 2 en dos hasta 40 partiendo\n",
        "# de 0\n",
        "\n",
        "class MyNumbers:\n",
        "  def __iter__(self):\n",
        "    self.a = 0\n",
        "    return self\n",
        "\n",
        "  def __next__(self):\n",
        "    if self.a <= 40:\n",
        "      x = self.a\n",
        "      self.a +=2\n",
        "      return x\n",
        "    else:\n",
        "      raise StopIteration\n",
        "\n",
        "myiter = iter(MyNumbers())\n",
        "\n",
        "for i in myiter:\n",
        "  print(i)"
      ],
      "metadata": {
        "colab": {
          "base_uri": "https://localhost:8080/"
        },
        "id": "qjWc6hpx3K5R",
        "outputId": "07f5fc26-2bcd-4c94-a6dc-0fb87ea71e11"
      },
      "execution_count": null,
      "outputs": [
        {
          "output_type": "stream",
          "name": "stdout",
          "text": [
            "0\n",
            "2\n",
            "4\n",
            "6\n",
            "8\n",
            "10\n",
            "12\n",
            "14\n",
            "16\n",
            "18\n",
            "20\n",
            "22\n",
            "24\n",
            "26\n",
            "28\n",
            "30\n",
            "32\n",
            "34\n",
            "36\n",
            "38\n",
            "40\n"
          ]
        }
      ]
    },
    {
      "cell_type": "markdown",
      "source": [
        "# Seccion 15 - Scope o Encapsulamiento"
      ],
      "metadata": {
        "id": "G7KpWC5R3_IH"
      }
    },
    {
      "cell_type": "code",
      "source": [
        "# Encapsulamiento\n",
        "'''\n",
        "El encapsulamiento se refiere al alcance que tienen las variables, es decir,\n",
        "si pueden ser usadas en todo el codigo o solo dentro de una funcion. Para\n",
        "ello se usan las palabras global y local.\n",
        "\n",
        "Una variable local es usualmente creada DENTRO de una funcion y puede unicamente\n",
        "ser llamada dentro de ella, inclusive por otras funciones dentro de la funcion.\n",
        "\n",
        "\n",
        "Una variable global es creada dentro del cuerpo principal del codigo, y pertenece\n",
        "al global scope, encapsulamiento global o public. Estas variables variables\n",
        "estan disponibles en cualquier lugar del codigo, en funciones o dentro de\n",
        "funciones en funciones.\n",
        "\n",
        "En el caso de que tengamos una variable global y una local con el mismo nombre\n",
        "Python las tomara como dos variables distintas.\n",
        "'''\n",
        "\n",
        "# keyword global\n",
        "'''\n",
        "En el caso de querer usar una variable declarada dentro de una funcion(local)\n",
        "en otras partes del codigo(global) usamos la keyword global, esto para que\n",
        "se pueda acceder a la variable desde cualquier parte del codigo.\n",
        "\n",
        "IMPORTANTE: En caso de querer modificar una variable global dentro de una\n",
        "función se usa la keyword global\n",
        "\n",
        "'''\n",
        "\n",
        "# A manera de resumen:\n",
        "'''\n",
        "A variable is only available from inside the region it is created. This is\n",
        "called scope.\n",
        "'''\n",
        "\n"
      ],
      "metadata": {
        "id": "YfGaz14d3-Np"
      },
      "execution_count": null,
      "outputs": []
    },
    {
      "cell_type": "markdown",
      "source": [
        "# Seccion 16 - Modulos en Python"
      ],
      "metadata": {
        "id": "FwCXxHNiJOnf"
      }
    },
    {
      "cell_type": "code",
      "source": [
        "# Modulos en Python\n",
        "'''\n",
        "Este es un momento significativo en la historia de la programacion para mi,\n",
        "dado que finalmente he terminando los temas basicos y POO, de manera que\n",
        "finalmente puedo adentrarme dentro de los temas mas especificos, paqueterias,\n",
        "IA, y demas.\n",
        "'''\n",
        "\n",
        "''' Que es un modulo\n",
        "Un modulo es lo mismo que una biblioteca o library de codigo, de forma tecnica,\n",
        "es un archivo que contiene un conjunto de funciones que se buscan incluir\n",
        "en nuestro codigo.\n",
        "\n",
        "# Para CREAR un modulo unicamente guardamos el achivo con la extension .py\n",
        "\n",
        "# Para USAR un modulo, se coloca la keyword import NOMBREMODULO, y se utiliza\n",
        "la siguiente sintaxis:\n",
        "\n",
        "module_name.function_name\n",
        "\n",
        "Un modulo puede contener funciones, pero tambien variables (arrays, diccionarios\n",
        ", objetos, etc). La manera de importarlos y usarlos es justamente la anterior.\n",
        "\n",
        "# Para RENOMBRAR un modulo usalos la keyword as, de manera que colocamos\n",
        "\n",
        "import MODULE_NAME as NEW_NAME\n",
        "'''\n"
      ],
      "metadata": {
        "colab": {
          "base_uri": "https://localhost:8080/"
        },
        "id": "tIkLiqBXJX9w",
        "outputId": "e3d223fe-f9fc-4ae6-918f-6539982d98b4"
      },
      "execution_count": null,
      "outputs": [
        {
          "output_type": "stream",
          "name": "stdout",
          "text": [
            "Linux\n",
            "['_WIN32_CLIENT_RELEASES', '_WIN32_SERVER_RELEASES', '__builtins__', '__cached__', '__copyright__', '__doc__', '__file__', '__loader__', '__name__', '__package__', '__spec__', '__version__', '_comparable_version', '_component_re', '_default_architecture', '_follow_symlinks', '_ironpython26_sys_version_parser', '_ironpython_sys_version_parser', '_java_getprop', '_libc_search', '_mac_ver_xml', '_node', '_norm_version', '_platform', '_platform_cache', '_pypy_sys_version_parser', '_sys_version', '_sys_version_cache', '_sys_version_parser', '_syscmd_file', '_syscmd_uname', '_syscmd_ver', '_uname_cache', '_ver_output', '_ver_stages', 'architecture', 'collections', 'java_ver', 'libc_ver', 'mac_ver', 'machine', 'node', 'os', 'platform', 'processor', 'python_branch', 'python_build', 'python_compiler', 'python_implementation', 'python_revision', 'python_version', 'python_version_tuple', 're', 'release', 'sys', 'system', 'system_alias', 'uname', 'uname_result', 'version', 'win32_edition', 'win32_is_iot', 'win32_ver']\n"
          ]
        }
      ]
    },
    {
      "cell_type": "code",
      "source": [
        "# Modulos Built-In\n",
        "'''\n",
        "Python ya cuenta con una gran variedad de modulos que podemos usar, por ejemplo\n",
        "'''\n",
        "\n",
        "import platform as pt\n",
        "\n",
        "x = pt.system()\n",
        "print(x)\n",
        "\n",
        "# Para obtener el nombre de TODAS las variables dentro de un modulo usamos\n",
        "# la keyword dir()\n",
        "\n",
        "y = dir(pt)\n",
        "print(y)"
      ],
      "metadata": {
        "id": "2fIyo6fXMlup",
        "colab": {
          "base_uri": "https://localhost:8080/"
        },
        "outputId": "52b9b71d-a669-496d-ee3a-67dfbfaffb8f"
      },
      "execution_count": null,
      "outputs": [
        {
          "output_type": "stream",
          "name": "stdout",
          "text": [
            "Linux\n",
            "['_Processor', '_WIN32_CLIENT_RELEASES', '_WIN32_SERVER_RELEASES', '__builtins__', '__cached__', '__copyright__', '__doc__', '__file__', '__loader__', '__name__', '__package__', '__spec__', '__version__', '_comparable_version', '_component_re', '_default_architecture', '_follow_symlinks', '_get_machine_win32', '_ironpython26_sys_version_parser', '_ironpython_sys_version_parser', '_java_getprop', '_libc_search', '_mac_ver_xml', '_node', '_norm_version', '_os_release_cache', '_os_release_candidates', '_os_release_line', '_os_release_unescape', '_parse_os_release', '_platform', '_platform_cache', '_pypy_sys_version_parser', '_sys_version', '_sys_version_cache', '_sys_version_parser', '_syscmd_file', '_syscmd_ver', '_uname_cache', '_unknown_as_blank', '_ver_output', '_ver_stages', 'architecture', 'collections', 'freedesktop_os_release', 'functools', 'itertools', 'java_ver', 'libc_ver', 'mac_ver', 'machine', 'node', 'os', 'platform', 'processor', 'python_branch', 'python_build', 'python_compiler', 'python_implementation', 'python_revision', 'python_version', 'python_version_tuple', 're', 'release', 'subprocess', 'sys', 'system', 'system_alias', 'uname', 'uname_result', 'version', 'win32_edition', 'win32_is_iot', 'win32_ver']\n"
          ]
        }
      ]
    },
    {
      "cell_type": "code",
      "source": [
        "# Importar solo cosas espeficifas de un Modulo\n",
        "'''\n",
        "Para importar solo funciones especificas de un modulo es necesario usar\n",
        "la keyword from, de la siguiente manera:\n",
        "\n",
        "from MODULE_NAME import FUNCTION_NAME\n",
        "\n",
        "En este, para usar ese elemento especifico de la libreria es necesario colocar\n",
        "unicamente el elemento. Es decir\n",
        "\n",
        "# Correcto person1['age']\n",
        "# Incorrecto mymodule.person1['age']\n",
        "\n",
        "Es como si se agregase esa funcion a nuestro codigo sin necesidad de escribirla\n",
        "toda.\n",
        "\n",
        "'''\n",
        "\n"
      ],
      "metadata": {
        "id": "vDwQ2HUAMnKr"
      },
      "execution_count": null,
      "outputs": []
    },
    {
      "cell_type": "markdown",
      "source": [
        "## Datetime"
      ],
      "metadata": {
        "id": "ILD5jSmwOZtf"
      }
    },
    {
      "cell_type": "code",
      "source": [
        "# Datetime - Fechas y horas\n",
        "'''\n",
        "Como tal, las fechas en Python no son un objeto, es decir no tiene forma de ser\n",
        "representada naturalmente por Python, para lo cual es necesario utilizar el\n",
        "modulo datetime para hacer uso de ellas y manipularlas como objetos.\n",
        "'''\n",
        "\n",
        "import datetime\n",
        "\n",
        "# Para importar la fecha y la hora usamos:\n",
        "x = datetime.datetime.now() #year-month-day\n",
        "print(x)\n",
        "\n",
        "# Para CREAR una fecha datetime(year, month, day) function del modulo datetime()\n",
        "\n",
        "y = datetime.datetime(2022, 1, 1)\n",
        "print(y) # Tambien puede tomar la hora, por defecto, la hora es 0\n"
      ],
      "metadata": {
        "id": "cS1WIpJXOdaA",
        "colab": {
          "base_uri": "https://localhost:8080/"
        },
        "outputId": "2127b284-f41a-4ae1-db55-7cb7044680ac"
      },
      "execution_count": null,
      "outputs": [
        {
          "output_type": "stream",
          "name": "stdout",
          "text": [
            "2023-08-23 22:08:20.705240\n",
            "2022-01-01 00:00:00\n"
          ]
        }
      ]
    },
    {
      "cell_type": "code",
      "source": [
        "# El metodo strftime()\n",
        "'''\n",
        "Es quizá lo más importante dentro del modulo datetime() y contiene todo lo\n",
        "necesario para imprimir el nombre de los días. Toma un parametro para especificar\n",
        "el resultado.\n",
        "\n",
        "A manera de resumen, colocamos todos los parametros para la obtención de valores:\n",
        "\n",
        "P \tDescription \t         Example\n",
        "%a \tWeekday, short version \tWed\n",
        "%A \tWeekday, full version \tWednesday\n",
        "%w \tWeekday as a number 0-6, 0 is Sunday \t3\n",
        "%d \tDay of month 01-31 \t31\n",
        "%b \tMonth name, short version \tDec\n",
        "%B \tMonth name, full version \tDecember\n",
        "%m \tMonth as a number 01-12 \t12\n",
        "%y \tYear, short version, without century \t18\n",
        "%Y \tYear, full version \t2018\n",
        "%H \tHour 00-23 \t17\n",
        "%I \tHour 00-12 \t05\n",
        "%p \tAM/PM \tPM\n",
        "%M \tMinute 00-59 \t41\n",
        "%S \tSecond 00-59 \t08\n",
        "%f \tMicrosecond 000000-999999 \t548513\n",
        "%z \tUTC offset \t+0100\n",
        "%Z \tTimezone \tCST\n",
        "%j \tDay number of year 001-366 \t365\n",
        "%U \tWeek number of year, Sunday as the first day of week, 00-53 \t52\n",
        "%W \tWeek number of year, Monday as the first day of week, 00-53 \t52\n",
        "%c \tLocal version of date and time \tMon Dec 31 17:41:00 2018\n",
        "%C \tCentury \t20\n",
        "%x \tLocal version of date \t12/31/18\n",
        "%X \tLocal version of time \t17:41:00\n",
        "%% \tA % character \t%\n",
        "%G \tISO 8601 year \t2018\n",
        "%u \tISO 8601 weekday (1-7) \t1\n",
        "%V \tISO 8601 weeknumber (01-53) \t01\n",
        "\n",
        "Se utiliza con la sintaxis x.strftime(\"%B\")\n",
        "\n",
        "'''"
      ],
      "metadata": {
        "colab": {
          "base_uri": "https://localhost:8080/",
          "height": 142
        },
        "id": "AMKgaTXfIuVo",
        "outputId": "32537c31-7153-4689-e7f0-a2232d204e8a"
      },
      "execution_count": null,
      "outputs": [
        {
          "output_type": "execute_result",
          "data": {
            "text/plain": [
              "'\\nEs quizá lo más importante dentro del modulo datetime() y contiene todo lo\\nnecesario para imprimir el nombre de los días. Toma un parametro para especificar\\nel resultado.\\n\\nA manera de resumen, colocamos todos los parametros para la obtención de valores:\\n\\nP \\tDescription \\t         Example \\t\\n%a \\tWeekday, short version \\tWed \\t\\n%A \\tWeekday, full version \\tWednesday \\t\\n%w \\tWeekday as a number 0-6, 0 is Sunday \\t3 \\t\\n%d \\tDay of month 01-31 \\t31 \\t\\n%b \\tMonth name, short version \\tDec \\t\\n%B \\tMonth name, full version \\tDecember \\t\\n%m \\tMonth as a number 01-12 \\t12 \\t\\n%y \\tYear, short version, without century \\t18 \\t\\n%Y \\tYear, full version \\t2018 \\t\\n%H \\tHour 00-23 \\t17 \\t\\n%I \\tHour 00-12 \\t05 \\t\\n%p \\tAM/PM \\tPM \\t\\n%M \\tMinute 00-59 \\t41 \\t\\n%S \\tSecond 00-59 \\t08 \\t\\n%f \\tMicrosecond 000000-999999 \\t548513 \\t\\n%z \\tUTC offset \\t+0100 \\t\\n%Z \\tTimezone \\tCST \\t\\n%j \\tDay number of year 001-366 \\t365 \\t\\n%U \\tWeek number of year, Sunday as the first day of week, 00-53 \\t52 \\t\\n%W \\tWeek number of year, Monday as the first day of week, 00-53 \\t52 \\t\\n%c \\tLocal version of date and time \\tMon Dec 31 17:41:00 2018 \\t\\n%C \\tCentury \\t20 \\t\\n%x \\tLocal version of date \\t12/31/18 \\t\\n%X \\tLocal version of time \\t17:41:00 \\t\\n%% \\tA % character \\t% \\t\\n%G \\tISO 8601 year \\t2018 \\t\\n%u \\tISO 8601 weekday (1-7) \\t1 \\t\\n%V \\tISO 8601 weeknumber (01-53) \\t01\\n\\nSe utiliza con la sintaxis x.strftime(\"%B\")\\n\\n'"
            ],
            "application/vnd.google.colaboratory.intrinsic+json": {
              "type": "string"
            }
          },
          "metadata": {},
          "execution_count": 5
        }
      ]
    },
    {
      "cell_type": "code",
      "source": [
        "# Ej\n",
        "\n",
        "import datetime\n",
        "\n",
        "x = datetime.datetime.now()\n",
        "\n",
        "print(x.strftime(\"%A\"), x.strftime(\"%x\"), x.strftime(\"%X\") )"
      ],
      "metadata": {
        "colab": {
          "base_uri": "https://localhost:8080/"
        },
        "id": "Tw5EgRMkJgB-",
        "outputId": "0c2f12af-ccf7-4491-d9f3-1d2578b64b43"
      },
      "execution_count": null,
      "outputs": [
        {
          "output_type": "stream",
          "name": "stdout",
          "text": [
            "Wednesday 08/23/23 22:11:33\n"
          ]
        }
      ]
    },
    {
      "cell_type": "markdown",
      "source": [
        "## Python Math\n",
        "\n"
      ],
      "metadata": {
        "id": "aEkNrprQKTPU"
      }
    },
    {
      "cell_type": "code",
      "source": [
        "# Math Built-In\n",
        "'''\n",
        "Python tiene una gran coleccion de funciones built-in para el ambito matematico.\n",
        "'''\n",
        "\n",
        "# Maximo y minimo\n",
        "'''\n",
        "Python cuenta con las funciones max() y min() que nos permiten obtener los\n",
        "valores maximos y minimos de un iterable que contenga numeros.\n",
        "'''\n",
        "\n",
        "# Valor absoluto\n",
        "'''\n",
        "Lo declaramos con abs()\n",
        "'''\n",
        "\n",
        "# Potencias\n",
        "'''\n",
        "Para hacer uso de los exponentes usamos la notacion pow(x,y) que se refiere\n",
        "a x elevada a y\n",
        "'''\n",
        "\n",
        "print(pow(2,3))\n"
      ],
      "metadata": {
        "colab": {
          "base_uri": "https://localhost:8080/"
        },
        "id": "JZDodA1UKY9L",
        "outputId": "421758f8-6a63-422a-e0bf-fac325a8e418"
      },
      "execution_count": null,
      "outputs": [
        {
          "output_type": "stream",
          "name": "stdout",
          "text": [
            "8\n"
          ]
        }
      ]
    },
    {
      "cell_type": "code",
      "source": [
        "# Modulo Math\n",
        "'''\n",
        "Python cuenta con su propio modulo para el uso de mas funciones matematicas,\n",
        "con este numero podemos extender el uso a mas funciones y constantes.\n",
        "\n",
        "import math\n",
        "\n",
        "'''\n",
        "\n",
        "# Raiz cuadrada\n",
        "'''\n",
        "Usamos la funcion math.sqrt()\n",
        "'''\n",
        "\n",
        "# Redondear numeros\n",
        "'''\n",
        "Para redondear numeros utilizamos\n",
        "\n",
        "# math.ceil() para redondear al entero superior mas cercano\n",
        "# math.floor()  para redondear al enterio inferior mas cercano\n",
        "\n",
        "Este valor no es realmente util, puesto que 1.4 con ceil lo sube a 2 y 1.4 con\n",
        "floor lo baja a 1.\n",
        "'''\n",
        "\n",
        "# Obtener a Pi()\n",
        "'''\n",
        "Usamos la funcion math.pi()\n",
        "'''\n",
        "\n",
        "# Python da los resultados en RADIANES.\n"
      ],
      "metadata": {
        "id": "4I0o3jAvLINp"
      },
      "execution_count": null,
      "outputs": []
    },
    {
      "cell_type": "code",
      "source": [
        "# Metodos mas usados\n",
        "'''\n",
        "A manera de resumen coloco todos los metodos mas usados\n",
        "\n",
        "Method \tDescription\n",
        "math.acos() \tReturns the arc cosine of a number\n",
        "math.acosh() \tReturns the inverse hyperbolic cosine of a number\n",
        "math.asin() \tReturns the arc sine of a number\n",
        "math.asinh() \tReturns the inverse hyperbolic sine of a number\n",
        "math.atan() \tReturns the arc tangent of a number in radians\n",
        "math.atan2() \tReturns the arc tangent of y/x in radians\n",
        "math.atanh() \tReturns the inverse hyperbolic tangent of a number\n",
        "math.ceil() \tRounds a number up to the nearest integer\n",
        "math.comb() \tReturns the number of ways to choose k items from n items without repetition and order\n",
        "math.copysign() \tReturns a float consisting of the value of the first parameter and the sign of the second parameter\n",
        "math.cos() \tReturns the cosine of a number\n",
        "math.cosh() \tReturns the hyperbolic cosine of a number\n",
        "math.degrees() \tConverts an angle from radians to degrees\n",
        "math.dist() \tReturns the Euclidean distance between two points (p and q), where p and q are the coordinates of that point\n",
        "math.erf() \tReturns the error function of a number\n",
        "math.erfc() \tReturns the complementary error function of a number\n",
        "math.exp() \tReturns E raised to the power of x\n",
        "math.expm1() \tReturns Ex - 1\n",
        "math.fabs() \tReturns the absolute value of a number\n",
        "math.factorial() \tReturns the factorial of a number\n",
        "math.floor() \tRounds a number down to the nearest integer\n",
        "math.fmod() \tReturns the remainder of x/y\n",
        "math.frexp() \tReturns the mantissa and the exponent, of a specified number\n",
        "math.fsum() \tReturns the sum of all items in any iterable (tuples, arrays, lists, etc.)\n",
        "math.gamma() \tReturns the gamma function at x\n",
        "math.gcd() \tReturns the greatest common divisor of two integers\n",
        "math.hypot() \tReturns the Euclidean norm\n",
        "math.isclose() \tChecks whether two values are close to each other, or not\n",
        "math.isfinite() \tChecks whether a number is finite or not\n",
        "math.isinf() \tChecks whether a number is infinite or not\n",
        "math.isnan() \tChecks whether a value is NaN (not a number) or not\n",
        "math.isqrt() \tRounds a square root number downwards to the nearest integer\n",
        "math.ldexp() \tReturns the inverse of math.frexp() which is x * (2**i) of the given numbers x and i\n",
        "math.lgamma() \tReturns the log gamma value of x\n",
        "math.log() \tReturns the natural logarithm of a number, or the logarithm of number to base\n",
        "math.log10() \tReturns the base-10 logarithm of x\n",
        "math.log1p() \tReturns the natural logarithm of 1+x\n",
        "math.log2() \tReturns the base-2 logarithm of x\n",
        "math.perm() \tReturns the number of ways to choose k items from n items with order and without repetition\n",
        "math.pow() \tReturns the value of x to the power of y\n",
        "math.prod() \tReturns the product of all the elements in an iterable\n",
        "math.radians() \tConverts a degree value into radians\n",
        "math.remainder() \tReturns the closest value that can make numerator completely divisible by the denominator\n",
        "math.sin() \tReturns the sine of a number\n",
        "math.sinh() \tReturns the hyperbolic sine of a number\n",
        "math.sqrt() \tReturns the square root of a number\n",
        "math.tan() \tReturns the tangent of a number\n",
        "math.tanh() \tReturns the hyperbolic tangent of a number\n",
        "math.trunc() \tReturns the truncated integer parts of a number\n",
        "\n",
        "'''"
      ],
      "metadata": {
        "id": "RntDiuhAMEMo"
      },
      "execution_count": null,
      "outputs": []
    },
    {
      "cell_type": "code",
      "source": [
        "# Constantes matematicas\n",
        "'''\n",
        "A manera de resumen coloco las constantes mas usadas:\n",
        "\n",
        "math.e \tReturns Euler's number (2.7182...)\n",
        "math.inf \tReturns a floating-point positive infinity\n",
        "math.nan \tReturns a floating-point NaN (Not a Number) value\n",
        "math.pi \tReturns PI (3.1415...)\n",
        "math.tau \tReturns tau (6.2831...)\n",
        "\n",
        "'''"
      ],
      "metadata": {
        "id": "LiRWC2kgMONY"
      },
      "execution_count": null,
      "outputs": []
    },
    {
      "cell_type": "markdown",
      "source": [
        "## JSON"
      ],
      "metadata": {
        "id": "l6LG2RudNFPz"
      }
    },
    {
      "cell_type": "code",
      "source": [
        "# JSON\n",
        "'''\n",
        "JSON es modulo usado para el intercambio y manejo de la informacion entre\n",
        "JavaScrip y Python.\n",
        "\n",
        "JSON es texto, escrito en notación de JavaScrip Object Notation.\n",
        "\n",
        "El modulo utilizado en el manejo de la información se denomina json.\n",
        "import json\n",
        "'''\n",
        "\n",
        "# Convertir de JSON a Python\n",
        "'''\n",
        "Para realizar el parseo es necesario utiliza el método json.loads() - El resultado\n",
        "obtenido en Python será un objeto de tipo dictionarie.\n",
        "'''\n",
        "\n",
        "# Convertir de Python a JSON:\n",
        "'''\n",
        "Si se tiene un objeto en Python es posible convertirlo a JSON con usando el\n",
        "método json.dumps()\n",
        "'''\n",
        "\n",
        "# Tipos de objetos a convertir:\n",
        "'''\n",
        "Es posible convertir los siguientes tipos de objetos A JSON STRINGS:\n",
        "\n",
        "    dict\n",
        "    list\n",
        "    tuple\n",
        "    string\n",
        "    int\n",
        "    float\n",
        "    True\n",
        "    False\n",
        "    None\n",
        "\n",
        "'''\n",
        "\n",
        "# Equivalencias:\n",
        "'''\n",
        "Cuando convertirmos de Python a JSON se tienen las siguientes equivalencias:\n",
        "\n",
        "Pyhon      JSON\n",
        "\n",
        "dict \t    Object\n",
        "list  \t  Array\n",
        "tuple \t  Array\n",
        "str \t    String\n",
        "int    \t  Number\n",
        "float \t  Number\n",
        "True    \ttrue\n",
        "False \t  false\n",
        "None \t    null\n",
        "\n",
        "'''\n",
        "\n",
        "# DAR FORMATO AL RESULTADO\n",
        "'''\n",
        "La conversión de Python a JSON no es muy estética, para realizar una\n",
        "identación se utiliza el parametro:\n",
        "\n",
        "json.dumps(x, indent = 4)\n",
        "\n",
        "Donde también se puede establer separadores, los valores por defecto corresponde\n",
        "a: (\",\", \":\") donde para modificarlos se utiliza la sintaxis:\n",
        "\n",
        "json.dumps(x, indent = 4, separators = (\". \", \" = \"))\n",
        "\n",
        "# Para ORDENAR de manera alfabética las llaves se utiliza el método:\n",
        "\n",
        "json.dumps(x, indent = 4, sort_keys = True)\n",
        "\n",
        "'''\n"
      ],
      "metadata": {
        "id": "CDOl5q-qNIxy"
      },
      "execution_count": null,
      "outputs": []
    },
    {
      "cell_type": "markdown",
      "source": [
        "## Python RegEx"
      ],
      "metadata": {
        "id": "9IPXRKawOBv7"
      }
    },
    {
      "cell_type": "code",
      "source": [
        "# Python RegEx\n",
        "'''\n",
        "RegEx o Regular Expressions es una secuencia de caracteres que forman\n",
        "un cierto patron que deseamos encontrar, es decir, forman un patron de busqueda\n",
        "\n",
        "El modulo re puede ser usado para encontrar si una String contiene el\n",
        "termino buscado.\n",
        "\n",
        "import re\n",
        "'''\n",
        "\n",
        "# Un oracion que termina con y termina con\n",
        "'''\n",
        "Podemos usar re para saber si una cierta oracion empieza con cierta expresion\n",
        "y termina con otra, de la siguiente forma\n",
        "'''\n",
        "\n",
        "import re\n",
        "\n",
        "txt = \"La lluvia en Mexico\"\n",
        "x = re.search(\"^La.*Mexico$\", txt)\n",
        "\n",
        "if (x):\n",
        "  print('Yes, we have a match')\n",
        "else:\n",
        "  print('No, we dont have a math')"
      ],
      "metadata": {
        "colab": {
          "base_uri": "https://localhost:8080/"
        },
        "id": "I5moX6GwU17c",
        "outputId": "2c1b89e9-7929-46db-d47f-575d9c53c274"
      },
      "execution_count": null,
      "outputs": [
        {
          "output_type": "stream",
          "name": "stdout",
          "text": [
            "Yes, we have a match\n"
          ]
        }
      ]
    },
    {
      "cell_type": "code",
      "source": [
        "# Funciones de re\n",
        "'''\n",
        "Las funciones que constituyen el modulo re son:\n",
        "\n",
        "Function \tDescription\n",
        "findall \tReturns a list containing all matches\n",
        "search \t  Returns a Match object if there is a match anywhere in the string\n",
        "split    \tReturns a list where the string has been split at each match\n",
        "sub \t    Replaces one or many matches with a string\n",
        "\n",
        "'''"
      ],
      "metadata": {
        "id": "y8y_GjEgWg-A"
      },
      "execution_count": null,
      "outputs": []
    },
    {
      "cell_type": "code",
      "source": [
        "# Metacharacters\n",
        "'''\n",
        "Los metacaracteres son caracteres con un signifinicado especial, estos son:\n",
        "\n",
        "Character \tDescription\n",
        "[] \tA set of characters\n",
        "\\ \tSignals a special sequence (can also be used to escape special characters)\n",
        ". \tAny character (except newline character)\n",
        "^ \tStarts with\n",
        "$ \tEnds with\n",
        "* \tZero or more occurrences\n",
        "+ \tOne or more occurrences\n",
        "? \tZero or one occurrences\n",
        "{} \tExactly the specified number of occurrences\n",
        "| \tEither or\n",
        "() \tCapture and group\n",
        "\n",
        "Esta parte es bastante confusa y sugiero ver los ejemplos de w3schools para\n",
        "entender mejor el uso de cada uno.\n",
        "'''\n"
      ],
      "metadata": {
        "id": "FzaSNfHMWsAv"
      },
      "execution_count": null,
      "outputs": []
    },
    {
      "cell_type": "code",
      "source": [
        "# Comentario\n",
        "'''\n",
        "Hay mucho mas acerca de RegEx, sin embargo, para nuestros fines no logro\n",
        "distinguir un gran uso y utilidad, es por ello que no colocare mas acerca de\n",
        "este modulo. Toda la informacion restante puede ser encontrada en:\n",
        "\n",
        "https://www.w3schools.com/python/python_regex.asp\n",
        "\n",
        "'''\n",
        "\n"
      ],
      "metadata": {
        "id": "tncKh-pEXRCQ"
      },
      "execution_count": null,
      "outputs": []
    },
    {
      "cell_type": "markdown",
      "source": [
        "## Python PIP"
      ],
      "metadata": {
        "id": "guw4gUSBY_As"
      }
    },
    {
      "cell_type": "code",
      "source": [
        "# PIP\n",
        "'''\n",
        "PIP es un administrador de paquetes para los Python packages o modulos. Funciona\n",
        "como gestor de descargas, busqueda e instalacion de modulos en nuestro equipo.\n",
        "\n",
        "Un paquete contiene todos los archivos necesarios para un modulo, un modulo\n",
        "son libreris de Python que podemos incluir en nuestro proyecto.\n",
        "\n",
        "Para revisar la version de nuestro PIP usamos\n",
        "\n",
        "pip --version\n",
        "\n",
        "# Descarga de paquetes\n",
        "Para realizar la descarga e instalacion de descargas usamos la siguiente\n",
        "sintaxis en la terminal\n",
        "\n",
        "pip install PACKAGE_NAME\n",
        "\n",
        "# Uso de paquetes\n",
        "Para hacer uso de los paquetes instalados, unicamente necesitamos importarlos\n",
        "\n",
        "# Encontrar paquetes\n",
        "Para encontrar paquetes pueden consultarse en:\n",
        "https://pypi.org/\n",
        "\n",
        "\n",
        "# Eliminar paquetes\n",
        "Para eliminar un paquete de nuestro sistema, colocamos\n",
        "\n",
        "pip uninstall PACKAGE_NAME\n",
        "\n",
        "# Paquetes instalados en nuestro equipo\n",
        "Para revisar la lista de paquetes instalados en nuestro equipos usamos:\n",
        "\n",
        "pip list\n",
        "\n",
        "'''"
      ],
      "metadata": {
        "id": "0Oj9VNmoZBKo",
        "colab": {
          "base_uri": "https://localhost:8080/",
          "height": 196
        },
        "outputId": "fc6bc125-6a4d-464a-b164-0c01b2be3db9"
      },
      "execution_count": null,
      "outputs": [
        {
          "output_type": "execute_result",
          "data": {
            "text/plain": [
              "'\\nPIP es un administrador de paquetes para los Python packages o modulos. Funciona\\ncomo gestor de descargas, busqueda e instalacion de modulos en nuestro equipo.\\n\\nUn paquete contiene todos los archivos necesarios para un modulo, un modulo\\nson libreris de Python que podemos incluir en nuestro proyecto.\\n\\nPara revisar la version de nuestro PIP usamos\\n\\npip --version\\n\\n# Descarga de paquetes\\nPara realizar la descarga e instalacion de descargas usamos la siguiente\\nsintaxis en la terminal\\n\\npip install PACKAGE_NAME\\n\\n# Uso de paquetes\\nPara hacer uso de los paquetes instalados, unicamente necesitamos importarlos\\n\\n# Encontrar paquetes\\nPara encontrar paquetes pueden consultarse en:\\nhttps://pypi.org/\\n\\n\\n# Eliminar paquetes\\nPara eliminar un paquete de nuestro sistema, colocamos\\n\\npip uninstall PACKAGE_NAME\\n\\n# Paquetes instalados en nuestro equipo\\nPara revisar la lista de paquetes instalados en nuestro equipos usamos:\\n\\npip list\\n\\n'"
            ],
            "application/vnd.google.colaboratory.intrinsic+json": {
              "type": "string"
            }
          },
          "metadata": {},
          "execution_count": 5
        }
      ]
    },
    {
      "cell_type": "code",
      "source": [
        "pip list"
      ],
      "metadata": {
        "colab": {
          "base_uri": "https://localhost:8080/"
        },
        "id": "FU4q_Nu8bqnB",
        "outputId": "fe091aa9-cf59-4180-8776-db61be234248"
      },
      "execution_count": null,
      "outputs": [
        {
          "output_type": "stream",
          "name": "stdout",
          "text": [
            "Package                       Version\n",
            "----------------------------- ----------------------\n",
            "absl-py                       1.3.0\n",
            "aeppl                         0.0.33\n",
            "aesara                        2.7.9\n",
            "aiohttp                       3.8.3\n",
            "aiosignal                     1.3.1\n",
            "alabaster                     0.7.12\n",
            "albumentations                1.2.1\n",
            "altair                        4.2.0\n",
            "appdirs                       1.4.4\n",
            "arviz                         0.12.1\n",
            "astor                         0.8.1\n",
            "astropy                       4.3.1\n",
            "astunparse                    1.6.3\n",
            "async-timeout                 4.0.2\n",
            "atari-py                      0.2.9\n",
            "atomicwrites                  1.4.1\n",
            "attrs                         22.1.0\n",
            "audioread                     3.0.0\n",
            "autograd                      1.5\n",
            "Babel                         2.11.0\n",
            "backcall                      0.2.0\n",
            "beautifulsoup4                4.6.3\n",
            "bleach                        5.0.1\n",
            "blis                          0.7.9\n",
            "bokeh                         2.3.3\n",
            "branca                        0.6.0\n",
            "bs4                           0.0.1\n",
            "CacheControl                  0.12.11\n",
            "cachetools                    5.2.0\n",
            "catalogue                     2.0.8\n",
            "certifi                       2022.12.7\n",
            "cffi                          1.15.1\n",
            "cftime                        1.6.2\n",
            "chardet                       3.0.4\n",
            "charset-normalizer            2.1.1\n",
            "click                         7.1.2\n",
            "clikit                        0.6.2\n",
            "cloudpickle                   1.5.0\n",
            "cmake                         3.22.6\n",
            "cmdstanpy                     1.0.8\n",
            "colorcet                      3.0.1\n",
            "colorlover                    0.3.0\n",
            "community                     1.0.0b1\n",
            "confection                    0.0.3\n",
            "cons                          0.4.5\n",
            "contextlib2                   0.5.5\n",
            "convertdate                   2.4.0\n",
            "crashtest                     0.3.1\n",
            "crcmod                        1.7\n",
            "cufflinks                     0.17.3\n",
            "cvxopt                        1.3.0\n",
            "cvxpy                         1.2.2\n",
            "cycler                        0.11.0\n",
            "cymem                         2.0.7\n",
            "Cython                        0.29.32\n",
            "daft                          0.0.4\n",
            "dask                          2022.2.1\n",
            "datascience                   0.17.5\n",
            "db-dtypes                     1.0.5\n",
            "debugpy                       1.0.0\n",
            "decorator                     4.4.2\n",
            "defusedxml                    0.7.1\n",
            "descartes                     1.1.0\n",
            "dill                          0.3.6\n",
            "distributed                   2022.2.1\n",
            "dlib                          19.24.0\n",
            "dm-tree                       0.1.7\n",
            "dnspython                     2.2.1\n",
            "docutils                      0.17.1\n",
            "dopamine-rl                   1.0.5\n",
            "earthengine-api               0.1.335\n",
            "easydict                      1.10\n",
            "ecos                          2.0.10\n",
            "editdistance                  0.5.3\n",
            "en-core-web-sm                3.4.1\n",
            "entrypoints                   0.4\n",
            "ephem                         4.1.3\n",
            "et-xmlfile                    1.1.0\n",
            "etils                         0.9.0\n",
            "etuples                       0.3.8\n",
            "fa2                           0.3.5\n",
            "fastai                        2.7.10\n",
            "fastcore                      1.5.27\n",
            "fastdownload                  0.0.7\n",
            "fastdtw                       0.3.4\n",
            "fastjsonschema                2.16.2\n",
            "fastprogress                  1.0.3\n",
            "fastrlock                     0.8.1\n",
            "feather-format                0.4.1\n",
            "filelock                      3.8.2\n",
            "firebase-admin                5.3.0\n",
            "fix-yahoo-finance             0.0.22\n",
            "Flask                         1.1.4\n",
            "flatbuffers                   1.12\n",
            "folium                        0.12.1.post1\n",
            "frozenlist                    1.3.3\n",
            "fsspec                        2022.11.0\n",
            "future                        0.16.0\n",
            "gast                          0.4.0\n",
            "GDAL                          2.2.2\n",
            "gdown                         4.4.0\n",
            "gensim                        3.6.0\n",
            "geographiclib                 1.52\n",
            "geopy                         1.17.0\n",
            "gin-config                    0.5.0\n",
            "glob2                         0.7\n",
            "google                        2.0.3\n",
            "google-api-core               2.8.2\n",
            "google-api-python-client      1.12.11\n",
            "google-auth                   2.15.0\n",
            "google-auth-httplib2          0.0.4\n",
            "google-auth-oauthlib          0.4.6\n",
            "google-cloud-bigquery         3.3.6\n",
            "google-cloud-bigquery-storage 2.16.2\n",
            "google-cloud-core             2.3.2\n",
            "google-cloud-datastore        2.9.0\n",
            "google-cloud-firestore        2.7.2\n",
            "google-cloud-language         2.6.1\n",
            "google-cloud-storage          2.5.0\n",
            "google-cloud-translate        3.8.4\n",
            "google-colab                  1.0.0\n",
            "google-crc32c                 1.5.0\n",
            "google-pasta                  0.2.0\n",
            "google-resumable-media        2.4.0\n",
            "googleapis-common-protos      1.57.0\n",
            "googledrivedownloader         0.4\n",
            "graphviz                      0.10.1\n",
            "greenlet                      2.0.1\n",
            "grpcio                        1.51.1\n",
            "grpcio-status                 1.48.2\n",
            "gspread                       3.4.2\n",
            "gspread-dataframe             3.0.8\n",
            "gym                           0.25.2\n",
            "gym-notices                   0.0.8\n",
            "h5py                          3.1.0\n",
            "HeapDict                      1.0.1\n",
            "hijri-converter               2.2.4\n",
            "holidays                      0.17.2\n",
            "holoviews                     1.14.9\n",
            "html5lib                      1.0.1\n",
            "httpimport                    0.5.18\n",
            "httplib2                      0.17.4\n",
            "httpstan                      4.6.1\n",
            "humanize                      0.5.1\n",
            "hyperopt                      0.1.2\n",
            "idna                          2.10\n",
            "imageio                       2.9.0\n",
            "imagesize                     1.4.1\n",
            "imbalanced-learn              0.8.1\n",
            "imblearn                      0.0\n",
            "imgaug                        0.4.0\n",
            "importlib-metadata            5.1.0\n",
            "importlib-resources           5.10.1\n",
            "imutils                       0.5.4\n",
            "inflect                       2.1.0\n",
            "intel-openmp                  2022.2.1\n",
            "intervaltree                  2.1.0\n",
            "ipykernel                     5.3.4\n",
            "ipython                       7.9.0\n",
            "ipython-genutils              0.2.0\n",
            "ipython-sql                   0.3.9\n",
            "ipywidgets                    7.7.1\n",
            "itsdangerous                  1.1.0\n",
            "jax                           0.3.25\n",
            "jaxlib                        0.3.25+cuda11.cudnn805\n",
            "jieba                         0.42.1\n",
            "Jinja2                        2.11.3\n",
            "joblib                        1.2.0\n",
            "jpeg4py                       0.1.4\n",
            "jsonschema                    4.3.3\n",
            "jupyter-client                6.1.12\n",
            "jupyter-console               6.1.0\n",
            "jupyter-core                  5.1.0\n",
            "jupyterlab-widgets            3.0.4\n",
            "kaggle                        1.5.12\n",
            "kapre                         0.3.7\n",
            "keras                         2.9.0\n",
            "Keras-Preprocessing           1.1.2\n",
            "keras-vis                     0.4.1\n",
            "kiwisolver                    1.4.4\n",
            "korean-lunar-calendar         0.3.1\n",
            "langcodes                     3.3.0\n",
            "libclang                      14.0.6\n",
            "librosa                       0.8.1\n",
            "lightgbm                      2.2.3\n",
            "llvmlite                      0.39.1\n",
            "lmdb                          0.99\n",
            "locket                        1.0.0\n",
            "logical-unification           0.4.5\n",
            "LunarCalendar                 0.0.9\n",
            "lxml                          4.9.2\n",
            "Markdown                      3.4.1\n",
            "MarkupSafe                    2.0.1\n",
            "marshmallow                   3.19.0\n",
            "matplotlib                    3.2.2\n",
            "matplotlib-venn               0.11.7\n",
            "miniKanren                    1.0.3\n",
            "missingno                     0.5.1\n",
            "mistune                       0.8.4\n",
            "mizani                        0.7.3\n",
            "mkl                           2019.0\n",
            "mlxtend                       0.14.0\n",
            "more-itertools                9.0.0\n",
            "moviepy                       0.2.3.5\n",
            "mpmath                        1.2.1\n",
            "msgpack                       1.0.4\n",
            "multidict                     6.0.3\n",
            "multipledispatch              0.6.0\n",
            "multitasking                  0.0.11\n",
            "murmurhash                    1.0.9\n",
            "music21                       5.5.0\n",
            "natsort                       5.5.0\n",
            "nbconvert                     5.6.1\n",
            "nbformat                      5.7.0\n",
            "netCDF4                       1.6.2\n",
            "networkx                      2.8.8\n",
            "nibabel                       3.0.2\n",
            "nltk                          3.7\n",
            "notebook                      5.7.16\n",
            "numba                         0.56.4\n",
            "numexpr                       2.8.4\n",
            "numpy                         1.21.6\n",
            "oauth2client                  4.1.3\n",
            "oauthlib                      3.2.2\n",
            "okgrade                       0.4.3\n",
            "opencv-contrib-python         4.6.0.66\n",
            "opencv-python                 4.6.0.66\n",
            "opencv-python-headless        4.6.0.66\n",
            "openpyxl                      3.0.10\n",
            "opt-einsum                    3.3.0\n",
            "osqp                          0.6.2.post0\n",
            "packaging                     21.3\n",
            "palettable                    3.3.0\n",
            "pandas                        1.3.5\n",
            "pandas-datareader             0.9.0\n",
            "pandas-gbq                    0.17.9\n",
            "pandas-profiling              1.4.1\n",
            "pandocfilters                 1.5.0\n",
            "panel                         0.12.1\n",
            "param                         1.12.3\n",
            "parso                         0.8.3\n",
            "partd                         1.3.0\n",
            "pastel                        0.2.1\n",
            "pathlib                       1.0.1\n",
            "pathy                         0.10.1\n",
            "patsy                         0.5.3\n",
            "pep517                        0.13.0\n",
            "pexpect                       4.8.0\n",
            "pickleshare                   0.7.5\n",
            "Pillow                        7.1.2\n",
            "pip                           21.1.3\n",
            "pip-tools                     6.2.0\n",
            "platformdirs                  2.6.0\n",
            "plotly                        5.5.0\n",
            "plotnine                      0.8.0\n",
            "pluggy                        0.7.1\n",
            "pooch                         1.6.0\n",
            "portpicker                    1.3.9\n",
            "prefetch-generator            1.0.3\n",
            "preshed                       3.0.8\n",
            "prettytable                   3.5.0\n",
            "progressbar2                  3.38.0\n",
            "prometheus-client             0.15.0\n",
            "promise                       2.3\n",
            "prompt-toolkit                2.0.10\n",
            "prophet                       1.1.1\n",
            "proto-plus                    1.22.1\n",
            "protobuf                      3.19.6\n",
            "psutil                        5.4.8\n",
            "psycopg2                      2.9.5\n",
            "ptyprocess                    0.7.0\n",
            "py                            1.11.0\n",
            "pyarrow                       9.0.0\n",
            "pyasn1                        0.4.8\n",
            "pyasn1-modules                0.2.8\n",
            "pycocotools                   2.0.6\n",
            "pycparser                     2.21\n",
            "pyct                          0.4.8\n",
            "pydantic                      1.10.2\n",
            "pydata-google-auth            1.4.0\n",
            "pydot                         1.3.0\n",
            "pydot-ng                      2.0.0\n",
            "pydotplus                     2.0.2\n",
            "PyDrive                       1.3.1\n",
            "pyemd                         0.5.1\n",
            "pyerfa                        2.0.0.1\n",
            "Pygments                      2.6.1\n",
            "pygobject                     3.26.1\n",
            "pylev                         1.4.0\n",
            "pymc                          4.1.4\n",
            "PyMeeus                       0.5.12\n",
            "pymongo                       4.3.3\n",
            "pymystem3                     0.2.0\n",
            "PyOpenGL                      3.1.6\n",
            "pyparsing                     3.0.9\n",
            "pyrsistent                    0.19.2\n",
            "pysimdjson                    3.2.0\n",
            "pysndfile                     1.3.8\n",
            "PySocks                       1.7.1\n",
            "pystan                        3.3.0\n",
            "pytest                        3.6.4\n",
            "python-apt                    0.0.0\n",
            "python-dateutil               2.8.2\n",
            "python-louvain                0.16\n",
            "python-slugify                7.0.0\n",
            "python-utils                  3.4.5\n",
            "pytz                          2022.6\n",
            "pyviz-comms                   2.2.1\n",
            "PyWavelets                    1.4.1\n",
            "PyYAML                        6.0\n",
            "pyzmq                         23.2.1\n",
            "qdldl                         0.1.5.post2\n",
            "qudida                        0.0.4\n",
            "regex                         2022.6.2\n",
            "requests                      2.23.0\n",
            "requests-oauthlib             1.3.1\n",
            "resampy                       0.4.2\n",
            "rpy2                          3.5.5\n",
            "rsa                           4.9\n",
            "scikit-image                  0.18.3\n",
            "scikit-learn                  1.0.2\n",
            "scipy                         1.7.3\n",
            "screen-resolution-extra       0.0.0\n",
            "scs                           3.2.2\n",
            "seaborn                       0.11.2\n",
            "Send2Trash                    1.8.0\n",
            "setuptools                    57.4.0\n",
            "setuptools-git                1.2\n",
            "shapely                       2.0.0\n",
            "six                           1.15.0\n",
            "sklearn-pandas                1.8.0\n",
            "smart-open                    6.3.0\n",
            "snowballstemmer               2.2.0\n",
            "sortedcontainers              2.4.0\n",
            "soundfile                     0.11.0\n",
            "spacy                         3.4.4\n",
            "spacy-legacy                  3.0.10\n",
            "spacy-loggers                 1.0.4\n",
            "Sphinx                        1.8.6\n",
            "sphinxcontrib-serializinghtml 1.1.5\n",
            "sphinxcontrib-websupport      1.2.4\n",
            "SQLAlchemy                    1.4.45\n",
            "sqlparse                      0.4.3\n",
            "srsly                         2.4.5\n",
            "statsmodels                   0.12.2\n",
            "sympy                         1.7.1\n",
            "tables                        3.7.0\n",
            "tabulate                      0.8.10\n",
            "tblib                         1.7.0\n",
            "tenacity                      8.1.0\n",
            "tensorboard                   2.9.1\n",
            "tensorboard-data-server       0.6.1\n",
            "tensorboard-plugin-wit        1.8.1\n",
            "tensorflow                    2.9.2\n",
            "tensorflow-datasets           4.6.0\n",
            "tensorflow-estimator          2.9.0\n",
            "tensorflow-gcs-config         2.9.1\n",
            "tensorflow-hub                0.12.0\n",
            "tensorflow-io-gcs-filesystem  0.28.0\n",
            "tensorflow-metadata           1.12.0\n",
            "tensorflow-probability        0.17.0\n",
            "termcolor                     2.1.1\n",
            "terminado                     0.13.3\n",
            "testpath                      0.6.0\n",
            "text-unidecode                1.3\n",
            "textblob                      0.15.3\n",
            "thinc                         8.1.5\n",
            "threadpoolctl                 3.1.0\n",
            "tifffile                      2022.10.10\n",
            "toml                          0.10.2\n",
            "tomli                         2.0.1\n",
            "toolz                         0.12.0\n",
            "torch                         1.13.0+cu116\n",
            "torchaudio                    0.13.0+cu116\n",
            "torchsummary                  1.5.1\n",
            "torchtext                     0.14.0\n",
            "torchvision                   0.14.0+cu116\n",
            "tornado                       6.0.4\n",
            "tqdm                          4.64.1\n",
            "traitlets                     5.7.1\n",
            "tweepy                        3.10.0\n",
            "typeguard                     2.7.1\n",
            "typer                         0.7.0\n",
            "typing-extensions             4.4.0\n",
            "tzlocal                       1.5.1\n",
            "uritemplate                   3.0.1\n",
            "urllib3                       1.24.3\n",
            "vega-datasets                 0.9.0\n",
            "wasabi                        0.10.1\n",
            "wcwidth                       0.2.5\n",
            "webargs                       8.2.0\n",
            "webencodings                  0.5.1\n",
            "Werkzeug                      1.0.1\n",
            "wheel                         0.38.4\n",
            "widgetsnbextension            3.6.1\n",
            "wordcloud                     1.8.2.2\n",
            "wrapt                         1.14.1\n",
            "xarray                        2022.12.0\n",
            "xarray-einstats               0.4.0\n",
            "xgboost                       0.90\n",
            "xkit                          0.0.0\n",
            "xlrd                          1.2.0\n",
            "xlwt                          1.3.0\n",
            "yarl                          1.8.2\n",
            "yellowbrick                   1.5\n",
            "zict                          2.2.0\n",
            "zipp                          3.11.0\n"
          ]
        }
      ]
    },
    {
      "cell_type": "markdown",
      "source": [
        "## Try - Except"
      ],
      "metadata": {
        "id": "RmoP8LoEb71R"
      }
    },
    {
      "cell_type": "code",
      "source": [
        "# Try - Except\n",
        "'''\n",
        "Try nos ayuda a ejecutar ciertas partes de nuestro codigo cuando se presentan\n",
        "errores, es decir, si en nuestro codigo se tiene un error utilizamos try y\n",
        "except para manejar el error sin que el codigo se detenga.\n",
        "\n",
        "Los errores en Python son denominados excepciones, cuando estos ocurren nuestro\n",
        "codigo se detiene y genera un mensaje de error. Para manejarlos usamos la\n",
        "siguiente sintaxis:\n",
        "\n",
        "'''\n",
        "\n",
        "try:  # Esta es la porcion de codigo que se intentara ejecutar\n",
        "  print(z)\n",
        "except:\n",
        "  print('1) An exception ocurred') # Esta es el codigo que por si hay un error\n",
        "\n",
        "'''\n",
        "Podemos colocar ejecuciones de codigo especificas para cada clase de error,\n",
        "de la siguiente manera:\n",
        "'''\n",
        "\n",
        "try:\n",
        "  print(z)\n",
        "except NameError:\n",
        "  print('A Name Error has occurred')\n",
        "except:\n",
        "  print('An Error non defined has ocurred')\n",
        "\n",
        "# SI NO HAY ERRORES:\n",
        "'''\n",
        "Si nuestro codigo no presenta errores, podemos utilizar la palabra else, la cual\n",
        "nos permite ejecutar cierto codigo si no hay error.\n",
        "'''\n",
        "\n",
        "try:\n",
        "  x = 'Hola'\n",
        "  print(x)\n",
        "except:\n",
        "  print('Something else went wrong')\n",
        "else:\n",
        "  print('Congratulations, no errors')\n",
        "\n",
        "# Codigo que se ejecuta CON o SIN errores\n",
        "'''\n",
        "Podemos colocar un bloque de codigo que se ejecute con o sin errores en el\n",
        "codigo anterior con la keyword finally, de la siguiente manera:\n",
        "'''\n",
        "\n",
        "try:\n",
        "  print(y)\n",
        "except:\n",
        "  print('Somethig went wrong')\n",
        "finally:\n",
        "  print('But you can try it again!')\n",
        "\n",
        "# Raise an exception\n",
        "'''\n",
        "Como programadores, podemos colocar que nuestro codigo genere sus propios\n",
        "mensajes de error en caso de que no se cumpla la condicion inicial. Esto\n",
        "lo realizamos con la palabra:\n",
        "\n",
        "raise\n",
        "\n",
        "De la siguiente manera\n",
        "'''\n",
        "\n",
        "h = -1\n",
        "\n",
        "if h < 0:\n",
        "  raise Exception(\"Sorry, no negative numbers\")"
      ],
      "metadata": {
        "id": "ijTRQqIob_KY",
        "colab": {
          "base_uri": "https://localhost:8080/",
          "height": 312
        },
        "outputId": "33af7654-7ade-49e6-ccc1-530139628b1d"
      },
      "execution_count": null,
      "outputs": [
        {
          "output_type": "stream",
          "name": "stdout",
          "text": [
            "1) An exception ocurred\n",
            "A Name Error has occurred\n",
            "Hola\n",
            "Congratulations, no errors\n",
            "Somethig went wrong\n",
            "But you can try it again!\n"
          ]
        },
        {
          "output_type": "error",
          "ename": "Exception",
          "evalue": "ignored",
          "traceback": [
            "\u001b[0;31m---------------------------------------------------------------------------\u001b[0m",
            "\u001b[0;31mException\u001b[0m                                 Traceback (most recent call last)",
            "\u001b[0;32m<ipython-input-8-5d9d15f7d0b7>\u001b[0m in \u001b[0;36m<module>\u001b[0;34m\u001b[0m\n\u001b[1;32m     69\u001b[0m \u001b[0;34m\u001b[0m\u001b[0m\n\u001b[1;32m     70\u001b[0m \u001b[0;32mif\u001b[0m \u001b[0mh\u001b[0m \u001b[0;34m<\u001b[0m \u001b[0;36m0\u001b[0m\u001b[0;34m:\u001b[0m\u001b[0;34m\u001b[0m\u001b[0;34m\u001b[0m\u001b[0m\n\u001b[0;32m---> 71\u001b[0;31m   \u001b[0;32mraise\u001b[0m \u001b[0mException\u001b[0m\u001b[0;34m(\u001b[0m\u001b[0;34m\"Sorry, no negative numbers\"\u001b[0m\u001b[0;34m)\u001b[0m\u001b[0;34m\u001b[0m\u001b[0;34m\u001b[0m\u001b[0m\n\u001b[0m",
            "\u001b[0;31mException\u001b[0m: Sorry, no negative numbers"
          ]
        }
      ]
    },
    {
      "cell_type": "code",
      "source": [
        "# Resumen\n",
        "'''\n",
        "A manera de resumen:\n",
        "\n",
        "try - Nos permite ejecutar un bloque de codigo que puede contener o no errores\n",
        "\n",
        "except - Nos permie ejecutar codigo solo si HAY un error\n",
        "\n",
        "else - Nos permite ejecutar codigo solo si NO HAY error\n",
        "\n",
        "finally - Nos permite ejecutar codigo con o sin error\n",
        "\n",
        "raise Exception(\"\") - Nos permite colocar nuestros propios errores.\n",
        "\n",
        "'''"
      ],
      "metadata": {
        "id": "fbPTZGHwaLmX"
      },
      "execution_count": null,
      "outputs": []
    },
    {
      "cell_type": "markdown",
      "source": [
        "## User input"
      ],
      "metadata": {
        "id": "saGCYg5AbErd"
      }
    },
    {
      "cell_type": "code",
      "source": [
        "# User input o Entrada de datos del usuario\n",
        "'''\n",
        "Este es quiza uno de los primeros temas por los que se comienza, pero en este\n",
        "curso lo vi casi hastas el final. Podemos agregar una funcion que nos permita\n",
        "la entrada de datos mediante el metodo input()\n",
        "\n",
        "De manera que el usuario puede almacenar valores dentro de las variables.\n",
        "\n",
        "En Python 3.6 se usa input()\n",
        "En Python 2.7 se usa raw_input()\n",
        "\n",
        "Python detiene la ejecucion cuando detecta un input() y la continua despues\n",
        "de que se ingrese algun dato.\n",
        "'''"
      ],
      "metadata": {
        "id": "cKwGjj2jbHDN"
      },
      "execution_count": null,
      "outputs": []
    },
    {
      "cell_type": "markdown",
      "source": [
        "# Seccion 17 - Manejo de archivos - File Handing"
      ],
      "metadata": {
        "id": "0kKQJU4LdiNj"
      }
    },
    {
      "cell_type": "code",
      "source": [
        "# Abrir archivos\n",
        "'''\n",
        "En Python podemos hacer manejo de archivos txt o de cualquier tipo. Para\n",
        "crear, leer, actulizar y borrar archivos utilizamos la siguientes funciones.\n",
        "\n",
        "# Abrir un archivo\n",
        "Es el primer paso para el manejo de archivos y se utiliza la palabra\n",
        "open(), donde esta funcion toma dos parametros (NOMBRE, MODO).\n",
        "\n",
        "Para abrir un archivo tenemos los siguientes MODOS:\n",
        "\n",
        "\"r\" - Read - Default value. Opens a file for reading, error if the file does\n",
        "not exist\n",
        "\n",
        "\"a\" - Append - Opens a file for appending, creates the file if it does not\n",
        "exist\n",
        "\n",
        "\"w\" - Write - Opens a file for writing, creates the file if it does not exist\n",
        "\n",
        "\"x\" - Create - Creates the specified file, returns an error if the file exists\n",
        "\n",
        "Ademas, podemos agregar el tipo de archivo que sera manejado, con los siguientes\n",
        "comandos:\n",
        "\n",
        "\"t\" - Text - Default value. Text mode\n",
        "\n",
        "\"b\" - Binary - Binary mode (e.g. images)\n",
        "\n",
        "Utilizando la siguiente sintaxis:\n",
        "\n",
        "f = open('demofile.txt', 'rt')\n",
        "\n",
        "\n",
        "# Diferente locacion\n",
        "En caso de que nuestro archivo no se encuentre en la misma carpeta de Python,\n",
        "tendremos que especificar la ruta de la siguiente manera:\n",
        "\n",
        "f = open(\"D:\\\\myfiles\\welcome.txt\", \"r\")\n",
        "\n",
        "'''\n",
        "\n"
      ],
      "metadata": {
        "id": "rh9QPlXTdn1V"
      },
      "execution_count": null,
      "outputs": []
    },
    {
      "cell_type": "code",
      "source": [
        "# Lectura de un archivo\n",
        "'''\n",
        "# Lecutra de partes especificas\n",
        "Por defecto, el parametro r regresa todo el texto, pero podemos especificar\n",
        "cuantos caracteres deseamos de la siguiente manera:\n",
        "\n",
        "f = open('demofile', 'r')\n",
        "print(f.read()) # Para leer todo el archivo\n",
        "print(f.read(5))  # Para leer solo 5 carácteres\n",
        "\n",
        "Donde en este caso usamos la funcion read() junto a la impresion del archivo\n",
        "\n",
        "Podemos tambien especificar la cantidad de lineas que seran mostradas a partir\n",
        "del metodo readline(). De la siguiente manera\n",
        "\n",
        "print(f.readline()) #Muestra la primer linea del texto\n",
        "\n",
        "Si lo colocamos de manera sucesiva, ira leyendo la primer, segunda, ... ultima.\n",
        "linea de nuestro codigo, de manera que para especificar un cierto numero\n",
        "de lineas es necesario utilizar un ciclo for.\n",
        "\n",
        "for x in f:\n",
        "  print(x)\n",
        "\n",
        "# Cerrar un archivo\n",
        "Cuando terminos de hacer uso del archivo es necesario cerrarlo, para ello\n",
        "usamos\n",
        "\n",
        "f.close()\n",
        "'''"
      ],
      "metadata": {
        "id": "gpzw4Bu8g4sl"
      },
      "execution_count": null,
      "outputs": []
    },
    {
      "cell_type": "code",
      "source": [
        "# Escritura de un archivo\n",
        "'''\n",
        "Para escribir sobre un archivo ya creado primero es necesario abrirlo con\n",
        "open(), donde contamos con dos parametros\n",
        "\n",
        "'a' - permite escribir al final del archivo\n",
        "'w'- sobreescribe el archivo\n",
        "\n",
        "Por ejemplo\n",
        "\n",
        "f = open('demofile.txt', 'a') # Si cambiamos por 'w' se sobreescribe el cont.\n",
        "f.write('Esta frase va hasta el final')\n",
        "f.close()\n",
        "\n",
        "'''"
      ],
      "metadata": {
        "id": "ZhDLyUq1g-gc"
      },
      "execution_count": null,
      "outputs": []
    },
    {
      "cell_type": "code",
      "source": [
        "# Creacion de un nuevo archivo\n",
        "'''\n",
        "Para realizar la creacion de un nuevo archivo usamos el metodo open() con alguno\n",
        "de los siguientes metodos:\n",
        "\n",
        "\"x\" - Create - will create a file, returns an error if the file exist\n",
        "\n",
        "\"a\" - Append - will create a file if the specified file does not exist\n",
        "\n",
        "\"w\" - Write - will create a file if the specified file does not exist\n",
        "\n",
        "Ejemplo\n",
        "\n",
        "f = open('myfile.txt', 'w')\n",
        "\n",
        "'''"
      ],
      "metadata": {
        "id": "ikb4DLYrwLBm"
      },
      "execution_count": null,
      "outputs": []
    },
    {
      "cell_type": "code",
      "source": [
        "# Borrar un archivo\n",
        "'''\n",
        "# Para eliminar un archivo es necesario importar la paqueteria os\n",
        "\n",
        "import os\n",
        "\n",
        "Y utilizar la funcion os.remove('filename.txt')\n",
        "\n",
        "# Para revisar si un archivo existe usamos la funcion:\n",
        "\n",
        "os.path.exists('filename.txt')\n",
        "\n",
        "Dentro de un condicional, en caso de que el archivo exista tomara un valor de\n",
        "True donde podremos ejecutar el metodo de borrado.\n",
        "\n",
        "# Para eliminar una carpeta\n",
        "Para eliminar una carpeta usamos la funcion\n",
        "\n",
        "os.rmdir()\n",
        "\n",
        "UNICAMENTE PODEMOS ELIMINAR CARPETAS VACIAS\n",
        "'''"
      ],
      "metadata": {
        "id": "zUeA7kR8hAGq"
      },
      "execution_count": null,
      "outputs": []
    },
    {
      "cell_type": "markdown",
      "source": [
        "# Seccion 18 - Matplotlib"
      ],
      "metadata": {
        "id": "FL9Fo1SeyG9A"
      }
    },
    {
      "cell_type": "code",
      "source": [
        "# Matplotlib Tutorial\n",
        "'''\n",
        "Finalmente hemos llegado al grafico de datos con Python, es un gran momento\n",
        "en nuestra historia como aprendizes de la programacion, puesto que esta libreria\n",
        "tiene una gran utilidad en el ambito experimental.\n",
        "'''\n",
        "\n",
        "# Que es Matplotlib\n",
        "'''\n",
        "Matplotlib es una biblioteca de bajo nivel para realizar graficos que sirve\n",
        "como utilidad de visualizacion, fue creada por John D. Hunter, es OpenSource,\n",
        "y la mayoria de su codigo esta escrito en Python, algunas partes en C,\n",
        "Objective-C y JS\n",
        "\n",
        "Todo su codigo base puede consultarse en:\n",
        "https://github.com/matplotlib/matplotlib\n",
        "\n",
        "'''"
      ],
      "metadata": {
        "id": "kqKDkN6syL02"
      },
      "execution_count": null,
      "outputs": []
    },
    {
      "cell_type": "code",
      "source": [
        "# Instalacion de Matplotlib\n",
        "\n",
        "# Mediante pip se usa el comando:\n",
        "# pip install matplotlib\n",
        "\n",
        "\n",
        "# Si el comando de arriba falla, entonces se recomienda el uso de una distribuc\n",
        "# que ya lo contenga como Anaconda, Spyder, etc.\n",
        "\n",
        "# Hacer uso de matplotlib\n",
        "'''\n",
        "Para hacer uso import matplotlib\n",
        "'''\n",
        "import matplotlib\n",
        "\n",
        "# Revisar la version\n",
        "'''\n",
        "Para revisar la version usamos:\n",
        "'''\n",
        "\n",
        "print(matplotlib.__version__)"
      ],
      "metadata": {
        "colab": {
          "base_uri": "https://localhost:8080/"
        },
        "id": "kFzbEgLozf4V",
        "outputId": "b763b60d-3ef6-437e-9e1b-97aae9d9068d"
      },
      "execution_count": null,
      "outputs": [
        {
          "output_type": "stream",
          "name": "stdout",
          "text": [
            "3.2.2\n"
          ]
        }
      ]
    },
    {
      "cell_type": "code",
      "source": [
        "# Pyplot\n",
        "'''\n",
        "Casi todas las utilidades del modulo matplot se encuentran contenidas\n",
        "en el submodulo pyplot, abreviado como plt. De manera que suele usarse la\n",
        "notacion:\n",
        "'''\n",
        "\n",
        "import matplotlib.pyplot as plt\n",
        "\n",
        "# Ej - Draw a line in a diagram from position (0,0) to position (6,250):\n",
        "\n",
        "import numpy as np\n",
        "\n",
        "xpoints = np.array([0,6])\n",
        "ypoints = np.array([0,250])\n",
        "\n",
        "plt.plot(xpoints, ypoints)\n",
        "plt.show()"
      ],
      "metadata": {
        "colab": {
          "base_uri": "https://localhost:8080/",
          "height": 265
        },
        "id": "KoffbHMz0n9Z",
        "outputId": "1383cc1d-b973-4406-e5d1-b089bb4fdf29"
      },
      "execution_count": null,
      "outputs": [
        {
          "output_type": "display_data",
          "data": {
            "text/plain": [
              "<Figure size 432x288 with 1 Axes>"
            ],
            "image/png": "[encoded data removed]"
          },
          "metadata": {
            "needs_background": "light"
          }
        }
      ]
    },
    {
      "cell_type": "code",
      "source": [
        "# Matplotlib Plotting\n",
        "'''\n",
        "La funcion plot() es usada para dibujar puntos (markers) en un diagrama, por\n",
        "defecto la funcion plot() dibuja una linea entre puntos. Esta funcion toma\n",
        "dos parametros donde el primero corresponde a un ARREGLO en x y el segundo\n",
        "a un ARREGLO en y\n",
        "'''\n",
        "\n",
        "# Ej - Draw a line in a diagram from position (1, 3) to position (8, 10):\n",
        "\n",
        "import matplotlib.pyplot as plt\n",
        "import numpy as np\n",
        "\n",
        "xpoints = np.array([1, 8])\n",
        "ypoints = np.array([3, 10])\n",
        "plt.plot(xpoints, ypoints)\n",
        "plt.show()"
      ],
      "metadata": {
        "colab": {
          "base_uri": "https://localhost:8080/",
          "height": 265
        },
        "id": "T7TbqmBk1lgK",
        "outputId": "e3358649-c132-4cc8-d436-e24ca5590628"
      },
      "execution_count": null,
      "outputs": [
        {
          "output_type": "display_data",
          "data": {
            "text/plain": [
              "<Figure size 432x288 with 1 Axes>"
            ],
            "image/png": "[encoded data removed]"
          },
          "metadata": {
            "needs_background": "light"
          }
        }
      ]
    },
    {
      "cell_type": "code",
      "source": [
        "# Unicamente puntos\n",
        "'''\n",
        "En caso de que unicamente busquemos agregar puntos, usamos el parametro 'o'\n",
        "dentro de la funcion plot. De la siguiente manera:\n",
        "'''\n",
        "import matplotlib.pyplot as plt\n",
        "import numpy as np\n",
        "\n",
        "xpoints = np.array([1, 8])\n",
        "ypoints = np.array([3, 10])\n",
        "\n",
        "plt.plot(xpoints, ypoints, 'o')\n",
        "plt.show()\n",
        "\n",
        "# Agregar multiples puntos\n",
        "'''\n",
        "Podemos agregar multiples puntos unicamente agregando mas valores a x y y. Donde\n",
        "la unica condicion es que la cantida de puntos en ambos arreglos sea la misma.\n",
        "'''\n",
        "xpoints = np.array([1, 2, 6, 8])\n",
        "ypoints = np.array([3, 8, 1, 10])\n",
        "\n",
        "plt.plot(xpoints, ypoints)\n",
        "plt.show()\n",
        "\n",
        "# Default X-Points\n",
        "'''\n",
        "En caso de que no espefiquemos los valores de x, estos se tomaran como\n",
        "los naturales a partir de 0 y se graficaran uno a uno a los valores de y.\n",
        "\n",
        "ypoints = np.array([3, 8, 1, 10, 5, 7])\n",
        "plt.plot(ypoints)\n",
        "'''\n",
        "\n",
        "\n"
      ],
      "metadata": {
        "colab": {
          "base_uri": "https://localhost:8080/",
          "height": 513
        },
        "id": "tKsGv41c2vNa",
        "outputId": "6e823f39-1813-44b9-c454-7c5e07e30b4b"
      },
      "execution_count": null,
      "outputs": [
        {
          "output_type": "display_data",
          "data": {
            "text/plain": [
              "<Figure size 432x288 with 1 Axes>"
            ],
            "image/png": "[encoded data removed]"
          },
          "metadata": {
            "needs_background": "light"
          }
        },
        {
          "output_type": "display_data",
          "data": {
            "text/plain": [
              "<Figure size 432x288 with 1 Axes>"
            ],
            "image/png": "[encoded data removed]"
          },
          "metadata": {
            "needs_background": "light"
          }
        }
      ]
    },
    {
      "cell_type": "code",
      "source": [
        "# Matplotlib Markers\n",
        "'''\n",
        "Esta seccion esta dedicada a la personalizacion de los markers y la linea de\n",
        "tendencia.\n",
        "\n",
        "# Podemos usar la keyword marker para enfatizar la forma del marcador,\n",
        "es decir, del punto:\n",
        "\n",
        "plt.plot(ypoints, marker = 'o') # Markers con forma de punto\n",
        "\n",
        "Podemos colocar que tengan formas de puntos, estrellas, diamantes, etc. Todo\n",
        "esto con los siguientes comandos:\n",
        "\n",
        "'o' \tCircle\n",
        "'*' \tStar\n",
        "'.' \tPoint\n",
        "',' \tPixel\n",
        "'x' \tX\n",
        "'X' \tX (filled)\n",
        "'+' \tPlus\n",
        "'P' \tPlus (filled)\n",
        "'s' \tSquare\n",
        "'D' \tDiamond\n",
        "'d' \tDiamond (thin)\n",
        "'p' \tPentagon\n",
        "'H' \tHexagon\n",
        "'h' \tHexagon\n",
        "'v' \tTriangle Down\n",
        "'^' \tTriangle Up\n",
        "'<' \tTriangle Left\n",
        "'>' \tTriangle Right\n",
        "'1' \tTri Down\n",
        "'2' \tTri Up\n",
        "'3' \tTri Left\n",
        "'4' \tTri Right\n",
        "'|' \tVline\n",
        "'_' \tHline\n",
        "\n",
        "# MÁS USADA: Format Strings fmt\n",
        "Esta notacion corresponde al formato marker|line|color y especifica la forma\n",
        "de los elementos que componen nuestra linea de tendencia. Donde los valores\n",
        "para la linea corresponden a:\n",
        "\n",
        "'-' \tSolid line\n",
        "':' \tDotted line\n",
        "'--' \tDashed line\n",
        "'-.' \tDashed/dotted line\n",
        "\n",
        "Y los colores disponibles corresponden a:\n",
        "\n",
        "'r' \tRed\n",
        "'g' \tGreen\n",
        "'b' \tBlue\n",
        "'c' \tCyan\n",
        "'m' \tMagenta\n",
        "'y' \tYellow\n",
        "'k' \tBlack\n",
        "'w' \tWhite\n",
        "\n",
        "Y la sintaxis corresponde a:\n",
        "\n",
        "plt.plot(ypoints, 'o:r')\n",
        "\n",
        "SI NO SE ESPECIFICA NO SE GRAFICARÁ\n",
        "\n",
        "# Marker size\n",
        "Para especificar el tamano del marcador usamos la keyword markersize o la\n",
        "abreviacion ms. De la siguiente manera:\n",
        "\n",
        "plt.plot(ypoints, marker = 'o', ms = 20)\n",
        "\n",
        "# Marker Color\n",
        "Para especificar el color de los bordes de los marcadores usamos la keyword\n",
        "markeredgecolor o la abreviacion mec\n",
        "\n",
        "plt.plot(ypoints, marker = 'o', ms = 20, mec = 'r')\n",
        "\n",
        "Donde para colocar el color dentro del borde usamos markerfacecolor o mfc:\n",
        "\n",
        "plt.plot(ypoints, marker = 'o', ms = 20, mfc = 'r')\n",
        "\n",
        "Usando ambos obtenemos tanto el borde como el interior del mismo color:\n",
        "\n",
        "plt.plot(ypoints, marker = 'o', ms = 20, mec = 'r', mfc = 'r')\n",
        "\n",
        "# Nota: Tambien se pueden usar los valores Hexadecimales del color:\n",
        "plt.plot(ypoints, marker = 'o', ms = 20, mec = '#4CAF50', mfc = '#4CAF50')\n",
        "\n",
        "'''"
      ],
      "metadata": {
        "id": "t3Rag3bz7Jmc"
      },
      "execution_count": null,
      "outputs": []
    },
    {
      "cell_type": "code",
      "source": [
        "# Linestyle\n",
        "'''\n",
        "Para cambiar la forma de la linea de tendencia podemos usar la keyword linestyle\n",
        "o su abreviacio ls.\n",
        "\n",
        "plt.plot(ypoints, linestyle = 'dotted')\n",
        "\n",
        "Con las abreviaciones:\n",
        "\n",
        "linestyle can be written as ls.\n",
        "\n",
        "dotted can be written as :\n",
        "\n",
        "dashed can be written as --\n",
        "\n",
        "Por defecto, podemos usar los siguientes estilos de lineas:\n",
        "\n",
        "'solid' (default) \t'-'\n",
        "'dotted' \t':'\n",
        "'dashed' \t'--'\n",
        "'dashdot' \t'-.'\n",
        "'None' \t'' or ' '\n",
        "\n",
        "# Cambiar el color de la linea\n",
        "Para cambiar el color de la linea usamos la keyword color o su abreviacion c\n",
        "\n",
        "plt.plot(ypoints, color = 'r')\n",
        "\n",
        "#Nota: Podemos usar valores Hexadecimales\n",
        "\n",
        "# Cambiar el ancho de la linea\n",
        "Para cambiar el ancho de la linea usamos la keyword linewidth o su abreviacion\n",
        "lw. Donde el valor que toma es un flotante:\n",
        "\n",
        "plt.plot(ypoints, linewidth = '20.5')\n",
        "\n",
        "'''"
      ],
      "metadata": {
        "id": "tANcENtoxM-T"
      },
      "execution_count": null,
      "outputs": []
    },
    {
      "cell_type": "code",
      "source": [
        "# Multiples lineas en un mismo grafico:\n",
        "'''\n",
        "Si queremos proyectar una serie de funciones en un mismo grafico, lo unico\n",
        "que debemos agregar es una mayor cantidad de plt.plot() de la siguiente\n",
        "manera:\n",
        "\n",
        "Primero colocamos los valores del eje y que usemos:\n",
        "\n",
        "y1 = np.array([3, 8, 1, 10])\n",
        "y2 = np.array([6, 2, 7, 11])\n",
        "\n",
        "Y para serie de valores utilizamos un plot, es decir:\n",
        "\n",
        "plt.plot(y1)\n",
        "plt.plot(y2)\n",
        "\n",
        "plt.show()\n",
        "\n",
        "Podemos proyectar n cantidad de funciones. Si buscamos incluir en eje x debe\n",
        "hacerse de la siguiente manera:\n",
        "\n",
        "plt.plot(x1, y1, x2, y2)\n",
        "\n",
        "Donde en este caso, x1 y x2 son identicos\n",
        "\n",
        "x1 = x2\n",
        "'''"
      ],
      "metadata": {
        "id": "9Sis9YzDyaLr"
      },
      "execution_count": null,
      "outputs": []
    },
    {
      "cell_type": "code",
      "source": [
        "# Titulo del grafico y de los ejes\n",
        "'''#  Ejes\n",
        "Podemos agregar y personalizar el titulo del grafico y de cada eje mediante\n",
        "la siguiente funcion:\n",
        "\n",
        "Para colocar una etiqueta el eje y usamos ylabel()\n",
        "\n",
        "Para colocar una etiqueta al eje x usamos xlabel()\n",
        "\n",
        "plt.xlabel(\"Average Pulse\")\n",
        "plt.ylabel(\"Calorie Burnage\")\n",
        "\n",
        "# Grafico\n",
        "Para agregar un titulo al grafico usamos la funcion title() de la siguiente\n",
        "forma:\n",
        "\n",
        "plt.title('Titulo del grafico')\n",
        "\n",
        "# Personalizacion\n",
        "Si buscamos darle un tipo de fuente determinada, color o tamano a cada eje, se\n",
        "debe usar el parametro fontdict en cada etiqueta, de la siguiente manera:\n",
        "\n",
        "Primero creamos nuestra personalizacion en forma de diccionario:\n",
        "\n",
        "font1 = {'family':'serif','color':'blue','size':20}\n",
        "font2 = {'family':'serif','color':'darkred','size':15}\n",
        "\n",
        "Despues incorporarmos el parametro title(), xlabe() y ylabe() con fontdict:\n",
        "\n",
        "plt.title(\"Sports Watch Data\", fontdict = font1)\n",
        "plt.xlabel(\"Average Pulse\", fontdict = font2)\n",
        "plt.ylabel(\"Calorie Burnage\", fontdict = font2)\n",
        "\n",
        "# Posicion del titulo\n",
        "Para posicionar el titulo usamos el parametro loc en title(). Los valores\n",
        "posibles corresponden a: Legal values are: 'left', 'right', and 'center'.\n",
        "Default value is 'center'.\n",
        "\n",
        "plt.title(\"Sports Watch Data\", loc = 'left')\n",
        "\n",
        "'''\n",
        "\n"
      ],
      "metadata": {
        "colab": {
          "base_uri": "https://localhost:8080/"
        },
        "id": "4zXTJPWT8SMA",
        "outputId": "63e4b401-b07c-4e50-c545-37a1070d831c"
      },
      "execution_count": null,
      "outputs": [
        {
          "output_type": "stream",
          "name": "stdout",
          "text": [
            "2520\n"
          ]
        }
      ]
    },
    {
      "cell_type": "code",
      "source": [
        "# Agregar cuadricula\n",
        "'''\n",
        "Para agregar una cuadricula usamos la funcion grid() de la siguiente manera:\n",
        "\n",
        "plt.grid()\n",
        "\n",
        "Para especificar si solo queremos lineas en el eje x o y usamos el parametro\n",
        "axis, de la siguiente manera:\n",
        "\n",
        "plt.grid(axis = 'x')\n",
        "\n",
        "Podemos tambien emplear toda la personalizacion anteriormente vista, como:\n",
        "\n",
        "grid(color = 'color', linestyle = 'linestyle', linewidth = number).\n",
        "\n",
        "\n",
        "'''"
      ],
      "metadata": {
        "id": "shxXMBXN9ZzM"
      },
      "execution_count": null,
      "outputs": []
    },
    {
      "cell_type": "code",
      "source": [
        "# Subgraficos\n",
        "'''\n",
        "Para dibujar multiples graficos en una misma figura usamos la funcion\n",
        "subplot(), de la siguiente manera:\n",
        "\n",
        "import matplotlib.pyplot as plt # Importamos las librerias\n",
        "import numpy as np\n",
        "\n",
        "#plot 1:\n",
        "x = np.array([0, 1, 2, 3])  # Disenamos los datos de la 1er grafica\n",
        "y = np.array([3, 8, 1, 10])\n",
        "\n",
        "plt.subplot(1, 2, 1)  # Colocamos su consiguracion se subgrafico\n",
        "plt.plot(x,y)\n",
        "\n",
        "#plot 2:\n",
        "x = np.array([0, 1, 2, 3])\n",
        "y = np.array([10, 20, 30, 40])\n",
        "\n",
        "plt.subplot(1, 2, 2)\n",
        "plt.plot(x,y)\n",
        "\n",
        "plt.show() # Mostramos ambas grafica.\n",
        "\n",
        "'''"
      ],
      "metadata": {
        "colab": {
          "base_uri": "https://localhost:8080/",
          "height": 107
        },
        "id": "2LivkqYB-Jrq",
        "outputId": "fbc20acc-4290-4082-97c6-353c0d97b7a7"
      },
      "execution_count": null,
      "outputs": [
        {
          "output_type": "execute_result",
          "data": {
            "text/plain": [
              "'\\nPara dibujar multiples graficos en una misma figura usamos la funcion\\nsubplot(), de la siguiente manera:\\n\\nimport matplotlib.pyplot as plt \\nimport numpy as np\\n\\n#plot 1:\\nx = np.array([0, 1, 2, 3])\\ny = np.array([3, 8, 1, 10])\\n\\nplt.subplot(1, 2, 1)\\nplt.plot(x,y)\\n\\n#plot 2:\\nx = np.array([0, 1, 2, 3])\\ny = np.array([10, 20, 30, 40])\\n\\nplt.subplot(1, 2, 2)\\nplt.plot(x,y)\\n\\nplt.show()\\n\\n'"
            ],
            "application/vnd.google.colaboratory.intrinsic+json": {
              "type": "string"
            }
          },
          "metadata": {},
          "execution_count": 1
        }
      ]
    },
    {
      "cell_type": "code",
      "source": [
        "# La funcion subplot()\n",
        "'''\n",
        "La funcion subplot() toma 3 parametros, donde el primero corresponde a\n",
        "la cantidad de filas totales, el segundo a la cantidad de columnas totales y el\n",
        "tercero a la posicion que ocupa nuestra grafica.\n",
        "\n",
        "Por ejemplo, en el codigo anterior se colocaron los siguientes comandos:\n",
        "\n",
        "plt.subplot(1, 2, 1)\n",
        "#the figure has 1 row, 2 columns, and this plot is the first plot.\n",
        "\n",
        "plt.subplot(1, 2, 2)\n",
        "#the figure has 1 row, 2 columns, and this plot is the second plot.\n",
        "\n",
        "De manera que, de cierta forma, disenamos una matriz con una fila y dos columnas\n",
        "y en el 3r parametros colocamos el orden que se sigue.\n",
        "\n",
        "\n",
        "# Titulo a cada grafica:\n",
        "Para colocarle un titulo a cada grafica, lo realizamos de manera identica al\n",
        "titulo normal, debajo de la funcion plot() colocamos la funcion title() de\n",
        "la siguiente forma:\n",
        "\n",
        "x = np.array([0, 1, 2, 3])\n",
        "y = np.array([3, 8, 1, 10])\n",
        "\n",
        "plt.subplot(1, 2, 1)\n",
        "plt.plot(x,y)\n",
        "plt.title(\"SALES\")\n",
        "\n",
        "x = np.array([0, 1, 2, 3])\n",
        "y = np.array([10, 20, 30, 40])\n",
        "\n",
        "plt.subplot(1, 2, 2)\n",
        "plt.plot(x,y)\n",
        "plt.title(\"INCOME\")\n",
        "\n",
        "plt.show()\n",
        "\n",
        "Como se puede apreciar, se le coloco un titulo a cada grafica.\n",
        "\n",
        "# Titulo a la figura total\n",
        "Si buscamos agregar un unico titulo a toda la imagen, utilizamos la funcion\n",
        "suptitle()\n",
        "\n",
        "plt.suptitle('Este titulo es enorme y va en la figura')\n",
        "\n",
        "\n",
        "\n",
        "'''"
      ],
      "metadata": {
        "id": "qQcHl5PY-vcu"
      },
      "execution_count": null,
      "outputs": []
    },
    {
      "cell_type": "code",
      "source": [
        "# Matplotlib Scatter o Dispersion\n",
        "'''\n",
        "Si en lugar de presentar una grafica continua buscamos UNICAMENTE presentar\n",
        "todos los PUNTOS, entonces hacemos uso de la funcion scatter()\n",
        "\n",
        "La funcion necesita que la cantidad de valores en x y en y sean identicos.\n",
        "\n",
        "\n",
        "import matplotlib.pyplot as plt\n",
        "import numpy as np\n",
        "\n",
        "x = np.array([5,7,8,7,2,17,2,9,4,11,12,9,6])\n",
        "y = np.array([99,86,87,88,111,86,103,87,94,78,77,85,86])\n",
        "\n",
        "plt.scatter(x, y) # Sustituye a plot()\n",
        "plt.show()\n",
        "\n",
        "Donde en este caso, sustituye a la funcion plot()\n",
        "\n",
        "# Dibujar dos dispersiones en una misma figura\n",
        "Si queremos mostrar los resultados de dos dispersiones en una misma figura\n",
        "utilizamos unicamente una mayor cantidad de scatter()\n",
        "\n",
        "x = np.array([5,7,8,7,2,17,2,9,4,11,12,9,6])\n",
        "y = np.array([99,86,87,88,111,86,103,87,94,78,77,85,86])\n",
        "plt.scatter(x, y)\n",
        "\n",
        "\n",
        "x = np.array([2,2,8,1,15,8,12,9,7,3,11,4,7,14,12])\n",
        "y = np.array([100,105,84,105,90,99,90,95,94,100,79,112,91,80,85])\n",
        "plt.scatter(x, y)\n",
        "\n",
        "De esta manera, se muestran ambas cantidaddes de puntos, con diferente COLOR\n",
        "\n",
        "# Color de cada dispersion\n",
        "Para agregar color, unicamente colocarmos el parametro color o su abreviacion\n",
        "c, de la siguiente forma:\n",
        "\n",
        "plt.scatter(x,y, c = 'hotpink')\n",
        "\n",
        "# Nota: Es posible incluso colocar un color para CADA punto, utilizando un\n",
        "arreglo que contenga cada color, esto solo se puede hacer con el parametro c\n",
        "\n",
        "\n",
        "# ColorMap\n",
        "La biblioteca de Matplot tiene una gran variedad de colores, los cuales se\n",
        "pueden seelecionar a partir de la lista ColorMap, donde los colores estan\n",
        "contenidos en un rango de 0 a 100.\n",
        "\n",
        "  Para especificar que colocar queremos usar utilizamos la keyword cmap junto\n",
        "al valor del color.\n",
        "\n",
        "plt.scatter(x, y, c=colors, cmap='viridis')\n",
        "\n",
        "Inclusive es posible agregar la barra de colores con el comando plt.colobar()\n",
        "--- Para revisar todos los colores entrar a:\n",
        "https://www.w3schools.com/python/matplotlib_scatter.asp\n",
        "\n",
        "# Tamaño de los puntos\n",
        "Podemos modificar el tamaño de los puntos con el argumento s, de la siguiente\n",
        "forma:\n",
        "\n",
        "import matplotlib.pyplot as plt\n",
        "import numpy as np\n",
        "\n",
        "x = np.array([5,7,8,7,2,17,2,9,4,11,12,9,6])\n",
        "y = np.array([99,86,87,88,111,86,103,87,94,78,77,85,86])\n",
        "sizes = np.array([20,50,100,200,500,1000,60,90,10,300,600,800,75])\n",
        "\n",
        "plt.scatter(x, y, s=sizes)\n",
        "\n",
        "plt.show()\n",
        "\n",
        "Donde ahora s es un arreglo que varia con la magnitud del punto.\n",
        "\n",
        "# Transparencia de los puntos\n",
        "Para variar la transparencia de los puntos usamos el argumento alpha, de la\n",
        "siguiente forma:\n",
        "\n",
        "plt.scatter(x, y, s=sizes, alpha=0.5)\n",
        "\n",
        "Combinando ambas opciones de transparencia y color se obtienen los mejores\n",
        "graficos.\n",
        "\n",
        "'''\n",
        "\n",
        "import matplotlib.pyplot as plt\n",
        "import numpy as np\n",
        "\n",
        "x = np.random.randint(100, size=(100))\n",
        "y = np.random.randint(100, size=(100))\n",
        "colors = np.random.randint(100, size=(100))\n",
        "sizes = 10 * np.random.randint(100, size=(100))\n",
        "\n",
        "plt.scatter(x, y, c=colors, s=sizes, alpha=0.5, cmap='nipy_spectral')\n",
        "\n",
        "plt.colorbar()\n",
        "\n",
        "plt.show()"
      ],
      "metadata": {
        "id": "1kGprK1eANpY",
        "colab": {
          "base_uri": "https://localhost:8080/",
          "height": 266
        },
        "outputId": "9f450c77-8b0d-4e14-8469-c7d724fb8f73"
      },
      "execution_count": null,
      "outputs": [
        {
          "output_type": "display_data",
          "data": {
            "text/plain": [
              "<Figure size 432x288 with 2 Axes>"
            ],
            "image/png": "[encoded data removed]"
          },
          "metadata": {
            "needs_background": "light"
          }
        }
      ]
    },
    {
      "cell_type": "code",
      "source": [
        "# Graficas de Barras\n",
        "'''\n",
        "Si buscamos realizar graficas de barras, es posible realizarlas usando la\n",
        "funcion bar(), de la siguiente forma:\n",
        "\n",
        "import matplotlib.pyplot as plt\n",
        "import numpy as np\n",
        "\n",
        "x = np.array([\"A\", \"B\", \"C\", \"D\"])\n",
        "y = np.array([3, 8, 1, 10])\n",
        "\n",
        "plt.bar(x,y)\n",
        "plt.show()\n",
        "\n",
        "Donde los valores de y corresponden a la altura de la grafica y x a su nombre.\n",
        "La funcion bar() toma una serie de argumentos para la configuracion.\n",
        "\n",
        "# Graficas de barras horizontales\n",
        "Si buscamos que las graficas sean colocadas de manera horizontal, usamos\n",
        "la funcion barh(), justamente como en el caso anterior.\n",
        "\n",
        "# Color\n",
        "Para colocar color a las graficas usamos el argumento color dentro de las\n",
        "respectivas funciones\n",
        "\n",
        "plt.bar(x,y, color = 'red') # Cualquiera de los 140 colores soportados (enlace\n",
        "anterior)\n",
        "# Nota: Permite la configuracion Hexadecimal\n",
        "\n",
        "# Ancho de las barras\n",
        "Para modificar el ancho de las barras usamos el argumento width dentro de la\n",
        "funcion, de la siguiente forma:\n",
        "\n",
        "plt.bar(x, y, width = 0.1) # Default value = 0.8\n",
        "plt.barh(x, y, height = 0.1) # Barras horizontales\n",
        "\n",
        "'''"
      ],
      "metadata": {
        "id": "KSG9XFn55XEE"
      },
      "execution_count": null,
      "outputs": []
    },
    {
      "cell_type": "code",
      "source": [
        "# Histogramas - Histograms\n",
        "'''\n",
        "Un histograma es un grafico que muestra distribuciones de frecuencias, es decir,\n",
        "nos ayuda a notar que tanto un valor se repite dentro de un intervalo.\n",
        "\n",
        "Para graficar uno, unicamente necesitamos nuestro arreglo con los valores y\n",
        "usar la funcion hist(), donde el arreglo de valores se coloca como argumento.\n",
        "\n",
        "'''\n",
        "\n",
        "import matplotlib.pyplot as plt\n",
        "import numpy as np\n",
        "\n",
        "x = np.random.normal(170, 10, 250) # Generados 250 valores, una media de 170 y\n",
        "# una desviación de 10.\n",
        "\n",
        "plt.hist(x)\n",
        "plt.show()"
      ],
      "metadata": {
        "colab": {
          "base_uri": "https://localhost:8080/",
          "height": 265
        },
        "id": "_Q3yz9KH6tZO",
        "outputId": "305cb941-af32-4be7-e148-ff909a704a87"
      },
      "execution_count": null,
      "outputs": [
        {
          "output_type": "display_data",
          "data": {
            "text/plain": [
              "<Figure size 432x288 with 1 Axes>"
            ],
            "image/png": "[encoded data removed]"
          },
          "metadata": {
            "needs_background": "light"
          }
        }
      ]
    },
    {
      "cell_type": "code",
      "source": [
        "# Graficas de Pie o Pie Charts\n",
        "'''\n",
        "Las graficas de Pie pueden ser generadas a partir de la funcion pie(), donde el\n",
        "argumento corresponde a los valores a ser mostrados, de la siguiente manera:\n",
        "\n",
        "import matplotlib.pyplot as plt\n",
        "import numpy as np\n",
        "\n",
        "y = np.array([35, 25, 25, 15])\n",
        "\n",
        "plt.pie(y)\n",
        "plt.show()\n",
        "\n",
        "# Nota: Por defecto, la grafica parte del eje x y se mueve en contrareloj,\n",
        "\n",
        "# Etiquetas a cada parte de la grafica\n",
        "Para colocar etiquedas a cada parte de la grafica es necesario crear una lista\n",
        "con las etiquetdas, y agregarse a la funcion pie() por medio del parametro\n",
        "labels.\n",
        "\n",
        "mylabels = [\"Apples\", \"Bananas\", \"Cherries\", \"Dates\"]\n",
        "\n",
        "plt.pie(y, labels = mylabels)\n",
        "\n",
        "# Angulo de inicio\n",
        "Para modificar el angulo de inicio usamos el parametro starangle, el cual\n",
        "toma valores en grados.\n",
        "\n",
        "# Mostrar un parte en particular\n",
        "Si buscamos mostrar una parte en particular de la grafica, lo podemos realizar\n",
        "con el parametro explode. Para usarlo, se necesita de una lista con los\n",
        "valores de separacion de cada parte del centro y agregarlo mediante\n",
        "explode.\n",
        "\n",
        "myexplode = [0.2, 0, 0, 0]\n",
        "\n",
        "plt.pie(y, labels = mylabels, explode = myexplode)\n",
        "\n",
        "Donde en los comandos anteriores, la primer etiqueta aparece separada de la\n",
        "grafica.\n",
        "\n",
        "# Sombras\n",
        "Podemos agregar una sombra a las partes de la grafica colocando el parametro\n",
        "shadow = True, de la siguiente forma:\n",
        "\n",
        "plt.pie(y, labels = mylabels, explode = myexplode, shadow = True)\n",
        "\n",
        "# Colores\n",
        "Para colocar una serie de colores a cada parte de la grafica, se debe\n",
        "incorporar una lista con los colores y agregarlos por medio del parametro\n",
        "colors.\n",
        "\n",
        "mycolors = [\"black\", \"hotpink\", \"b\", \"#4CAF50\"]\n",
        "\n",
        "plt.pie(y, labels = mylabels, colors = mycolors)\n",
        "\n",
        "# Nota: Se pueden usar Hexa, o las abreviaciones.\n",
        "\n",
        "# Agregar Leyenda.\n",
        "Para agregar leyenda, unicamente incorporamos la funcion legend()\n",
        "\n",
        "plt.legend()\n",
        "\n",
        "Donde es posible agregarle un titulo, colocando como argumento title = 'Titulo'\n",
        "\n",
        "\n",
        "\n",
        "'''"
      ],
      "metadata": {
        "id": "l2br_r6Q79nj"
      },
      "execution_count": null,
      "outputs": []
    },
    {
      "cell_type": "markdown",
      "source": [
        "# Seccion 19 - Introdución a Machine Learning"
      ],
      "metadata": {
        "id": "FYbGmUFjyXn7"
      }
    },
    {
      "cell_type": "code",
      "source": [
        "# Que es Machine Learning\n",
        "'''\n",
        "Debo admitir que en este punto no sé qué esperar del curso que estoy tomando o\n",
        "de mí mismo, podría parecer por el nomnbre que es algo en extremo complejo\n",
        "y que solo con un posgrado en Data Science podría dominarlo.\n",
        "\n",
        "Por lo que se puede observa, el curso te presenta las herramientas matemáticas\n",
        "de una manera simple, y te proporciona las funciones para realizar el análisis\n",
        "sin tener conocimiento de los algoritmos, quizá es la auténtica introducción.\n",
        "\n",
        "El Machine Learning o Aprendizaje de la máquina consiste en hacer que una\n",
        "computadora aprenda a partir del estudio de información por medio de la\n",
        "estadísitica. Nos acerca hacia el conocimiento de la IA y nos ayuda a predecir\n",
        "la información de salida.\n",
        "'''\n",
        "\n",
        "# Donde iniciar\n",
        "'''\n",
        "Primero comenzaremos un estudio acerca de la estadísitica.\n",
        "'''\n",
        "\n",
        "# Data set\n",
        "'''\n",
        "Data set es un cojunto de datos, puede ser desde un simple arreglo hasta una\n",
        "base de datos.\n",
        "'''\n",
        "\n",
        "# Date Type\n",
        "'''\n",
        "A la informacion se le puede dividir de tres maneras principales:\n",
        "- Numerical: Esta informacion consiste en numeros y se subdivide en dos\n",
        "ramas principales; Discrete data que consite en numeros enteros unicamente y\n",
        "Continuos Data que consiste en numeros de infinito valor.\n",
        "\n",
        "- Categorical: Son valores que no pueden ser medidos entre si, por ejemplo,\n",
        "los valors de cierto o falso o colores.\n",
        "\n",
        "- Ordinal: Son parecidos a Categorial, excepto que estos si presentan un orden\n",
        "entre sus elementos. Por ejemplo, los grados escolares donde A es mayor que B.\n",
        "\n",
        "'''"
      ],
      "metadata": {
        "id": "c6pq-JAIydf1"
      },
      "execution_count": null,
      "outputs": []
    },
    {
      "cell_type": "code",
      "source": [
        "# Mean, median and Mode\n",
        "'''\n",
        "Dentro de los conjuntos de datos, en su mayoria nos interesan tres valores\n",
        "Promedio o mean, mediana o median y moda o mode.\n",
        "\n",
        "El promedio es trivial, y se puede utilizar rapidamente a traves de la\n",
        "libreria NumPy.\n",
        "\n",
        "import numpy\n",
        "\n",
        "speed = [99,86,87,88,111,86,103,87,94,78,77,85,86]\n",
        "\n",
        "x = numpy.mean(speed)\n",
        "\n",
        "print(x)\n",
        "\n",
        "La mediana es el valor en medio de los valores despues de organizarlos por orden.\n",
        "La funcion de Numpy para este caso corresponde a median(). Si tenemos dos\n",
        "numeros en medio, obtenemos el promedio de esos dos valores.\\\n",
        "\n",
        "La moda es el valor que se repite mas, y el modulo SciPy contiene una funcion\n",
        "para obtenerla, es mode()\n",
        "\n",
        "Summary:\n",
        "The Mean, Median, and Mode are techniques that are often used in Machine\n",
        "Learning, so it is important to understand the concept behind them.\n",
        "\n",
        "'''"
      ],
      "metadata": {
        "id": "m-wE3c-E1AT2"
      },
      "execution_count": null,
      "outputs": []
    },
    {
      "cell_type": "code",
      "source": [
        "# Standard Deviation o Desviacion Estandar\n",
        "'''\n",
        "La desviacion estandar nos dice que tan alejados estan los valores del promedio.\n",
        "Por ejemplo, una desviacion pequena nos dice que los valores estan cercanos\n",
        "entre si, mientras que una gran desviacion nos dice que los valores\n",
        "estan totalmente esparcidos.\n",
        "\n",
        "Para calcularla a partir del modulo NumPy usamos la funcion std()\n",
        "\n",
        "import numpy\n",
        "\n",
        "speed = [86,87,88,86,87,85,86]\n",
        "\n",
        "x = numpy.std(speed)\n",
        "\n",
        "print(x)\n",
        "\n",
        "Este valor nos da un rango, similar a la incertidumbre de una medicion.\n",
        "'''\n",
        "\n",
        "# Varianza\n",
        "'''\n",
        "La varianza es otra cantidad que indica que tan separados estan los valores\n",
        "entre si. De hecho, si tomamos la raiz cuadrada de la varianza obtenemos\n",
        "la desviacion estandar.\n",
        "\n",
        "Para obtener la varianza realizamos lo siguiente:\n",
        "Obtenemos el promedio, restamos cada valor al promedio, esos valores los\n",
        "elevamos al cuadrado y sacamos el promedio de esos cuadrados.\n",
        "\n",
        "O bien, podemos usar la funcion var() de la libreria NumPy.\n",
        "\n",
        "La desviacion estandar se denota con sigma, y la varianza son sigma cuadrada.\n",
        "\n",
        "\n",
        "Summary:\n",
        "The Standard Deviation and Variance are terms that are often used in Machine\n",
        "Learning, so it is important to understand how to get them, and the concept\n",
        "behind them.\n",
        "\n",
        "'''"
      ],
      "metadata": {
        "id": "yeVUscX32Ecc"
      },
      "execution_count": null,
      "outputs": []
    },
    {
      "cell_type": "code",
      "source": [
        "# Percentiles\n",
        "'''\n",
        "Los percentiles es una medida de posicion usada en estadisitca que indica, una\n",
        "vez ordenados los datos de menor a mayor, el valor de la variable por debajo\n",
        "del cual se encuentra un porcentaje dado de observaciones en un grupo.\n",
        "\n",
        "Es decir, supongamos que tenemos una lista de edades de gente que no ha\n",
        "terminado la preparatorio, si queremos saber que edad ocupa el 60 porciento\n",
        "utilizamos el percentil\n",
        "\n",
        "Si tenemos una lista de edades de personas que viven en la calle, podemos\n",
        "saber que rango de edad ocupa el 60 porciento.\n",
        "\n",
        "Para esto usamos la funcion percentile() del modulo NumPy.\n",
        "\n",
        "'''\n",
        "\n",
        "import numpy\n",
        "\n",
        "ages = [5,31,43,48,50,41,7,11,15,39,80,82,32,2,8,6,25,36,27,61,31]\n",
        "\n",
        "x = numpy.percentile(ages, 90)\n",
        "\n",
        "print(x)\n",
        "\n",
        "\n",
        "# Significando que el 90 porciento de nuestros datos corresponde a edades\n",
        "# menores o iguales a 61.\n"
      ],
      "metadata": {
        "colab": {
          "base_uri": "https://localhost:8080/",
          "height": 71
        },
        "id": "nWZapXiB4VSX",
        "outputId": "ca5f3677-009a-4a92-a465-b55d67bdd666"
      },
      "execution_count": null,
      "outputs": [
        {
          "output_type": "stream",
          "name": "stdout",
          "text": [
            "61.0\n"
          ]
        },
        {
          "output_type": "execute_result",
          "data": {
            "text/plain": [
              "\"'\\nSignificando que el 90 porciento de nuestros datos corresponde a edades\\nmenores o iguales a 61.\\n\""
            ],
            "application/vnd.google.colaboratory.intrinsic+json": {
              "type": "string"
            }
          },
          "metadata": {},
          "execution_count": 3
        }
      ]
    },
    {
      "cell_type": "code",
      "source": [
        "# Data Distribution\n",
        "'''\n",
        "Hasta el momento se han abordado pequeñas cantidades de datos, sin embargo,\n",
        "cuando buscamos abordar Big Data conviene tener una forma de poder generar\n",
        "datos para realizar las pruebas. En esta sección veremos como generar\n",
        "datos para muestras pruebas.\n",
        "'''\n",
        "\n",
        "# Generacion de datos Testing\n",
        "'''\n",
        "Para la generacion de datos utilizamos la libreria NumPy y la funcion:\n",
        "\n",
        "random.uniform( intervalo_menor, interval_mayor, cantidad_de_datos )\n",
        "\n",
        "Para visualizar nuestros datos hacemos uso de los histogramas de la libreria\n",
        "matplotlib.\n",
        "\n",
        "plt.hist(x, 5) # Donde 5 corresponde al intervalo mayor antes declarado\n",
        "                # x corresponde a los datos\n",
        "\n",
        "\n",
        "'''\n",
        "\n",
        "import numpy\n",
        "import matplotlib.pyplot as plt\n",
        "\n",
        "x = numpy.random.uniform(0.0, 5.0, 100000)\n",
        "\n",
        "plt.hist(x, 100)\n",
        "plt.show()"
      ],
      "metadata": {
        "colab": {
          "base_uri": "https://localhost:8080/",
          "height": 265
        },
        "id": "zoXx3ErP8LEY",
        "outputId": "e913fe50-7eb5-4680-fae8-a6ee3ce54b4f"
      },
      "execution_count": null,
      "outputs": [
        {
          "output_type": "display_data",
          "data": {
            "text/plain": [
              "<Figure size 432x288 with 1 Axes>"
            ],
            "image/png": "[encoded data removed]"
          },
          "metadata": {
            "needs_background": "light"
          }
        }
      ]
    },
    {
      "cell_type": "code",
      "source": [
        "# Normal Data Distribution\n",
        "'''\n",
        "En el código anterior revisamos como generar valores aleatorios, en esta parte\n",
        "vamos a realizar valores que estén próximos a un valor central. Dentro de la\n",
        "teoría de la probabilidad, a este tipo de distribuciones se les denomina\n",
        "Gaussian Data Distribution o Normal Distribution.\n",
        "\n",
        "Para generarla usamos el modulo NumPy y la funcion random.normal(), donde\n",
        "se le deben colocar 3 parametros:\n",
        "\n",
        "El primer corresponde al valor central o promedio\n",
        "\n",
        "El segundo valor corresponde a la desviación estándar\n",
        "\n",
        "El tercer valor corresponde a la cantidad de datos\n",
        "\n",
        "# Nota: Este tipo de graficos tambien se denominan curvas de Bell\n",
        "\n",
        "'''\n",
        "\n",
        "\n",
        "import matplotlib.pyplot as plt\n",
        "import numpy as np\n",
        "\n",
        "x = np.random.normal(5, 1, 1000000)\n",
        "\n",
        "plt.hist(x, 1000)\n",
        "plt.show()"
      ],
      "metadata": {
        "colab": {
          "base_uri": "https://localhost:8080/",
          "height": 265
        },
        "id": "CSaUn71mAb9k",
        "outputId": "4327d48f-3760-46eb-ff73-b73e2a87de33"
      },
      "execution_count": null,
      "outputs": [
        {
          "output_type": "display_data",
          "data": {
            "text/plain": [
              "<Figure size 432x288 with 1 Axes>"
            ],
            "image/png": "[encoded data removed]"
          },
          "metadata": {
            "needs_background": "light"
          }
        }
      ]
    },
    {
      "cell_type": "code",
      "source": [
        "# Scatter Plot\n",
        "'''\n",
        "De manera similar al módulo de Matplot donde vimos Scatter, estos tipos de\n",
        "gráficos se ocupan para visualizar la concentración de puntos a tráves del\n",
        "plano.\n",
        "\n",
        "Es decir, scatter plot o gráfico de dispersión únicamente se ocupa de graficar\n",
        "los puntos. Se necesita de dos arreglos x,y con la misma cantidad de puntos.\n",
        "\n",
        " Realicemos un ejemplo, en el cual graficamos dispersión de dos valores\n",
        " x,y de 1000 datos. X con un valor central de 5 y std de 1 y y con valor\n",
        " central de 10 y std de 2\n",
        "'''\n",
        "\n",
        "import matplotlib.pyplot as plt\n",
        "import numpy as np\n",
        "\n",
        "x = np.random.normal(5, 1, 1000)\n",
        "y = np.random.normal(10, 2, 1000)\n",
        "\n",
        "plt.scatter(x,y)\n",
        "plt.show()"
      ],
      "metadata": {
        "colab": {
          "base_uri": "https://localhost:8080/",
          "height": 265
        },
        "id": "kT4eU7UlBzrz",
        "outputId": "b03da0b0-c21a-49b8-9d5f-1f6fa95a4004"
      },
      "execution_count": null,
      "outputs": [
        {
          "output_type": "display_data",
          "data": {
            "text/plain": [
              "<Figure size 432x288 with 1 Axes>"
            ],
            "image/png": "[encoded data removed]"
          },
          "metadata": {
            "needs_background": "light"
          }
        }
      ]
    },
    {
      "cell_type": "code",
      "source": [
        "# Linar Regression\n",
        "'''\n",
        "Linear Regression o regresion lineal es aquello que todo fisico realiza en\n",
        "sus laboratorios, es decir, a partir de unos datos con comportamiento\n",
        "lineal se obtiene la pendiente y ordenada de los datos a usar.\n",
        "\n",
        "El termino regresion es usado cuando buscamos obtener la relacion entre los\n",
        "datos. En ML esa regresion es usada para predecir los eventos siguientes.\n",
        "\n",
        "Para usarla, debemos importar el modulo SciPy, espeficicamente el submodulo\n",
        "stas y utilizar la funcion linregress(x,y). Donde x,y son los arreglos de\n",
        "datos.\n",
        "\n",
        "Deben de colocarse las siguientes variables para usarse:\n",
        "\n",
        "slope, intercept, r, p, std_err = stats.linregress(x, y)\n",
        "\n",
        "Donde slope corresponde a la pendiente, intercept a la intercepcion con el\n",
        "eje x.\n",
        "\n",
        "r es un coeficiente que nos indica que tanto nuestros datos se pueden linealizar\n",
        "y se encuentra entre 0 y 1. Donde 1 indica que nuestros valores son totalmente\n",
        "lineales.\n",
        "\n",
        "Para obtener los datos con los valoes x y la pendiente, declaramos una\n",
        "funcion que lo obtenga:\n",
        "\n",
        "def myfunc(x):\n",
        "  return slope * x + intercept\n",
        "\n",
        "Finalmente, guardamos los valores en una lista:\n",
        "\n",
        "mymodel = list(map(myfunc, x))\n",
        "\n",
        "# La funcion map() hara pasar a todos los valores de x a traves de la funcion.\n",
        "\n",
        "Ejemplo:\n",
        "'''\n",
        "\n",
        "import matplotlib.pyplot as plt\n",
        "from scipy import stats\n",
        "\n",
        "x = [5,7,8,7,2,17,2,9,4,11,12,9,6]\n",
        "y = [99,86,87,88,111,86,103,87,94,78,77,85,86]\n",
        "\n",
        "slope, intercept, r, p, std_err = stats.linregress(x, y)\n",
        "\n",
        "def myfunc(x):\n",
        "  return slope * x + intercept\n",
        "\n",
        "mymodel = list(map(myfunc, x))\n",
        "\n",
        "plt.scatter(x, y)\n",
        "plt.plot(x, mymodel)\n",
        "plt.show()\n",
        "\n",
        "# El coeficiente (r) R de Relacion\n",
        "'''\n",
        "Este coeficientes nos da un estimado de que tanto comportamiento lineal poseen\n",
        "nuestros puntos, y se encuentra entre 1 y -1. Donde el valor 0 corresponde a\n",
        "un comportamiento NADA lineal.\n",
        "'''\n"
      ],
      "metadata": {
        "colab": {
          "base_uri": "https://localhost:8080/",
          "height": 319
        },
        "id": "0tU3UkX-C_2r",
        "outputId": "fc989dfc-6b41-4acf-fe49-499f319fc013"
      },
      "execution_count": null,
      "outputs": [
        {
          "output_type": "display_data",
          "data": {
            "text/plain": [
              "<Figure size 432x288 with 1 Axes>"
            ],
            "image/png": "[encoded data removed]"
          },
          "metadata": {
            "needs_background": "light"
          }
        },
        {
          "output_type": "execute_result",
          "data": {
            "text/plain": [
              "'\\nEste coeficientes nos da un estimado de que tanto comportamiento lineal poseen\\nnuestros puntos, y se encuentra entre 1 y -1. Donde el valor 0 corresponde a \\nun comportamiento NADA lineal.\\n'"
            ],
            "application/vnd.google.colaboratory.intrinsic+json": {
              "type": "string"
            }
          },
          "metadata": {},
          "execution_count": 6
        }
      ]
    },
    {
      "cell_type": "code",
      "source": [
        "# Polynomial Regression\n",
        "'''\n",
        "Este tipo de comportamiento es propio de las graficas con momentos ascendentes\n",
        "y descendentes, el comportamiento polimonial es ideal cuando los datos no se\n",
        "adaptan a lineas rectas.\n",
        "\n",
        "Para hacer uso de Python en la obtencion de la curva que modela este\n",
        "comportamiento es necesario usar la libreria NumPy. En especial la funcion:\n",
        "\n",
        "poly1d.( numpy.polyfit( x, y, 3 ) ) # Nos hace el modelo polimonial de grado 3\n",
        "\n",
        "linspace( 1, 22, 100 ) # Funciona de como se muestra la linea, iniciando en la\n",
        "posicion 1 y terminando en la 22, es decir, valor de inicio y fin en x y valor\n",
        "maximo en y.\n",
        "\n",
        "# R - Squared\n",
        "Para medir que tanto nuestros puntos se asemejan a un comportamiento polimonial\n",
        "usamos el coeficiente r-squared. Este coeficiente toma valores de 0 a 1, donde\n",
        "1 indica que esta 100 porciento relacionado.\n",
        "\n",
        "Para obtenerlo, usamos la funcion r2_score(y, mymodel(x) ) del modulo\n",
        "sklearn.metrics, y submodulo r2_score\n",
        "\n",
        "Ejemplo\n",
        "'''\n",
        "\n",
        "import matplotlib.pyplot as plt # Para los graficos\n",
        "import numpy as np  # Para los calculos\n",
        "\n",
        "from sklearn.metrics import r2_score  # Para el acierto\n",
        "\n",
        "x = [1,2,3,5,6,7,8,9,10,12,13,14,15,16,18,19,21,22]\n",
        "y = [100,90,80,60,60,55,60,65,70,70,75,76,78,79,90,99,99,100]\n",
        "\n",
        "plt.scatter(x,y)\n",
        "\n",
        "\n",
        "mymodel = np.poly1d( np.polyfit(x,y,3)  ) # Obtenemos el comportamiento poly a partir del grado 3\n",
        "\n",
        "mylin = np.linspace(1, 22, 100) # Obtenemos los nuevos valores x\n",
        "\n",
        "\n",
        "plt.plot(mylin, mymodel(mylin) )\n",
        "plt.show()\n",
        "\n",
        "print(r2_score(y, mymodel(x)))\n"
      ],
      "metadata": {
        "colab": {
          "base_uri": "https://localhost:8080/",
          "height": 283
        },
        "id": "1E90SaDDP5wC",
        "outputId": "64fd8f4f-ef79-4cfc-c40a-0d86e7f21f49"
      },
      "execution_count": null,
      "outputs": [
        {
          "output_type": "display_data",
          "data": {
            "text/plain": [
              "<Figure size 432x288 with 1 Axes>"
            ],
            "image/png": "[encoded data removed]"
          },
          "metadata": {
            "needs_background": "light"
          }
        },
        {
          "output_type": "stream",
          "name": "stdout",
          "text": [
            "0.9432150416451025\n"
          ]
        }
      ]
    },
    {
      "cell_type": "code",
      "source": [
        "# Multiple Regression\n",
        "'''\n",
        "La regresion multiple es similar a la regresion lineal excepto que ahora\n",
        "no se cuenta con un unico valor independiente, sino con dos o mas.\n",
        "\n",
        "Es decir, se pueden ver como funciones de Rn a R las que estamos\n",
        "tratando de predecir.\n",
        "\n",
        "Por ejemplo, a partir del peso y volumen de un auto podriamos obtener el nivel\n",
        "de CO2 que produce.\n",
        "\n",
        "Para obtener este valor es necesario realizar los siguientes pasos:\n",
        "1.- Importar la libreria pandas\n",
        "\n",
        "2.- Crear un objeto DataFrame\n",
        "df = pandas.read_csv('data.csv')\n",
        "\n",
        "3.- Creamos una lista con los NOMBRES de los valores independientes\n",
        "X = df[[ 'Weight' , 'Volume'  ]]  #   NOTESE los dobles corchetes y la X mayuscula\n",
        "\n",
        "4.- Creamos una lista con el NOMBRE del valor dependiente\n",
        "y = df[ 'CO2' ]\n",
        "\n",
        "Una vez realizados estos pasos, importamos la libreria sklearn y el modulo\n",
        "linear_model. A partir del cual usamos la funcion LinearRegression() para\n",
        "la creacion de un objeto, este objeto contiene un metodo llamado fit() que\n",
        "toma los valores dependientes e independientes para encontrar la relacion\n",
        "entre ellos.\n",
        "\n",
        "regr = linear_model.LinearRegression()\n",
        "regr.fit(X, y)\n",
        "\n",
        "Una vez realizado esto, ya tenemos el modelo para predecir la cantidad de\n",
        "CO2 a partir de los valores de peso y volumen.\n",
        "\n",
        "\n",
        "# Coeficientes\n",
        "Si queremos obtener los coeficientes de la relacion usamos el metodo\n",
        "\n",
        "regr.coef_\n",
        "\n",
        "# Prediccion de valores\n",
        "Si queremos colocar la prediccion de cierto valores utilizamos la siguiente\n",
        "sintaxis:\n",
        "\n",
        "predicted = regr.predict( [[valor1, valor 2]] )\n",
        "\n",
        "'''\n",
        "\n",
        "import pandas\n",
        "from sklearn import linear_model\n",
        "\n",
        "df = pandas.read_csv('/content/data.csv')\n",
        "\n",
        "X = df[['Weight', 'Volume']]\n",
        "\n",
        "y = df['CO2']\n",
        "\n",
        "regr = linear_model.LinearRegression()\n",
        "regr.fit(X, y)  # El metodo fit contiene la regresion, el modelo.\n",
        "\n",
        "predicted = regr.predict([[2300, 1300]])\n",
        "\n",
        "print(predicted)\n",
        "\n",
        "print(regr.coef_)\n"
      ],
      "metadata": {
        "colab": {
          "base_uri": "https://localhost:8080/"
        },
        "id": "ncMJpppvUVa_",
        "outputId": "cc68f455-1aad-4672-eefc-3e3559e92a4f"
      },
      "execution_count": null,
      "outputs": [
        {
          "output_type": "stream",
          "name": "stdout",
          "text": [
            "[107.2087328]\n",
            "[0.00755095 0.00780526]\n"
          ]
        },
        {
          "output_type": "stream",
          "name": "stderr",
          "text": [
            "/usr/local/lib/python3.8/dist-packages/sklearn/base.py:450: UserWarning: X does not have valid feature names, but LinearRegression was fitted with feature names\n",
            "  warnings.warn(\n"
          ]
        }
      ]
    },
    {
      "cell_type": "code",
      "source": [
        "# Scale\n",
        "'''\n",
        "Scale o escalar se refiere a transformar nuestros datos en unos nuevos (scaled)\n",
        "que sean mas faciles de comparar. Es decir, es mas sencillo comparar\n",
        "2000 con 1328 que compara 2 con 1328.\n",
        "\n",
        "Esto usualmente sucede cuando usamos sistemas de unidades distintos.\n",
        "\n",
        "El metodo que utilizaremos de escalado se denomina Estadarizacion y utiliza la\n",
        "siguiente formula\n",
        "\n",
        "z = (x-u) / s\n",
        "\n",
        "Donde z es el nuevo valor, x es el valor original, u es el promedio y s la\n",
        "desviacion estadar.\n",
        "\n",
        "Por ejemplo si tenemos que comparar 790 contra 1, podemos estandarizar los\n",
        "valores y obtener -2.1 contra -1.59. Los cuales son mas sencillos de comprar.\n",
        "\n",
        "Dentro de Python contamos con el mudho sklearn junto con el metodo\n",
        "StandarScaler().\n",
        "\n",
        "Por ejemplo si:\n",
        "\n",
        "X = df[['Weight', 'Volume']]\n",
        "\n",
        "Para escalar los datos se usa:\n",
        "\n",
        "scaledX = StandarScaler().fit_transform(X)\n",
        "'''\n",
        "\n",
        "\n",
        "import pandas\n",
        "from sklearn import linear_model\n",
        "from sklearn.preprocessing import StandardScaler\n",
        "scale = StandardScaler()\n",
        "\n",
        "df = pandas.read_csv(\"/content/data.csv\")\n",
        "\n",
        "X = df[['Weight', 'Volume']]\n",
        "\n",
        "y = df['CO2']\n",
        "\n",
        "scaledX = scale.fit_transform(X)\n",
        "\n",
        "print(scaledX)\n",
        "\n",
        "regr = linear_model.LinearRegression()\n",
        "\n",
        "regr.fit(scaledX, y)\n",
        "\n",
        "scaled = scale.transform([[2300, 1.3]]) # Notese los dobles corchetes\n",
        "\n",
        "\n",
        "predictedCO2 = regr.predict([scaled[0]])\n",
        "\n",
        "print(predictedCO2)\n"
      ],
      "metadata": {
        "colab": {
          "base_uri": "https://localhost:8080/"
        },
        "id": "xuR93YiX7s3D",
        "outputId": "32c6fd8d-7833-4c32-a57f-03308d25f58f"
      },
      "execution_count": null,
      "outputs": [
        {
          "output_type": "stream",
          "name": "stdout",
          "text": [
            "[[-2.10389253 -1.59336644]\n",
            " [-0.55407235 -1.07190106]\n",
            " [-1.52166278 -1.59336644]\n",
            " [-1.78973979 -1.85409913]\n",
            " [-0.63784641 -0.28970299]\n",
            " [-1.52166278 -1.59336644]\n",
            " [-0.76769621 -0.55043568]\n",
            " [ 0.3046118  -0.28970299]\n",
            " [-0.7551301  -0.28970299]\n",
            " [-0.59595938 -0.0289703 ]\n",
            " [-1.30803892 -1.33263375]\n",
            " [-1.26615189 -0.81116837]\n",
            " [-0.7551301  -1.59336644]\n",
            " [-0.16871166 -0.0289703 ]\n",
            " [ 0.14125238 -0.0289703 ]\n",
            " [ 0.15800719 -0.0289703 ]\n",
            " [ 0.3046118  -0.0289703 ]\n",
            " [-0.05142797  1.53542584]\n",
            " [-0.72580918 -0.0289703 ]\n",
            " [ 0.14962979  1.01396046]\n",
            " [ 1.2219378  -0.0289703 ]\n",
            " [ 0.5685001   1.01396046]\n",
            " [ 0.3046118   1.27469315]\n",
            " [ 0.51404696 -0.0289703 ]\n",
            " [ 0.51404696  1.01396046]\n",
            " [ 0.72348212 -0.28970299]\n",
            " [ 0.8281997   1.01396046]\n",
            " [ 1.81254495  1.01396046]\n",
            " [ 0.96642691 -0.0289703 ]\n",
            " [ 1.72877089  1.01396046]\n",
            " [ 1.30990057  1.27469315]\n",
            " [ 1.90050772  1.01396046]\n",
            " [-0.23991961 -0.0289703 ]\n",
            " [ 0.40932938 -0.0289703 ]\n",
            " [ 0.47215993 -0.0289703 ]\n",
            " [ 0.4302729   2.31762392]]\n",
            "[97.07204485]\n"
          ]
        },
        {
          "output_type": "stream",
          "name": "stderr",
          "text": [
            "/usr/local/lib/python3.8/dist-packages/sklearn/base.py:450: UserWarning: X does not have valid feature names, but StandardScaler was fitted with feature names\n",
            "  warnings.warn(\n"
          ]
        }
      ]
    },
    {
      "cell_type": "code",
      "source": [
        "# Train / Test\n",
        "'''\n",
        "El metodo Train/Test es usado para medir si el modelo obtenido es lo\n",
        "suficientemente bueno.\n",
        "\n",
        "Se denomina Train/Test porque se divide la informacion en dos conjuntos de\n",
        "datos, el primero se usara para entrenar el modelo y el segundo para verificar\n",
        "que tan bueno es el modelo. El 80 porciento de la informacion se usa para el\n",
        "entrenamiento y el 20 para el testeo.\n",
        "\n",
        "El entrenar el modelo significa la creacion del modelo. Para separar los\n",
        "conjuntos tomamos datos ALEATORIOS de ambos, de maneraque obtengamos:\n",
        "\n",
        "train_x = [:80]\n",
        "train_y = [:80]\n",
        "\n",
        "test_x = [80:]\n",
        "test_y = [80:]\n",
        "\n",
        "Es recomendable mostrar los datos en graficos de dispersion para asegurarnos\n",
        "que la informacion de train y test no sea muy distinta entre si.\n",
        "\n",
        "Despues realizamos la creacion del modelo, graficamos nuestro modelo junto\n",
        "con los datos de pruebas y obtenemos el coeficiente de relacion entre los\n",
        "datos de prueba y el modelo, asi como con los datos de TEST.\n",
        "\n",
        "Si el coeficiente de relacion con los datos de prueba es mayor al 80% podemos\n",
        "comenzar con la prediccion de valores.\n",
        "'''\n",
        "\n",
        "\n",
        "# Ej\n",
        "\n",
        "import matplotlib.pyplot as plt\n",
        "from sklearn.metrics import r2_score\n",
        "import numpy as np\n",
        "\n",
        "np.random.seed(2) # Colocamos una semilla para siempre obtener los mismos valores\n",
        "\n",
        "x = np.random.normal(3, 1, 100)\n",
        "y = np.random.normal(150, 40, 100)/x\n",
        "\n",
        "\n",
        "train_x = x[ :80] # Colocamos el 80% de los datos para train\n",
        "train_y = y[ :80]\n",
        "\n",
        "test_x = x[ 80 : ]  # Colocamos el 20% de los datos para test\n",
        "test_y = y[ 80:  ]\n",
        "\n",
        "\n",
        "plt.scatter( train_x, train_y ) # Graficamos ambos valores\n",
        "plt.scatter( test_x, test_y )\n",
        "\n",
        "# Realizamos el modelo\n",
        "mymodel = np.poly1d( np.polyfit( train_x, train_y, 4 ) ) # Realizamos un modelo polinomial de grado 6\n",
        "myline = np.linspace( 0, 6, 500 )\n",
        "\n",
        "plt.plot( myline, mymodel(myline) )\n",
        "\n",
        "plt.show()\n",
        "\n",
        "print(r2_score(test_y, mymodel(test_x)) ) # Imprimimos el coeficiente de relacion.\n",
        "\n",
        "print(mymodel(5))\n"
      ],
      "metadata": {
        "id": "urmI-iDLC16U",
        "colab": {
          "base_uri": "https://localhost:8080/",
          "height": 302
        },
        "outputId": "d84f9465-33e1-4cd6-abb9-a63be1ed3631"
      },
      "execution_count": null,
      "outputs": [
        {
          "output_type": "display_data",
          "data": {
            "text/plain": [
              "<Figure size 432x288 with 1 Axes>"
            ],
            "image/png": "[encoded data removed]"
          },
          "metadata": {
            "needs_background": "light"
          }
        },
        {
          "output_type": "stream",
          "name": "stdout",
          "text": [
            "0.8086921460343566\n",
            "22.8796259181172\n"
          ]
        }
      ]
    },
    {
      "cell_type": "code",
      "source": [
        "# Decision Tree\n",
        "'''\n",
        "Un Decision Tree o arbol de decision es un diagrama de flujo y es usado para\n",
        "la toma de decisiones, de manera que a partir de los datos de entrada se\n",
        "disponga de varia opciones siguientes.\n",
        "\n",
        "Para realizar un modelo que sea capaz de tomar decisiones mas complejas\n",
        "debemos de tener una gran coleccion de datos. Por ejemplo, se nos da en el curso\n",
        "una lista de comediantes, su edad, experiencia, nacionalidad, puntuacion, y si\n",
        "hemos asistido o no.\n",
        "\n",
        "A partir de estos datos, queremos predecir si iremos al show de un nuevo\n",
        "comediante. Para realizar el modelo seguimos los siguientes pasos:\n",
        "\n",
        "1.- Importamos la libreria Pandas\n",
        "\n",
        "2.- Leemos el archivo de datos a partir de:\n",
        "\n",
        "df = pandas.read_csv(\"data.csv\")\n",
        "\n",
        "3.- Para realizar un arbol de decision TODOS LOS DATOS DEBEN SER NUMERICOS. Por\n",
        "lo que es necesario convertir a 0, 1, 2 los datos textuales. Pandas tiene\n",
        "el metodo map() que TOMA UN DICCIONARIO y convierte los valores no numericos\n",
        "a numericos.\n",
        "\n",
        "d = { \"UK\" : 0, \"USA\": 1, \"N\":  2  }\n",
        "df['Nationality'] = df['Nationality'].map(d)\n",
        "\n",
        "# A partir de esto, los valores textuales seran sustituidos por numericos\n",
        "\n",
        "d = { \"YES\": 1, \"NO\": 0 }\n",
        "df['Go'] = df['Go'].map(d)\n",
        "\n",
        "4.- Despues separamos los datos entrada (feature) de los datos de salida o\n",
        "(target)\n",
        "\n",
        "features = ['Age' , 'Experience', 'Rank', 'Nationality']\n",
        "\n",
        "X = df[features]\n",
        "y = df['Go']\n",
        "\n",
        "5.- Creamos el arbol de decision importando los modulos sklearn y sklearn.tree\n",
        "\n",
        "from skearn import tree\n",
        "form sklearn.tree import DecisionTreeClassifier\n",
        "\n",
        "dtree = DecisionTreeClassifier()\n",
        "dtree = dtree.fit(X, y)\n",
        "\n",
        "6.- Para mostrar el grafico usamos:\n",
        "tree.plot_tree(dtree, features_names = features)\n",
        "\n",
        "7.- Para predecir valores usamos la sintaxis:\n",
        "\n",
        "x = dtree.predict([[40, 10, 7, 1]])\n",
        "\n",
        "Donde se refiere a un comediante americano de 40 años con 10 años de experiencia,\n",
        "calificacion de 7.\n",
        "\n",
        "print(x)\n",
        "\n",
        "\n",
        "# NOTA: No siempre obtendremos la misma respuesta, esto estara en funcion de las\n",
        "probabilidades al momento de ejecutar nuestro codigo.\n",
        "\n",
        "### Como funciona:\n",
        "# El primer dato que nos arroga es el Rank, y se refiere a la condicion para\n",
        "escoger una rama u otra, en caso de que la condicion se cumpla se toma la\n",
        "rama de la parte izquierda, en caso de que no (False) se toma la rama derecha.\n",
        "\n",
        "# Gini se refiere a al calidad de la division en un rango de 0.0 a 0.5, donde\n",
        "0 corresponde a que todos los elementos obtuvieron el mismo resultado y\n",
        "0.5 a que los datos fueron divididos justo a la mitad. Dado que hay muchas\n",
        "formas de separarla los datos obtamos por el metodo GINI\n",
        "\n",
        "Donde se usa la formula:\n",
        "\n",
        "Gini = 1 - (x/n)^2 + (y/n)^2\n",
        "\n",
        "Donde x es el numero de respuestas positivas, n la cantidad de muestras y y la\n",
        "cantidad de respuestas negativas.\n",
        "\n",
        "# Samples se refiere a la cantidad de muestras restantes\n",
        "\n",
        "# value da una lista donde el primer elemento son los que obtiene una respuesta\n",
        "negativa y el segundo un elemento positivo.\n",
        "\n",
        "\n",
        "Por ejemplo, en el arbol del siguiente enlace:\n",
        "\n",
        "https://www.w3schools.com/python/python_ml_decision_tree.asp\n",
        "\n",
        "Podemos apreciar lo siguiente:\n",
        "El comediante debe tener calificacion mayor a 6.5, en caso de que sea de USA o N\n",
        "la comedia nos agradad.\n",
        "\n",
        "En caso de que sea britanico (UK), si tiene menos de 35.5 la comedia nos gustara.\n",
        "\n",
        "En caso contrario, debe tener menos de 9.5 años de experiencia.\n",
        "\n",
        "\n",
        "\n",
        "'''"
      ],
      "metadata": {
        "id": "IS1-fq_nqFAL"
      },
      "execution_count": null,
      "outputs": []
    },
    {
      "cell_type": "code",
      "source": [
        "# Confusion Matrix\n",
        "'''\n",
        "\n",
        "'''\n"
      ],
      "metadata": {
        "id": "h921Fb9xM-hd"
      },
      "execution_count": null,
      "outputs": []
    },
    {
      "cell_type": "markdown",
      "source": [
        "# Seccion 20 - Arduino y Python"
      ],
      "metadata": {
        "id": "w994y7DXh4L-"
      }
    },
    {
      "cell_type": "code",
      "source": [
        "# Arduino y Python\n",
        "'''\n",
        "Esta seccion tiene como fin establecer los conceptos de la comunicacion entre\n",
        "la placa de desarrollo Arduino y Python.\n",
        "\n",
        "### Mandar datos de Arduino a Python\n",
        "\n",
        "En Arduino: Primero iniciamos Serial a 9600, y dentro del loop colocamos la\n",
        "instruccion a realizarse, agregamos un delay de 1 segundo\n",
        "\n",
        "En Python: Es necesario tener instalada la libreria pyserial.\n",
        "importamos las librerias serial y time.\n",
        "\n",
        "import serial, time\n",
        "\n",
        "Introducimos una variable que almacene el puerto de la forma:\n",
        "\n",
        "arduino = serial.Serial('COM3', 9600) # 9600 es la frecuencia colocada en el IDE\n",
        "\n",
        "Colocamos un tiempo de retardo\n",
        "\n",
        "time.sleep(2) # De 2 segundo\n",
        "\n",
        "Leemos el mensaje que manda el Monitor Serial mediante\n",
        "\n",
        "txt = arduino.readline()\n",
        "\n",
        "Para cerrarlo\n",
        "port.close()\n",
        "\n",
        "Es importante notar que los datos que manda arduino son en formato de bites,\n",
        "para convertirlos a datos String es necesario utilizar el modulo sys.\n",
        "Esto debido a que los datos deben decodificarse de la siguiente forma:\n",
        "\n",
        "import sys\n",
        "\n",
        "encoding = sys.getdefaultencoding()\n",
        "\n",
        "Para despues decodificarlos mediante la lectura de bites (arduino.readline()) y\n",
        "la funcion decode(CLAVE) donde la clave es el encoding anterior. En caso\n",
        "de que no podamos utilizar estas funciones, la codificacion por defecto\n",
        "es utf-8\n",
        "\n",
        "### Comunicacion de Python a Arduino:\n",
        "En Arduino: Iniciamos el Serial a 9600. Dentro del Loop colocamos una instruccion\n",
        "que detecte los cambios en el Serial:\n",
        "\n",
        "if (Serial.available() > 0 ){   # Nos permite detectar info. del Serial\n",
        "\n",
        "  char option = Serial.read()   # Nos permite leer la informacion de 1 a 9\n",
        "\n",
        "  # En esta parte sigue otro condicional con las acciones a ejecutarse\n",
        "\n",
        "}\n",
        "\n",
        "\n",
        "En Python: importamos las librerias serial y time y colocamos la variable del\n",
        "puerto\n",
        "\n",
        "import serial, time\n",
        "\n",
        "port = seria.Serial('COM3', 9600 )\n",
        "time.sleep(2)\n",
        "\n",
        "port.write(b'9') # Enviamos un bite de 9\n",
        "port.close()\n",
        "\n",
        "\n",
        "'''"
      ],
      "metadata": {
        "colab": {
          "base_uri": "https://localhost:8080/",
          "height": 107
        },
        "id": "xJ-4VFTgh9gx",
        "outputId": "a3644aeb-dd09-4058-d997-8a476b907e27"
      },
      "execution_count": null,
      "outputs": [
        {
          "output_type": "execute_result",
          "data": {
            "text/plain": [
              "\"\\nEsta seccion tiene como fin establecer los conceptos de la comunicacion entre\\nla placa de desarrollo Arduino y Python.\\n\\n# Mandar datos de Arduino a Python\\n\\nEn Arduino: Primero iniciamos Serial a 9600, y dentro del loop colocamos la\\ninstruccion a realizarse, agregamos un delay de 1 segundo\\n\\nEn Python: Es necesario tener instaladas las librerias de serial y pyserial.\\nimportamos las librerias serial y time.\\n\\nimport serial, time\\n\\nIntroducimos una variable que almacene el puerto de la forma:\\n\\nport = serial.Serial('COM3', 9600) # 9600 es la frecuencia colocada en el IDE\\n\\nColocamos un tiempo de retardo\\n\\ntime.sleep(2) # De 2 segundo\\n\\nLeemos el mensaje que manda el Monitor Serial mediante\\n\\ntxt = port.readline()\\nprint(txt)\\n\\nPara cerrarlo\\nport.close()\\n\\n# Comunicacion de Python a Arduino:\\nEn \\n\\n\\n\\n\""
            ],
            "application/vnd.google.colaboratory.intrinsic+json": {
              "type": "string"
            }
          },
          "metadata": {},
          "execution_count": 2
        }
      ]
    },
    {
      "cell_type": "code",
      "source": [
        "# ESTE CODIGO NO SE PUEDE EJECUTAR EN COLABORATORY, ES NECESARIO UTILIZARLO EN PC CON PYTHON 3.X\n",
        "\n",
        "#\tName: Medicion de temperatura con el sensor BS - Sumergible\n",
        "# Date: 15 de enero del 2023\n",
        "#\tAuthor: Amaro, A.\n",
        "'''\n",
        "Este codigo tiene como finalidad recrear el codigo usado en Lab de Fenomenos, con el cual era posible obtener una grafica en tiempo real de\n",
        "las mediciones del sensor de temperatura a traves del tiempo. Se introducian los valores maximos y minimos de la grafica junto con el\n",
        "nombre que tendria y el puerto en que estaba conectado.\n",
        "\n",
        "Para hacer uso de este codigo es necesario introducir el puerto de conexion COM (importante no tener IDE Arduino abierto en ese momento, pues\n",
        "se niega al acceso al puerto por su uso). Introducir la frecuencia de arduino (9600), titulo de la grafica y ejes, y el nombre del archivo UNICAMENTE\n",
        "el nombre pues el mismo codigo agregara el .txt\n",
        "\n",
        "Este codigo hace uso de pyserial como serial, time y sys. La primera para establecer la comunicacion con Arduino, la segunda para dar un breve retardo\n",
        "y la tercera para obtener la codificacion. Junto con matplotlib para graficar los datos.\n",
        "\n",
        "No requiere de numpy\n",
        "\n",
        "'''\n",
        "\n",
        "import serial, time, sys # Librerias usadas Pyserial, time, sys\n",
        "\n",
        "import matplotlib.pyplot as plt # Libreria para realizar el grafico\n",
        "import matplotlib.animation as animation # Libreria para realizar la actualizacion en tiempo real de la grafica\n",
        "\n",
        "print('''Medicion de temperatura con Arduino.\n",
        "Por favor, introduce los siguientes datos: ''')\t# Colocamos una bienvenida.\n",
        "\n",
        "# Por defecto, he colocado los datos de mi PC.\n",
        "\n",
        "#puerto = 'COM6'\n",
        "puerto = str( input('Introduce el puerto en formato COM#: ') )\n",
        "\n",
        "frecuencia = 9600\n",
        "#frecuencia = int( input('Introduce la frecuencia del Serial: ') )\n",
        "\n",
        "#titulo = \"Temperatura Vs Tiempo\"\n",
        "titulo = str(input('Titulo de la grafica: ')) # Obtenemos el titulo de la grafica\n",
        "\n",
        "#xtitulo = 'Tiempo en segundos'\n",
        "xtitulo = str( input('Titulo del eje x: ') )\t# Obtenemos el titulo del eje x\n",
        "\n",
        "#ytitulo = 'Temperatura en Celsius'\n",
        "ytitulo = str( input( 'Titulo del eje y: ' ) ) \t#\tObtenemos el titulo del eje y\n",
        "\n",
        "#archivo_nombre = 'datos_final1.txt'\n",
        "archivo_nombre = str( input( 'Nombre del archivo de los datos: ' ) ) + '.txt'\t#\tNombre del archivo que guardara los datos\n",
        "\n",
        "'''\n",
        "Arduino manda los datos de temperatura y tiempo en el siguiente formato:\n",
        "\n",
        " b'20.20 , 1232 \\r\\n'\n",
        "\n",
        "Es decir, manda los datos en bites, para obtener una string es necesario decodificar los datos\n",
        "para lo cual usamos la paqueteria sys junto a la funcion getdefaultencoding() para obtener\n",
        "la codificacion de los datos (encoding)\n",
        "\n",
        "Para decodificar los datos usamos los valores bites y la funcion decode(CLAVE)\n",
        "donde en CLAVE se coloca la codificacion (encoding)\n",
        "\n",
        "'''\n",
        "\n",
        "encoding = sys.getdefaultencoding() # Obtenemos la clave de codificacion del sistema o en su defecto sera utf-8\n",
        "\n",
        "\n",
        "arduino = serial.Serial( puerto, frecuencia) # Obtenemos los datos bites a partir del puerto y la frecuencia (Arduino) junto al modulo pyserial (serial.Seria('PORT', frecuen))\n",
        "time.sleep(2) # Colocamos un retardo de 2 segundos en la obtencion del tiempo\n",
        "\n",
        "# Creamos el archivo que guardara nuestros datos\n",
        "f = open( archivo_nombre, 'x' ) # creamos el archivo con el parametro x y le asignamos el nombre anterior\n",
        "f.close() # Cerramos el archivo\n",
        "\n",
        "\n",
        "def escribir_datos(datos):\t# Definimos una funcion que abra el archivo y escriba la informacion de entrada al final del documento, y despues lo cierre\n",
        "\tf = open(archivo_nombre , 'a')\n",
        "\tf.write(datos)\n",
        "\tf.close()\n",
        "\n",
        "def comunicacion_arduino(): # Definimos una funcion que reciba los datos de arduino, los decodifique, les de formato y los guarde en el documento.\n",
        "\ttxt =  (arduino.readline()).decode(encoding)\n",
        "\ttxt1 = txt[0: len(txt)-1]\n",
        "\n",
        "\tescribir_datos(txt1) # Los archivos que almacena son de la forma: 20.33 , 1232\n",
        "\t\t\t\t\t\t # donde el primer valor es la temperatura en celsius y el segundo el tiempo en milisegundos.\n",
        "\n",
        "\n",
        "# Dibujamos la grafica a partir de los datos almacenados en el documento\n",
        "\n",
        "fig = plt.figure()\t# Agregamos una figura\n",
        "ax1 = fig.add_subplot(111)\t# La agregamos de manera matricial\n",
        "\n",
        "plt.title(titulo)\t# Agregamos el titulo\n",
        "plt.xlabel(xtitulo)\t# Agregamos el titulo del eje x\n",
        "plt.ylabel(ytitulo)\t# Agregamos el titulo del eje y\n",
        "plt.grid()\t# Agregamos la cuadricula\n",
        "\n",
        "\n",
        "'''\n",
        "En esta parte comienza lo mas importante del codigo, se realiza una funcion (animate) que se ejecutara de manera continua. Es decir, toda la lectura,\n",
        "formato de datos y graficacion de datos de realiza dentro de ella.\n",
        "'''\n",
        "def animate(i):\n",
        "\tcomunicacion_arduino() # Establecemos comuninacion con arduino y comienza la escritura de datos.\n",
        "\n",
        "\tgraph_data = open(archivo_nombre, 'r').read()\t# Se leen los datos almacenados\n",
        "\n",
        "\tlines = graph_data.split('\\n')\t# Los datos son separados a partir del caracter \\n, esto para separar cada fila almacenada en el texto y almacenados en una lista\n",
        "\t\t\t\t\t\t\t\t\t# Los datos almacenados son 'temperatura , tiempo'\n",
        "\n",
        "\t#print(lines) #este punto es para verificar que todo funcione bien ggg\n",
        "\n",
        "\txs = []\t# Estas dos listas almacenaran los valores de x y y (s de salida)\n",
        "\tys = []\n",
        "\n",
        "\tfor line in lines: # Para cada linea en la cantidad total de lineas\n",
        "\t\tif len(line) > 1:\t# Esto evita leer datos vacios\n",
        "\t\t\ty, x = line.split(' , ')\t# Esta parte toma cada elemento y los separa en valor y y x.\n",
        "\t\t\txs.append( (float(x)/1000) )\t# Esta parte convierte los milisegundos a segundos. Ademas los convierte a fraccion.\n",
        "\t\t\tys.append( float(y) )\t# Esta parte convierte a fraccion la temperatura\n",
        "\n",
        "\tf.close()\t# Esta parte cierra el documento\n",
        "\n",
        "\tax1.plot(xs, ys, 'o-b')\t# Esta parte realiza la grafica en color azul con linea continua y marcador circular\n",
        "\n",
        "\n",
        "ani = animation.FuncAnimation( fig, animate, interval = 1000 )\t# En esta parte ejecutamos la funcion a una taza de 1 segundos\n",
        "\n",
        "plt.show()\t# En esta parte mostramos la grafica\n",
        "\n",
        "\n"
      ],
      "metadata": {
        "id": "jVDZLY61mifs"
      },
      "execution_count": null,
      "outputs": []
    },
    {
      "cell_type": "markdown",
      "source": [
        "# Seccion 21 - Ejecutar una funcion repetidamente"
      ],
      "metadata": {
        "id": "oGW2lGUDEKjt"
      }
    },
    {
      "cell_type": "code",
      "source": [
        "# Ejecutar una funcion continuamente\n",
        "'''\n",
        "En esta parte colocamos lo principal sobre como ejecutar funciones cada cierto\n",
        "tiempo en segundo plano. Esto en otros lenguajes es conocido como Timer.\n",
        "\n",
        "# Python incluye una libreria threading.Timer que permite ejecutar una funcion\n",
        "una determinada cantidad de segundos despues en una unica ocasion.\n",
        "\n",
        "import threading, time\n",
        "\n",
        "t = threading.Timer(f , t) # f es la funcion, t es el tiempo en que se ejecutara\n",
        "t.start()\n",
        "\n",
        "De esta manera, la funcion es movida a un segundo hilo hasta que el tiempo\n",
        "se agote la funcion se ejecuta. Al utilizar la biblioteca time podemos colocar\n",
        "un retardo en la obtencion de los datos, de manera que nuestro codigo queda\n",
        "de la siguiente manera:\n",
        "\n",
        "\n",
        "def f():\n",
        "  while True:\n",
        "    print('Hola, mundo')\n",
        "    time.sleep(3)\n",
        "\n",
        "t = threading.Thread( target = f )\n",
        "t.start()\n",
        "\n",
        "Para deterlo debemos establecer comunicacion entre ambos hilos, para ello\n",
        "usamos la funcion threading.Event para compartir la informacion entre dos\n",
        "booleanos. Obteniendo el siguiente codigo:\n",
        "\n",
        "import threading\n",
        "import time\n",
        "\n",
        "def timer(timer_runs):\n",
        "\n",
        "    # (4) El código corre mientras el booleano sea verdadero.\n",
        "\n",
        "    while timer_runs.is_set():\n",
        "        print(\"¡Hola, mundo!\")\n",
        "        time.sleep(3)   # 3 segundos.\n",
        "\n",
        "# (1) Creación del booleano que indica si el hilo secundario\n",
        "# debe correr o no.\n",
        "timer_runs = threading.Event()\n",
        "# (2) Iniciarlo con el valor True.\n",
        "timer_runs.set()\n",
        "# (3) Pasarlo como argumento al timer para que pueda leerlo.\n",
        "t = threading.Thread(target=timer, args=(timer_runs,))\n",
        "t.start()\n",
        "\n",
        "Para cambiar el valor a False, solo colocamos\n",
        "\n",
        "time.sleep(30) # De esta manera el codigo se detendra solo despues de 30 segundos.\n",
        "timer_runs.clear()\n",
        "\n",
        "Informacion más detallada puede encontrarse en:\n",
        "\n",
        "https://recursospython.com/guias-y-manuales/ejecutar-un-codigo-cada-determinado-tiempo/\n",
        "\n",
        "'''"
      ],
      "metadata": {
        "id": "Icui4QE-EQrJ"
      },
      "execution_count": null,
      "outputs": []
    },
    {
      "cell_type": "markdown",
      "source": [
        "# Ejercicios - Tipos de datos simples"
      ],
      "metadata": {
        "id": "MhQDtUeQRB3a"
      }
    },
    {
      "cell_type": "code",
      "source": [
        "# Ej 1\n",
        "'''\n",
        "Escribir un programa que muestre por pantalla la cadena ¡Hola Mundo!.\n",
        "'''\n",
        "\n",
        "print('Hola Mundo')"
      ],
      "metadata": {
        "colab": {
          "base_uri": "https://localhost:8080/"
        },
        "id": "nlLd3gArRErV",
        "outputId": "9bbfc301-5ed0-475a-83d9-8ef545e371c7"
      },
      "execution_count": null,
      "outputs": [
        {
          "output_type": "stream",
          "name": "stdout",
          "text": [
            "Hola Mundo\n"
          ]
        }
      ]
    },
    {
      "cell_type": "code",
      "source": [
        "# Ej 2\n",
        "'''\n",
        "Escribir un programa que almacene la cadena ¡Hola Mundo! en una variable y\n",
        "luego muestre por pantalla el contenido de la variable.\n",
        "'''\n",
        "\n",
        "txt = '¡Hola Mundo!'\n",
        "\n",
        "print(txt)\n"
      ],
      "metadata": {
        "colab": {
          "base_uri": "https://localhost:8080/"
        },
        "id": "5yatVGo0RQ2H",
        "outputId": "fae18392-a9f7-4df5-8ee4-247338e9450b"
      },
      "execution_count": null,
      "outputs": [
        {
          "output_type": "stream",
          "name": "stdout",
          "text": [
            "¡Hola Mundo!\n"
          ]
        }
      ]
    },
    {
      "cell_type": "code",
      "source": [
        "# Ej 3\n",
        "'''\n",
        "Escribir un programa que pregunte el nombre del usuario en la consola y\n",
        "después de que el usuario lo introduzca muestre por pantalla la cadena\n",
        "¡Hola <nombre>!, donde <nombre> es el nombre que el usuario haya introducido.\n",
        "'''\n",
        "\n",
        "usr_name = str(input('Por favor, introduce tu nombre: '))\n",
        "\n",
        "mensaje = 'Hola {}!'\n",
        "\n",
        "print(mensaje.format(usr_name))"
      ],
      "metadata": {
        "colab": {
          "base_uri": "https://localhost:8080/"
        },
        "id": "X9ZFHzk6RfdD",
        "outputId": "b542304a-87fa-436b-f2a5-f17cfec31f5e"
      },
      "execution_count": null,
      "outputs": [
        {
          "output_type": "stream",
          "name": "stdout",
          "text": [
            "Por favor, introduce tu nombre: Alan\n",
            "Hola Alan!\n"
          ]
        }
      ]
    },
    {
      "cell_type": "code",
      "source": [
        "# Ej 4\n",
        "'''\n",
        "Escribir un programa que muestre por pantalla el resultado de la siguiente\n",
        "operación aritmética.\n",
        "'''\n",
        "\n",
        "x =  ((3+2)/(2*5))**2\n",
        "\n",
        "print('El resultado de la operacion es: ', x)"
      ],
      "metadata": {
        "colab": {
          "base_uri": "https://localhost:8080/"
        },
        "id": "oIDKfbdmSE6G",
        "outputId": "62b6c1ea-617e-4d20-d5f1-ac8f91d06522"
      },
      "execution_count": null,
      "outputs": [
        {
          "output_type": "stream",
          "name": "stdout",
          "text": [
            "El resultado de la operacion es:  0.25\n"
          ]
        }
      ]
    },
    {
      "cell_type": "code",
      "source": [
        "# Ej 5\n",
        "'''\n",
        "Escribir un programa que pregunte al usuario por el número de horas trabajadas\n",
        "y el coste por hora. Después debe mostrar por pantalla la paga que le\n",
        "corresponde.\n",
        "'''\n",
        "\n",
        "salario_8horas = 207\n",
        "datos = []\n",
        "\n",
        "print('Por favor, introduce los siguientes datos: ')\n",
        "\n",
        "datos.append(float(input('Cantidad de horas trabajadas: ')))\n",
        "datos.append(float(input('Salario por hora de trabajo: ')))\n",
        "\n",
        "paga = datos[0] * datos[1]\n",
        "mensaje = 'Tu paga por trabajar {} horas, a un salario de {} pesos por hora es de: {}'\n",
        "\n",
        "print(mensaje.format(datos[0], datos[1], paga))\n",
        "\n",
        "\n"
      ],
      "metadata": {
        "colab": {
          "base_uri": "https://localhost:8080/"
        },
        "id": "xLJW0XSMSbio",
        "outputId": "e1d68c25-04a7-451e-ca04-1e7b481999ae"
      },
      "execution_count": null,
      "outputs": [
        {
          "output_type": "stream",
          "name": "stdout",
          "text": [
            "Por favor, introduce los siguientes datos: \n",
            "Cantidad de horas trabajadas: 8\n",
            "Salario por hora de trabajo: 25.875\n",
            "Tu paga por trabajar 8.0 horas, a un salario de 25.875 pesos por hora es de: 207.0\n"
          ]
        }
      ]
    },
    {
      "cell_type": "code",
      "source": [
        "# Ej 6\n",
        "'''\n",
        "Escribir un programa que lea un entero positivo, n, introducido por el\n",
        "usuario y después muestre en pantalla la suma de todos los enteros desde 1\n",
        "hasta n.\n",
        "'''\n",
        "\n",
        "print('Bienvenido a suma de los enteros positivos. ')\n",
        "\n",
        "n = int(input('Por favor, ingresa el termino n de la suma: '))\n",
        "\n",
        "suma = (n * (n+1))/2\n",
        "\n",
        "print('El resultado de la suma corresponde a:' , suma)\n",
        "\n"
      ],
      "metadata": {
        "colab": {
          "base_uri": "https://localhost:8080/"
        },
        "id": "YrKNivkXUgMg",
        "outputId": "b940c2f0-c8e8-49ae-97e2-00566d50fbd8"
      },
      "execution_count": null,
      "outputs": [
        {
          "output_type": "stream",
          "name": "stdout",
          "text": [
            "Bienvenido a suma de los enteros positivos. \n",
            "Por favor, ingresa el termino n de la suma: 100\n",
            "El resultado de la suma corresponde a: 5050.0\n"
          ]
        }
      ]
    },
    {
      "cell_type": "code",
      "source": [
        "# Ej 7\n",
        "'''\n",
        "Escribir un programa que pida al usuario su peso (en kg) y estatura (en metros),\n",
        "calcule el índice de masa corporal y lo almacene en una variable, y muestre\n",
        "por pantalla la frase Tu índice de masa corporal es <imc> donde <imc> es el\n",
        "índice de masa corporal calculado redondeado con dos decimales.\n",
        "'''\n",
        "\n",
        "\n",
        "print('''Bienvenido a la calculadora de IMC.\n",
        "Por favor, introduce los siguientes datos: ''')\n",
        "\n",
        "peso = float(input('Su peso en Kg: '))\n",
        "estatura = float(input('Su peso en metros: '))\n",
        "\n",
        "imc = (peso / ((estatura)**2))\n",
        "imc_1 = round(imc, 2)\n",
        "\n",
        "mensaje = 'Tu indice de masa corporal es {}'\n",
        "\n",
        "print(mensaje.format(imc_1))"
      ],
      "metadata": {
        "colab": {
          "base_uri": "https://localhost:8080/"
        },
        "id": "P8IDp6KJVGwW",
        "outputId": "ae5dc84f-0e90-4061-d498-021e1dc4433e"
      },
      "execution_count": null,
      "outputs": [
        {
          "output_type": "stream",
          "name": "stdout",
          "text": [
            "Bienvenido a la calculadora de IMC.\n",
            "Por favor, introduce los siguientes datos: \n",
            "Su peso en Kg: 60\n",
            "Su peso en metros: 1.60\n",
            "Tu indice de masa corporal es 23.44\n"
          ]
        }
      ]
    },
    {
      "cell_type": "code",
      "source": [
        "# Ej 8\n",
        "'''\n",
        "Escribir un programa que pida al usuario dos números enteros y muestre por\n",
        "pantalla la <n> entre <m> da un cociente <c> y un resto <r> donde <n> y <m>\n",
        "son los números introducidos por el usuario, y <c> y <r> son el cociente y el\n",
        "resto de la división entera respectivamente.\n",
        "'''\n",
        "\n",
        "\n",
        "print('''Bienvenido a division.\n",
        "Por favor, introduce los siguientes datos: ''')\n",
        "\n",
        "n = int( input('Introduce el entero n: ') )\n",
        "m = int( input('Introduce el entero m: ') )\n",
        "\n",
        "c = n//m\n",
        "\n",
        "r = n % m\n",
        "\n",
        "mensaje = 'El numero {n} entre {m} da un cociente de {c} y un resto de {r}'\n",
        "\n",
        "print(mensaje.format(n=n, m=m, c=c, r=r))\n",
        "\n",
        "\n",
        "\n",
        "\n"
      ],
      "metadata": {
        "colab": {
          "base_uri": "https://localhost:8080/"
        },
        "id": "rhaqFEWlWiR0",
        "outputId": "fda533df-cd58-4936-da0a-b38564340a13"
      },
      "execution_count": null,
      "outputs": [
        {
          "output_type": "stream",
          "name": "stdout",
          "text": [
            "Bienvenido a division. \n",
            "Por favor, introduce los siguientes datos: \n",
            "Introduce el entero n: 10\n",
            "Introduce el entero m: 3\n",
            "El numero 10 entre 3 da un cociente de 3 y un resto de 1\n"
          ]
        }
      ]
    },
    {
      "cell_type": "code",
      "source": [
        "# Ej 9\n",
        "'''\n",
        "Escribir un programa que pregunte al usuario una cantidad a invertir,\n",
        "el interés anual y el número de años, y muestre por pantalla el capital\n",
        "obtenido en la inversión.\n",
        "'''\n",
        "import math\n",
        "\n",
        "print('''Bienvenido a calculadora de inversion.\n",
        "Por favor, introduce los siguientes datos: ''')\n",
        "\n",
        "cantidad_a_invertir = float( input('Ingresa la cantidad a invertir: ') )\n",
        "\n",
        "interes_anual = (float( input('Ingresa el interes anual: ') ) /100)\n",
        "\n",
        "tiempo = float( input('Ingresa la cantidad de años: ') )\n",
        "\n",
        "capital_obtenido = round(cantidad_a_invertir * ( math.exp( (interes_anual * tiempo) )), 2)\n",
        "\n",
        "mensaje = 'El capital obtenido por una inversion de {} con un interes de {} en un tiempo de {} corresponde a: {}'\n",
        "\n",
        "print(mensaje.format( cantidad_a_invertir, interes_anual,tiempo,capital_obtenido ))\n"
      ],
      "metadata": {
        "colab": {
          "base_uri": "https://localhost:8080/"
        },
        "id": "dDVOxujQYBME",
        "outputId": "62cd3db7-ab0a-473c-df06-ad256553f3cd"
      },
      "execution_count": null,
      "outputs": [
        {
          "output_type": "stream",
          "name": "stdout",
          "text": [
            "Bienvenido a calculadora de inversion.\n",
            "Por favor, introduce los siguientes datos: \n",
            "Ingresa la cantidad a invertir: 1\n",
            "Ingresa el interes anual: 1\n",
            "Ingresa la cantidad de años: 1\n",
            "El capital obtenido por una inversion de 1.0 con un interes de 0.01 en un tiempo de 1.0 corresponde a: 1.01\n"
          ]
        }
      ]
    },
    {
      "cell_type": "code",
      "source": [
        "# Ej 10\n",
        "'''\n",
        "Una juguetería tiene mucho éxito en dos de sus productos: payasos y muñecas.\n",
        "Suele hacer venta por correo y la empresa de logística les cobra por peso de\n",
        "cada paquete así que deben calcular el peso de los payasos y muñecas que\n",
        "saldrán en cada paquete a demanda. Cada payaso pesa 112 g y cada muñeca 75 g.\n",
        "Escribir un programa que lea el número de payasos y muñecas vendidos en el\n",
        "último pedido y calcule el peso total del paquete que será enviado.\n",
        "'''\n",
        "\n",
        "print('''Bienvenido a la calcula de paquetes.\n",
        "Por favor, ingresa los siguientes datos: ''')\n",
        "\n",
        "datos = []\n",
        "\n",
        "datos.append( float(input('Por favor, ingresa la cantidad de payasos vendidos: '))  )\n",
        "\n",
        "datos.append( float(input('Por favor, ingrese la cantidad de muñecas vendidas: ')) )\n",
        "\n",
        "peso_payasos = 112 * datos[0]\n",
        "\n",
        "peso_munecas = 75 * datos[1]\n",
        "\n",
        "peso_total = peso_payasos + peso_munecas\n",
        "peso_kg = peso_total / 1000\n",
        "\n",
        "mensaje = 'El peso total por {} payasos y {} muñecas corresponde a {} g o {} kg'\n",
        "\n",
        "print(mensaje.format(datos[0], datos[1], peso_total, peso_kg) )\n"
      ],
      "metadata": {
        "id": "fv_bVh0Dadv8",
        "colab": {
          "base_uri": "https://localhost:8080/"
        },
        "outputId": "61e59904-2426-4a0c-d581-85236ef4d19c"
      },
      "execution_count": null,
      "outputs": [
        {
          "output_type": "stream",
          "name": "stdout",
          "text": [
            "Bienvenido a la calcula de paquetes.\n",
            "Por favor, ingresa los siguientes datos: \n",
            "Por favor, ingresa la cantidad de payasos vendidos: 100\n",
            "Por favor, ingrese la cantidad de muñecas vendidas: 50\n",
            "El peso total por 100.0 payasos y 50.0 muñecas corresponde a 14950.0 g o 14.95 kg\n"
          ]
        }
      ]
    },
    {
      "cell_type": "code",
      "source": [
        "# Ej 11\n",
        "'''\n",
        "Imagina que acabas de abrir una nueva cuenta de ahorros que te ofrece el 4%\n",
        "de interés al año. Estos ahorros debido a intereses, que no se cobran hasta\n",
        "finales de año, se te añaden al balance final de tu cuenta de ahorros.\n",
        "Escribir un programa que comience leyendo la cantidad de dinero depositada en\n",
        "la cuenta de ahorros, introducida por el usuario. Después el programa debe\n",
        "calcular y mostrar por pantalla la cantidad de ahorros tras el primer, segundo\n",
        " y tercer años. Redondear cada cantidad a dos decimales.\n",
        "'''\n",
        "\n",
        "print('''Bienvenido a la calculadora de interés anual.\n",
        "Por favor, ingresa los siguientes datos: ''')\n",
        "\n",
        "datos = []\n",
        "\n",
        "datos.append( float( input('Por favor, ingresa la cantidad inicial de ahorros: ') ) ) # 0\n",
        "\n",
        "print('El crecimiento corresponde a: ')\n",
        "\n",
        "for i in range(4):\n",
        "  datos.append( ( 104 * (datos[i]/100)  )  )\n",
        "  print(datos[i] )\n",
        "\n",
        "\n",
        "\n",
        "\n"
      ],
      "metadata": {
        "colab": {
          "base_uri": "https://localhost:8080/"
        },
        "id": "Lhay856LFULf",
        "outputId": "a9f0c640-bdf7-45e1-c847-e82c0f844812"
      },
      "execution_count": null,
      "outputs": [
        {
          "output_type": "stream",
          "name": "stdout",
          "text": [
            "Bienvenido a la calculadora de interés anual.\n",
            "Por favor, ingresa los siguientes datos: \n",
            "Por favor, ingresa la cantidad inicial de ahorros: 100\n",
            "El crecimiento corresponde a: \n",
            "100.0\n",
            "104.0\n",
            "108.16\n",
            "112.48639999999999\n"
          ]
        }
      ]
    },
    {
      "cell_type": "code",
      "source": [
        "# Ej 12\n",
        "'''\n",
        "Una panadería vende barras de pan a 3.49€ cada una. El pan que no es el día\n",
        "tiene un descuento del 60%. Escribir un programa que comience leyendo el número\n",
        "de barras vendidas que no son del día. Después el programa debe mostrar el\n",
        "precio habitual de una barra de pan, el descuento que se le hace por no ser\n",
        "fresca y el coste final total.\n",
        "'''\n",
        "\n",
        "precio_barra = 3.49\n",
        "\n",
        "print('''Gracias por su compra.\n",
        "Por favor, ingrese los siguientes datos: ''')\n",
        "\n",
        "datos = []\n",
        "\n",
        "datos.append( float(input('Por favor, ingresa la cantidad de barras vendidas que no son del día: ') ) )\n",
        "\n",
        "precio_inicial = datos[0] * precio_barra\n",
        "\n",
        "mensaje_1 = 'El precio de una barra de pan del día es de {} euros.'\n",
        "print(mensaje_1.format(precio_barra))\n",
        "\n",
        "descuento = (60/100) * datos[0] * precio_barra\n",
        "\n",
        "mensaje_2 = 'Su descuendo corresponde al 60%, es decir a: {} euros'\n",
        "print(mensaje_2.format(descuento))\n",
        "\n",
        "precio_final = round( precio_inicial - descuento , 2)\n",
        "\n",
        "mensaje_3 = 'Por ende, su total a pagar es de {} euros'\n",
        "print(mensaje_3.format(precio_final))\n",
        "\n"
      ],
      "metadata": {
        "id": "KIAAe6UFHwW-",
        "colab": {
          "base_uri": "https://localhost:8080/"
        },
        "outputId": "da93545f-90a5-4346-d6ce-745c33f8eafb"
      },
      "execution_count": null,
      "outputs": [
        {
          "output_type": "stream",
          "name": "stdout",
          "text": [
            "Gracias por su compra.\n",
            "Por favor, ingrese los siguientes datos: \n",
            "Por favor, ingresa la cantidad de barras vendidas que no son del día: 10\n",
            "El precio de una barra de pan del día es de 3.49 euros.\n",
            "Su descuendo corresponde al 60%, es decir a: 20.94 euros\n",
            "Por ende, su total a pagar es de 13.96 euros\n"
          ]
        }
      ]
    },
    {
      "cell_type": "markdown",
      "source": [
        "# Ejercicios - Cadenas"
      ],
      "metadata": {
        "id": "arWVVbp_IMXl"
      }
    },
    {
      "cell_type": "code",
      "source": [
        "# Ej 1\n",
        "'''\n",
        "Escribir un programa que pregunte el nombre del usuario en la consola y un\n",
        "número entero e imprima por pantalla en líneas distintas el nombre del usuario\n",
        "tantas veces como el número introducido.\n",
        "'''\n",
        "\n",
        "print('''Solucion al ejercicio:\n",
        "Se pregunta al usuario su nombre y continaución se imprime el nombre n veces.''')\n",
        "\n",
        "nombre = str( input('Por favor, introduce tu nombre: ') )\n",
        "n = int( input('Por favor, introduce la cantidad n: ') )\n",
        "\n",
        "for i in range(n):\n",
        "  print(nombre)\n",
        "\n"
      ],
      "metadata": {
        "colab": {
          "base_uri": "https://localhost:8080/"
        },
        "id": "4Xc8qHfGIPtE",
        "outputId": "18574890-d68d-4035-83e4-54317de2f521"
      },
      "execution_count": null,
      "outputs": [
        {
          "output_type": "stream",
          "name": "stdout",
          "text": [
            "Solucion al ejercicio:\n",
            "Se pregunta al usuario su nombre y continaución se imprime el nombre n veces.\n",
            "Por favor, introduce tu nombre: Alan\n",
            "Por favor, introduce la cantidad n: 3\n",
            "Alan\n",
            "Alan\n",
            "Alan\n"
          ]
        }
      ]
    },
    {
      "cell_type": "code",
      "source": [
        "# Ej 2\n",
        "'''\n",
        "Escribir un programa que pregunte el nombre completo del usuario en la consola\n",
        "y después muestre por pantalla el nombre completo del usuario tres veces, una\n",
        "con todas las letras minúsculas, otra con todas las letras mayúsculas y otra\n",
        "solo con la primera letra del nombre y de los apellidos en mayúscula. El\n",
        "usuario puede introducir su nombre combinando mayúsculas y minúsculas como\n",
        "quiera.\n",
        "'''\n",
        "\n",
        "print('''Solución al ejercicio:\n",
        "Primero se pide el nombre al usuario y se utilizan los métodos\n",
        "lower, upper y title para las distintas variaciones del nombre. ''')\n",
        "\n",
        "nombre = str( input('Por favor, introduce tu nombre completo: ') )\n",
        "\n",
        "print(nombre.lower())\n",
        "print(nombre.upper())\n",
        "print(nombre.title())\n"
      ],
      "metadata": {
        "colab": {
          "base_uri": "https://localhost:8080/"
        },
        "id": "Ze6ty7OLJat1",
        "outputId": "ad1af02c-d485-4841-8bf7-177011fcbf58"
      },
      "execution_count": null,
      "outputs": [
        {
          "output_type": "stream",
          "name": "stdout",
          "text": [
            "Solución al ejercicio: \n",
            "Primero se pide el nombre al usuario y se utilizan los métodos\n",
            "lower, upper y title para las distintas variaciones del nombre. \n",
            "Por favor, introduce tu nombre: Alan Gabriel Amaro Colin\n",
            "alan gabriel amaro colin\n",
            "ALAN GABRIEL AMARO COLIN\n",
            "Alan Gabriel Amaro Colin\n"
          ]
        }
      ]
    },
    {
      "cell_type": "code",
      "source": [
        "# Ej 3\n",
        "'''\n",
        "Escribir un programa que pregunte el nombre del usuario en la consola y después\n",
        "de que el usuario lo introduzca muestre por pantalla <NOMBRE> tiene <n> letras,\n",
        "donde <NOMBRE> es el nombre de usuario en mayúsculas y <n> es el número de\n",
        "letras que tienen el nombre.\n",
        "'''\n",
        "\n",
        "print('''Solución al ejercicio:\n",
        "Se toma el nombre del usuario y se utiliza el metodo len(). ''')\n",
        "\n",
        "nombre = str( input('Por favor, introduce tu nombre: ') )\n",
        "\n",
        "n_letras = len(nombre)\n",
        "\n",
        "mensaje = 'El nombre: {} contiene {} letras. '\n",
        "\n",
        "print(mensaje.format(nombre, n_letras))\n"
      ],
      "metadata": {
        "colab": {
          "base_uri": "https://localhost:8080/"
        },
        "id": "sUPRKj0uKW86",
        "outputId": "f04591f2-3f33-4f6f-d0e9-ed93dfd89616"
      },
      "execution_count": null,
      "outputs": [
        {
          "output_type": "stream",
          "name": "stdout",
          "text": [
            "Solución al ejercicio:\n",
            "Se toma el nombre del usuario y se utiliza el metodo len(). \n",
            "Por favor, introduce tu nombre: Maria\n",
            "El nombre: Maria contiene 5 letras. \n"
          ]
        }
      ]
    },
    {
      "cell_type": "code",
      "source": [
        "# Ej 4\n",
        "'''\n",
        "Los teléfonos de una empresa tienen el siguiente formato prefijo-número-\n",
        "extension donde el prefijo es el código del país +34, y la extensión tiene dos\n",
        "dígitos (por ejemplo +34-913724710-56). Escribir un programa que pregunte por\n",
        "un número de teléfono con este formato y muestre por pantalla el número de\n",
        "teléfono sin el prefijo y la extensión.\n",
        "'''\n",
        "\n",
        "print('''Solución al ejercicio:\n",
        "Se toma la cadena String y únicamente se recorta. ''')\n",
        "\n",
        "numero = str( input('Por favor, introduce el número: ') )\n",
        "\n",
        "numero_1 = numero[4:13]\n",
        "\n",
        "mensaje = 'El número sin prefijo y extensión corresponde a: {}'\n",
        "\n",
        "print(mensaje.format(numero_1))\n"
      ],
      "metadata": {
        "colab": {
          "base_uri": "https://localhost:8080/"
        },
        "id": "7dMKNwUOK9ux",
        "outputId": "6476ee44-b634-4f2c-f5ed-f9f04acf0f0f"
      },
      "execution_count": null,
      "outputs": [
        {
          "output_type": "stream",
          "name": "stdout",
          "text": [
            "Solución al ejercicio:\n",
            "Se toma la cadena String y únicamente se recorta. \n",
            "Por favor, introduce el número: +34-913724710-56\n",
            "El número sin prefijo y extensión corresponde a: 913724710\n"
          ]
        }
      ]
    },
    {
      "cell_type": "code",
      "source": [
        "# Ej 5\n",
        "'''\n",
        "Escribir un programa que pida al usuario que introduzca una frase en la consola\n",
        "y muestre por pantalla la frase invertida.\n",
        "'''\n",
        "\n",
        "print('''Solución al ejercicio:\n",
        "La solución es dada mediante agregar los caracteres a una lista\n",
        "y aplicar reverse junto con la acumulacion en una variable.''')\n",
        "\n",
        "frase = str(input('Por favor, ingresa la frase: '))\n",
        "caracteres = list(frase)\n",
        "caracteres.reverse()\n",
        "\n",
        "frase_r = ''\n",
        "\n",
        "for i in range(len(frase)):\n",
        "  frase_r += caracteres[i]\n",
        "\n",
        "mensaje = 'La frase invertida es: {}'\n",
        "\n",
        "print(mensaje.format(frase_r))"
      ],
      "metadata": {
        "colab": {
          "base_uri": "https://localhost:8080/"
        },
        "id": "QBpXzOG3iTWP",
        "outputId": "cfaa10b0-590b-47db-a992-5f1cc637b4be"
      },
      "execution_count": null,
      "outputs": [
        {
          "output_type": "stream",
          "name": "stdout",
          "text": [
            "Solución al ejercicio:\n",
            "La solución es dada mediante el método reverse. \n",
            "Por favor, ingresa la frase: .sgnirts no esu nac uoy taht sdohtem ni-tliub fo tes a sah nohtyP\n",
            "La frase invertida es: Python has a set of built-in methods that you can use on strings.\n"
          ]
        }
      ]
    },
    {
      "cell_type": "code",
      "source": [
        "# Ej 6\n",
        "'''\n",
        "Escribir un programa que pida al usuario que introduzca una frase en la consola\n",
        "y una vocal, y después muestre por pantalla la misma frase pero con la vocal\n",
        "introducida en mayúscula.\n",
        "'''\n",
        "\n",
        "print('''Solucion:\n",
        "La solucion propuesta es utilizar un condicional y el\n",
        "metodo replace() ''')\n",
        "\n",
        "frase = str( input('Por favor, introduce la frase: ') )\n",
        "\n",
        "vocal = str( input('Por favor, introduce la vocal: ') )\n",
        "\n",
        "if vocal in frase:\n",
        "  print(frase.replace(vocal, vocal.upper() ))\n",
        "\n",
        "\n",
        "\n"
      ],
      "metadata": {
        "colab": {
          "base_uri": "https://localhost:8080/"
        },
        "id": "BCcw6i7Plykw",
        "outputId": "3fca689c-4e8f-4505-a8d6-8954f3532767"
      },
      "execution_count": null,
      "outputs": [
        {
          "output_type": "stream",
          "name": "stdout",
          "text": [
            "Solucion:\n",
            "La solucion propuesta es utilizar un condicional y el\n",
            "metodo replace() \n",
            "Por favor, introduce la frase: Hola, soy Alan\n",
            "Por favor, introduce la vocal: a\n",
            "HolA, soy AlAn\n"
          ]
        }
      ]
    },
    {
      "cell_type": "code",
      "source": [
        "# Ej 7\n",
        "'''\n",
        "Escribir un programa que pregunte el correo electrónico del usuario en la\n",
        "consola y muestre por pantalla otro correo electrónico con el mismo nombre\n",
        "(la parte delante de la arroba @) pero con dominio ceu.es.\n",
        "'''\n",
        "\n",
        "print('''Solucion:\n",
        "Obtenemos la primera apararición del arroba, recortamos la string y agregamos el nuevo dominio. ''')\n",
        "\n",
        "correo = str( input('Por favor, introduce tu correo electrónica: ') )\n",
        "\n",
        "position_ar = correo.find('@')\n",
        "\n",
        "correo_name = correo[ : position_ar]\n",
        "\n",
        "correo_final = correo_name + '@ceu.es'\n",
        "\n",
        "mensaje = 'El correo modificado corresponde a: {}'\n",
        "\n",
        "print(mensaje.format(correo_final))\n"
      ],
      "metadata": {
        "colab": {
          "base_uri": "https://localhost:8080/"
        },
        "id": "r9-DbAI3nHon",
        "outputId": "87e07fe0-9454-425f-cb25-48855d7b5906"
      },
      "execution_count": null,
      "outputs": [
        {
          "output_type": "stream",
          "name": "stdout",
          "text": [
            "Solucion:\n",
            " \n",
            "Por favor, introduce tu correo electrónica: alan_amaro@ciencias.unam.mx\n",
            "El correo modificado corresponde a: alan_amaro@ceu.es\n"
          ]
        }
      ]
    },
    {
      "cell_type": "code",
      "source": [
        "# Ej 8\n",
        "'''\n",
        "Escribir un programa que pregunte por consola el precio de un producto en euros\n",
        "con dos decimales y muestre por pantalla el número de euros y el número de\n",
        "céntimos del precio introducido.\n",
        "'''\n",
        "\n",
        "print('''Solucion: ''')\n",
        "\n",
        "precio = str( input('Por favor, agrega el precio del producto: ') )\n",
        "\n",
        "punto = precio.find('.')\n",
        "\n",
        "inicial = precio[0 : punto]\n",
        "decimal = precio[punto : ]\n",
        "\n",
        "txt = 'El precio fue de {}, donde le precio sin decimal es {} y los decimales son {}'\n",
        "\n",
        "print( txt.format(precio, inicial, decimal) )\n"
      ],
      "metadata": {
        "colab": {
          "base_uri": "https://localhost:8080/"
        },
        "id": "OnClbD_T0dKJ",
        "outputId": "7b3b6fe5-492d-4038-9e08-75dabb6d2dea"
      },
      "execution_count": null,
      "outputs": [
        {
          "output_type": "stream",
          "name": "stdout",
          "text": [
            "Solucion:\n",
            " \n",
            "Por favor, agrega el precio del producto: 1548.12\n",
            "El precio fue de 1548.12, donde le precio sin decimal es 1548 y los decimales son .12\n"
          ]
        }
      ]
    },
    {
      "cell_type": "code",
      "source": [
        "# Ej 9\n",
        "'''\n",
        "Escribir un programa que pregunte al usuario la fecha de su nacimiento en\n",
        "formato dd/mm/aaaa y muestra por pantalla, el día, el mes y el año. Adaptar\n",
        "el programa anterior para que también funcione cuando el día o el mes se\n",
        "introduzcan con un solo carácter.\n",
        "'''\n",
        "\n",
        "# Solucion:\n",
        "\n",
        "fecha_nacimiento = str( input('''Por favor, introduce tu fecha de nacimiento en formato\n",
        "dd/mm/aaaa: ''') )\n",
        "\n",
        "diagonal_place = fecha_nacimiento.find('/')\n",
        "diagonal_place_r = fecha_nacimiento.rfind('/')\n",
        "\n",
        "dia = fecha_nacimiento[0 : diagonal_place]\n",
        "mes = fecha_nacimiento[ (diagonal_place +1 ): diagonal_place_r ]\n",
        "year = fecha_nacimiento[ (diagonal_place_r + 1) :  ]\n",
        "\n",
        "txt = 'Tu fecha de nacimiento es el día {}, en el mes {}, del año {}'\n",
        "\n",
        "print(txt.format( dia, mes, year ) )\n"
      ],
      "metadata": {
        "colab": {
          "base_uri": "https://localhost:8080/"
        },
        "id": "fp4aag6a1ewD",
        "outputId": "c4e64f0e-6e4e-45f7-e48f-bbf8af8ec398"
      },
      "execution_count": null,
      "outputs": [
        {
          "output_type": "stream",
          "name": "stdout",
          "text": [
            "Por favor, introduce tu fecha de nacimiento en formato \n",
            "dd/mm/aaaa: 13/6/2002\n",
            "Tu fecha de nacimiento es el día 13, en el mes 6, del año 2002\n"
          ]
        }
      ]
    },
    {
      "cell_type": "code",
      "source": [
        "# Ej 10\n",
        "'''\n",
        "Escribir un programa que pregunte por consola por los productos de una cesta de\n",
        "la compra, separados por comas, y muestre por pantalla cada uno de los\n",
        "productos en una línea distinta.\n",
        "'''\n",
        "\n",
        "# Solucion\n",
        "\n",
        "productos = str( input('''Por favor, ingresa tus productos separados por comas:\n",
        "''') )\n",
        "\n",
        "\n",
        "lista_productos = productos.split(', ')\n",
        "\n",
        "print('Tus productos corresponden a: ')\n",
        "for i in range(len(lista_productos)):\n",
        "  print( lista_productos[i] )\n",
        "\n"
      ],
      "metadata": {
        "colab": {
          "base_uri": "https://localhost:8080/"
        },
        "id": "ElkPoxSk308u",
        "outputId": "dda24202-c769-41a9-ae5b-b488ec9d5bf1"
      },
      "execution_count": null,
      "outputs": [
        {
          "output_type": "stream",
          "name": "stdout",
          "text": [
            "Por favor, ingresa tus productos separados por comas: \n",
            "jabón, shampoo, sartén\n",
            "Tus productos corresponden a: \n",
            "jabón\n",
            "shampoo\n",
            "sartén\n"
          ]
        }
      ]
    },
    {
      "cell_type": "code",
      "source": [
        "# Ej 11\n",
        "'''\n",
        "Escribir un programa que pregunte el nombre el un producto, su precio y un\n",
        "número de unidades y muestre por pantalla una cadena con el nombre del\n",
        "producto seguido de su precio unitario con 6 dígitos enteros y 2 decimales, el\n",
        "número de unidades con tres dígitos y el coste total con 8 dígitos enteros y 2\n",
        "decimales.\n",
        "'''\n",
        "\n",
        "# Solucion\n",
        "\n",
        "datos = str(input('''Por favor, introduce los siguientes datos separados por comas:\n",
        "Nombre del producto, precio, numero de unidades:\n",
        "'''))\n",
        "\n",
        "datos_lista = datos.split(', ') # Creamos una lista que guarde los valores\n",
        "\n",
        "base_precio = '000000.00' # Creamos una serie de valores piloto\n",
        "base_unidades = '000'\n",
        "total_base = '00000000.00'\n",
        "\n",
        "# Procedimiento para el precio\n",
        "datos_salida = [] # Lista para guardar los valores de salida\n",
        "\n",
        "datos_salida.append(datos_lista[0])  # Agregamos el nombre del producto sin modificacion #0\n",
        "\n",
        "datos_salida.append( round( float(datos_lista[1]), 2 )) # Convertimos el precio a float y lo redondeamos a 2 decimas. #1\n",
        "\n",
        "datos_salida[1] = str( datos_salida[1] ) # Lo convertimos a String\n",
        "\n",
        "locacion_punto = datos_salida[1].find('.') # Obtenemos la ubicacion del punto\n",
        "\n",
        "len_precio = len(datos_salida[1]) # Obtenemos la longitud del precio.\n",
        "\n",
        "decimal_salida = base_precio.replace('000000.00', datos_salida[1][locacion_punto: ] ) # Reemplazamos en el precio base los decimales del producto\n",
        "\n",
        "ceros = ''  # Creamos una variable que lleve la cuenta de los ceros\n",
        "for i in range( 6 - ( len_precio - 3) ):   # Imprimos los ceros que seran usados\n",
        "  ceros += '0'\n",
        "\n",
        "precio_salida = ceros + str(datos_salida[1][: locacion_punto]) # Juntaos los ceros usados junto con el coste del producto\n",
        "\n",
        "datos_salida[1] = precio_salida + decimal_salida # Juntamos el precio junto a los decimales y lo almacenamos\n",
        "\n",
        "# Procedimiento para las unidades de productos\n",
        "\n",
        "ceros = ''\n",
        "for i in range( 3 - len(datos_lista[2]  ) ):  # Mismo procedimiento para la obtencion de los ceros\n",
        "  ceros += '0'\n",
        "\n",
        "unidades_salida = ceros + str( datos_lista[2] ) # Unimos los ceros junto al precio\n",
        "\n",
        "datos_salida.append(unidades_salida)  # Lo agregamos a los datos de salida\n",
        "\n",
        "# Procedimiento para el total:\n",
        "\n",
        "total_precio = round( ( float(datos_lista[1]) * float(datos_salida[2])  ) , 2) # Obtenemos el precio total\n",
        "\n",
        "total_precio_str = str(total_precio) # Convertimos el precio a texto\n",
        "\n",
        "len_total = len(total_precio_str) # Obtenemos su longitud\n",
        "\n",
        "punto_total = total_precio_str.find('.')  # Obtenemos la ubicacion del punto\n",
        "\n",
        "ceros = ''\n",
        "\n",
        "for i in range( 8 - (len_total-3)   ):  # Agregamos los ceros\n",
        "  ceros += '0'\n",
        "\n",
        "decimal_total = total_base.replace('00000000.00', total_precio_str[punto_total : ]) # Obtenemos las decimas\n",
        "\n",
        "total_salida = ceros + total_precio_str[ : punto_total ] + decimal_total  # Obtenemos el string de salida\n",
        "\n",
        "datos_salida.append( total_salida )\n",
        "\n",
        "txt = '''Gracias por su compra.\n",
        "Producto: {}\n",
        "Precio: {}\n",
        "Cantidad de unidades: {}\n",
        "----------\n",
        "Total de compra: {} '''\n",
        "\n",
        "print(txt.format(datos_salida[0], datos_salida[1], datos_salida[2], datos_salida[3] ) )\n",
        "\n",
        "\n",
        "\n",
        "\n"
      ],
      "metadata": {
        "colab": {
          "base_uri": "https://localhost:8080/"
        },
        "id": "fgBA5nNy4ydr",
        "outputId": "40800ef5-52eb-4d0a-f56f-c0012311a9bc"
      },
      "execution_count": null,
      "outputs": [
        {
          "output_type": "stream",
          "name": "stdout",
          "text": [
            "Por favor, introduce los siguientes datos separados por comas:\n",
            "Nombre del producto, precio, numero de unidades:\n",
            "SmartTV, 52152.39, 3\n",
            "Gracias por su compra.\n",
            "Producto: SmartTV\n",
            "Precio: 052152.39\n",
            "Coste por unidad: 003\n",
            "----------\n",
            "Total de compra: 00156457.17 \n"
          ]
        }
      ]
    },
    {
      "cell_type": "markdown",
      "source": [
        "# Ejercicios - Libreria Matplotlib"
      ],
      "metadata": {
        "id": "FyayeIVOqJKV"
      }
    },
    {
      "cell_type": "code",
      "source": [
        "# Ej 1\n",
        "'''\n",
        "Escribir un programa que pregunte al usuario por las ventas de un rango de años\n",
        "y muestre por pantalla un diagrama de líneas con la evolución de las ventas.\n",
        "'''\n",
        "\n",
        "import matplotlib.pyplot as plt\n",
        "import numpy as np\n",
        "\n",
        "print('''Bienvenido a gráficadora de venta través del tiempo.\n",
        "Por favor, ingresa los siguientes datos: ''')\n",
        "\n",
        "cantidad_datos = int( input('Por favor, ingresa la cantidad de años a graficar: ') )\n",
        "datos = []\n",
        "\n",
        "for i in range( cantidad_datos ):\n",
        "  mensaje = 'Cantidad de ventas en el {}er año: '\n",
        "  print(mensaje.format(i+1))\n",
        "  datos.append( float(input('Ventas: '))  )\n",
        "\n",
        "x = range(1, cantidad_datos + 1)\n",
        "y = np.array( datos )\n",
        "\n",
        "plt.plot(x, y, '*-b')\n",
        "\n",
        "plt.title('Ventas en función de los años')\n",
        "plt.xlabel('Años transcurridos')\n",
        "plt.ylabel('Cantidad de ventas')\n",
        "plt.grid()\n",
        "\n",
        "plt.show()"
      ],
      "metadata": {
        "colab": {
          "base_uri": "https://localhost:8080/",
          "height": 527
        },
        "id": "ba5rLnglqNxZ",
        "outputId": "9cec38c2-14ab-40fb-f641-d29f5c08f9ae"
      },
      "execution_count": null,
      "outputs": [
        {
          "name": "stdout",
          "output_type": "stream",
          "text": [
            "Bienvenido a gráficadora de venta través del tiempo. \n",
            "Por favor, ingresa los siguientes datos: \n",
            "Por favor, ingresa la cantidad de años a graficar: 5\n",
            "Cantidad de ventas en el 1er año: \n",
            "Ventas: 100\n",
            "Cantidad de ventas en el 2er año: \n",
            "Ventas: 150\n",
            "Cantidad de ventas en el 3er año: \n",
            "Ventas: 120\n",
            "Cantidad de ventas en el 4er año: \n",
            "Ventas: 300\n",
            "Cantidad de ventas en el 5er año: \n",
            "Ventas: 420\n"
          ]
        },
        {
          "output_type": "display_data",
          "data": {
            "text/plain": [
              "<Figure size 432x288 with 1 Axes>"
            ],
            "image/png": "[encoded data removed]"
          },
          "metadata": {
            "needs_background": "light"
          }
        }
      ]
    },
    {
      "cell_type": "code",
      "source": [
        "# Ej 2\n",
        "'''\n",
        "Escribir una función que reciba una diccionario con las notas de las\n",
        "asignaturas de un curso y una cadena con el nombre de un color y devuelva un\n",
        "diagrama de barras de las notas en el color dado.\n",
        "'''\n",
        "\n",
        "import matplotlib.pyplot as plt\n",
        "import numpy as np\n",
        "\n",
        "diccionario = { 'Alan':8, 'Juan': 5, 'Xico': 10, 'Alexis': 9, 'Daniel': 2, 'Ramon': 10, 'Gabriel': 7  }\n",
        "datos = []\n",
        "# Diseñamos la funcion\n",
        "\n",
        "def notas(diccionario_ent):\n",
        "  datos = diccionario_ent.values()\n",
        "\n",
        "  color_hist = str( input('''Por favor, introduce un color de la siguiente lista:\n",
        "  Rojo: r\n",
        "  Azul: b\n",
        "  Verde: g\n",
        "  Cian: c\n",
        "  Magenta: m\n",
        "  Respuesta: ''') )\n",
        "\n",
        "  plt.hist(datos, color = color_hist)\n",
        "  plt.show()\n",
        "\n",
        "notas(diccionario)\n"
      ],
      "metadata": {
        "colab": {
          "base_uri": "https://localhost:8080/",
          "height": 390
        },
        "id": "mk2f8wsouykE",
        "outputId": "9a9529c7-0a66-41e3-c9d4-976d3485b2aa"
      },
      "execution_count": null,
      "outputs": [
        {
          "name": "stdout",
          "output_type": "stream",
          "text": [
            "Por favor, introduce un color de la siguiente lista:\n",
            "  Rojo: r\n",
            "  Azul: b\n",
            "  Verde: g\n",
            "  Cian: c\n",
            "  Magenta: m\n",
            "  Respuesta: m\n"
          ]
        },
        {
          "output_type": "display_data",
          "data": {
            "text/plain": [
              "<Figure size 432x288 with 1 Axes>"
            ],
            "image/png": "[encoded data removed]"
          },
          "metadata": {
            "needs_background": "light"
          }
        }
      ]
    },
    {
      "cell_type": "code",
      "source": [
        "# Ej 3\n",
        "'''\n",
        "\n",
        "'''"
      ],
      "metadata": {
        "id": "FC_-FYPRy56r"
      },
      "execution_count": null,
      "outputs": []
    },
    {
      "cell_type": "markdown",
      "source": [
        "# Varios"
      ],
      "metadata": {
        "id": "6M2_D03R8L66"
      }
    },
    {
      "cell_type": "code",
      "source": [
        "'''\n",
        "\n",
        "Do / C \t0 \t16,35\n",
        "Do# / C# \t0 \t17,32\n",
        "Re / D \t0 \t18,35\n",
        "\n",
        "'''\n",
        "\n",
        "\n",
        "entrada_datos = str( input('''Por favor, ingresa el dato a modificar:\n",
        " ''' ) )\n",
        "\n",
        "datos_mod = entrada_datos.upper() # Lo hacemos todo mayuscula\n",
        "datos_mod = datos_mod.replace(',' , '.')\n",
        "datos_mod = datos_mod.replace('#', 'S'  )\n",
        "\n",
        "lista_datos = list(datos_mod)\n",
        "lista_datos1 = [x for x in lista_datos if x != ' ' ]\n",
        "lista_datos2 = [x for x in lista_datos1 if x != '/']\n",
        "lista_datos3 = [x for x in lista_datos2 if x != '\\t']\n",
        "\n",
        "lista_datos4 = [x for x in lista_datos3 if (x != 'C')]\n",
        "lista_datos5 = [x for x in lista_datos4 if (x != 'E')]\n",
        "lista_datos6 = [x for x in lista_datos5 if (x != 'G')]\n",
        "lista_datos7 = [x for x in lista_datos6 if (x != 'A')]\n",
        "lista_datos8 = [x for x in lista_datos7 if (x != 'B')]\n",
        "\n",
        "frase = ''\n",
        "\n",
        "for i in range(len(lista_datos8)):\n",
        "  frase += lista_datos8[i]\n",
        "\n",
        "lista_datos9 = list(frase)\n",
        "\n",
        "for i in range(len(lista_datos9)):\n",
        "  if lista_datos9[i] == '.':\n",
        "    lista_datos9.insert( i+3, ',\\n')\n",
        "\n",
        "frase = ''\n",
        "for i in range(len(lista_datos9)):\n",
        "  frase += lista_datos9[i]\n",
        "\n",
        "notas = frase.split(',\\n')\n",
        "\n",
        "\n",
        "print(frase)"
      ],
      "metadata": {
        "colab": {
          "base_uri": "https://localhost:8080/"
        },
        "id": "-ys20ZusU8rF",
        "outputId": "57580b43-bd29-4fa5-b827-a7eb7ddc35d7"
      },
      "execution_count": null,
      "outputs": [
        {
          "output_type": "stream",
          "name": "stdout",
          "text": [
            "Por favor, ingresa el dato a modificar:\n",
            " Do / C \t0 \t16,35 Do# / C# \t0 \t17,32 Re / D \t0 \t18,35 Re# / D# \t0 \t19,45 Mi / E \t0 \t20,60 Fa / F \t0 \t21,83 Fa# / F# \t0 \t23,12 Sol / G \t0 \t24,50 Sol# / G# \t0 \t25,96 La / A \t0 \t27,50 La# / A# \t0 \t29,14 Si / B \t0 \t30,87 \t\t Do / C \t1 \t32,70 Do# / C# \t1 \t34,65 Re / D \t1 \t36,71 Re# / D# \t1 \t38,89 Mi / E \t1 \t41,20 Fa / F \t1 \t43,65 Fa# / F# \t1 \t46,25 Sol / G \t1 \t49,00 Sol# / G# \t1 \t51,91 La / A \t1 \t55,00 La# / A# \t1 \t58,27 Si / B \t1 \t61,74 \t\t Do / C \t2 \t65,41 Do# / C# \t2 \t69,30 Re / D \t2 \t73,42 Re# / D# \t2 \t77,78 Mi / E \t2 \t82,41 Fa / F \t2 \t87,31 Fa# / F# \t2 \t92,50 Sol / G \t2 \t98,00 Sol# / G# \t2 \t103,83 La / A \t2 \t110,00 La# / A# \t2 \t116,54 Si / B \t2 \t123,47 \t\t Do / C \t3 \t130,81 Do# / C# \t3 \t138,59 Re / D \t3 \t146,83 Re# / D# \t3 \t155,56 Mi / E \t3 \t164,81 Fa / F \t3 \t174,61 Fa# / F# \t3 \t185,00 Sol / G \t3 \t196,00 Sol# / G# \t3 \t207,65 La / A \t3 \t220,00 La# / A# \t3 \t233,08 Si / B \t3 \t246,94 \t\t Do / C \t4 \t261,63 Do# / C# \t4 \t277,18 Re / D \t4 \t293,67 Re# / D# \t4 \t311,13 Mi / E \t4 \t329,63 Fa / F \t4 \t349,23 Fa# / F# \t4 \t369,99 Sol / G \t4 \t392,00 Sol# / G# \t4 \t415,31 La / A \t4 \t440,00 La# / A# \t4 \t466,16 Si / B \t4 \t493,88 \t\t Do / C \t5 \t523,25 Do# / C# \t5 \t554,37 Re / D \t5 \t587,33 Re# / D# \t5 \t622,25 Mi / E \t5 \t659,26 Fa / F \t5 \t698,46 Fa# / F# \t5 \t739,99 Sol / G \t5 \t783,99 Sol# / G# \t5 \t830,61 La / A \t5 \t880,00 La# / A# \t5 \t932,33 Si / B \t5 \t987,77 \t\t Do / C \t6 \t1046,50 Do# / C# \t6 \t1108,73 Re / D \t6 \t1174,66 Re# / D# \t6 \t1244,51 Mi / E \t6 \t1318,51 Fa / F \t6 \t1396,91 Fa# / F# \t6 \t1479,98 Sol / G \t6 \t1567,98 Sol# / G# \t6 \t1661,22 La / A \t6 \t1760,00 La# / A# \t6 \t1864,66 Si / B \t6 \t1975,53 \t\t Do / C \t7 \t2093,01 Do# / C# \t7 \t2217,46 Re / D \t7 \t2349,32 Re# / D# \t7 \t2489,02 Mi / E \t7 \t2637,02 Fa / F \t7 \t2793,83 Fa# / F# \t7 \t2959,96 Sol / G \t7 \t3135,96 Sol# / G# \t7 \t3322,44 La / A \t7 \t3520,00 La# / A# \t7 \t3729,31 Si / B \t7 \t3951,07 \t\t Do / C \t8 \t4186,01 Do# / C# \t8 \t4434,92 Re / D \t8 \t4698,64 Re# / D# \t8 \t4978,03 Mi / E \t8 \t5274,04 Fa / F \t8 \t5587,65 Fa# / F# \t8 \t5919,91 Sol / G \t8 \t6271,93 Sol# / G# \t8 \t6644,88 La / A \t8 \t7040,00 La# / A# \t8 \t7458,62 Si / B \t8 \t7902,13 \t\t Do / C \t9 \t8372,02 Do# / C# \t9 \t8869,84 Re / D \t9 \t9397,27 Re# / D# \t9 \t9956,06 Mi / E \t9 \t10548,08 Fa / F \t9 \t11175,30 Fa# / F# \t9 \t11839,82 Sol / G \t9 \t12543,86 Sol# / G# \t9 \t13289,75 La / A \t9 \t14080,00 La# / A# \t9 \t14917,24 Si / B \t9 \t15804,26\n",
            "DO016.35,\n",
            "DOSS017.32,\n",
            "RD018.35,\n",
            "RSDS019.45,\n",
            "MI020.60,\n",
            "FF021.83,\n",
            "FSFS023.12,\n",
            "SOL024.50,\n",
            "SOLSS025.96,\n",
            "L027.50,\n",
            "LSS029.14,\n",
            "SI030.87,\n",
            "DO132.70,\n",
            "DOSS134.65,\n",
            "RD136.71,\n",
            "RSDS138.89,\n",
            "MI141.20,\n",
            "FF143.65,\n",
            "FSFS146.25,\n",
            "SOL149.00,\n",
            "SOLSS151.91,\n",
            "L155.00,\n",
            "LSS158.27,\n",
            "SI161.74,\n",
            "DO265.41,\n",
            "DOSS269.30,\n",
            "RD273.42,\n",
            "RSDS277.78,\n",
            "MI282.41,\n",
            "FF287.31,\n",
            "FSFS292.50,\n",
            "SOL298.00,\n",
            "SOLSS2103.83,\n",
            "L2110.00,\n",
            "LSS2116.54,\n",
            "SI2123.47,\n",
            "DO3130.81,\n",
            "DOSS3138.59,\n",
            "RD3146.83,\n",
            "RSDS3155.56,\n",
            "MI3164.81,\n",
            "FF3174.61,\n",
            "FSFS3185.00,\n",
            "SOL3196.00,\n",
            "SOLSS3207.65,\n",
            "L3220.00,\n",
            "LSS3233.08,\n",
            "SI3246.94,\n",
            "DO4261.63,\n",
            "DOSS4277.18,\n",
            "RD4293.67,\n",
            "RSDS4311.13,\n",
            "MI4329.63,\n",
            "FF4349.23,\n",
            "FSFS4369.99,\n",
            "SOL4392.00,\n",
            "SOLSS4415.31,\n",
            "L4440.00,\n",
            "LSS4466.16,\n",
            "SI4493.88,\n",
            "DO5523.25,\n",
            "DOSS5554.37,\n",
            "RD5587.33,\n",
            "RSDS5622.25,\n",
            "MI5659.26,\n",
            "FF5698.46,\n",
            "FSFS5739.99,\n",
            "SOL5783.99,\n",
            "SOLSS5830.61,\n",
            "L5880.00,\n",
            "LSS5932.33,\n",
            "SI5987.77,\n",
            "DO61046.50,\n",
            "DOSS61108.73,\n",
            "RD61174.66,\n",
            "RSDS61244.51,\n",
            "MI61318.51,\n",
            "FF61396.91,\n",
            "FSFS61479.98,\n",
            "SOL61567.98,\n",
            "SOLSS61661.22,\n",
            "L61760.00,\n",
            "LSS61864.66,\n",
            "SI61975.53,\n",
            "DO72093.01,\n",
            "DOSS72217.46,\n",
            "RD72349.32,\n",
            "RSDS72489.02,\n",
            "MI72637.02,\n",
            "FF72793.83,\n",
            "FSFS72959.96,\n",
            "SOL73135.96,\n",
            "SOLSS73322.44,\n",
            "L73520.00,\n",
            "LSS73729.31,\n",
            "SI73951.07,\n",
            "DO84186.01,\n",
            "DOSS84434.92,\n",
            "RD84698.64,\n",
            "RSDS84978.03,\n",
            "MI85274.04,\n",
            "FF85587.65,\n",
            "FSFS85919.91,\n",
            "SOL86271.93,\n",
            "SOLSS86644.88,\n",
            "L87040.00,\n",
            "LSS87458.62,\n",
            "SI87902.13,\n",
            "DO98372.02,\n",
            "DOSS98869.84,\n",
            "RD99397.27RSDS99956.06MI910548.08FF911175.30FSFS911839.82SOL912543.86SOLSS913289.75L914080.00LSS914917.24SI915804.26\n"
          ]
        }
      ]
    },
    {
      "cell_type": "code",
      "source": [
        "from math import pi\n",
        "x = pi\n",
        "x1 = 3.1415\n",
        "print(abs(x-x1))\n",
        "print(abs(x-x1 )/x * 100 )"
      ],
      "metadata": {
        "colab": {
          "base_uri": "https://localhost:8080/"
        },
        "id": "bsUpvlWjQFo1",
        "outputId": "e5daa480-33eb-44aa-fc27-80ee2f16e291"
      },
      "execution_count": null,
      "outputs": [
        {
          "output_type": "stream",
          "name": "stdout",
          "text": [
            "9.265358979293481e-05\n",
            "0.002949255362150871\n"
          ]
        }
      ]
    },
    {
      "cell_type": "code",
      "source": [],
      "metadata": {
        "id": "K219cyiYf1uV"
      },
      "execution_count": null,
      "outputs": []
    }
  ]
}